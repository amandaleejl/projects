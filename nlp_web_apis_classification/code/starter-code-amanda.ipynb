{
 "cells": [
  {
   "cell_type": "markdown",
   "metadata": {},
   "source": [
    "# Project 3: Web APIs & Classification"
   ]
  },
  {
   "cell_type": "markdown",
   "metadata": {},
   "source": [
    "## Problem Statement"
   ]
  },
  {
   "cell_type": "markdown",
   "metadata": {},
   "source": [
    "To scrape two subreddits `NoSleep` (fictional horror stories) and `TheTruthIsHere` (true personal encounters with the unknown) through a webscrapper. Through this the scraped data from the two subreddits were passed through separate classification models, **CountVectorizer/TfidVectorizer** with **Bayes Classifier** and **LogisticRegression** that will assign each observation to the most likely class of subreddit. The model should help the data science marketing team identify what makes the respective posts unique.\n",
    "\n",
    "In this process, the subreddit posts will undergo preprocessing and EDA. The success of the model will be determined through the highest accuracy based on the scores obtained. "
   ]
  },
  {
   "cell_type": "markdown",
   "metadata": {},
   "source": [
    "## Executive Summary\n",
    "\n",
    "This Jupyter notebook walks through the clean up of the subreddit datasets and explores various models. \n",
    "\n",
    "**TheTruthIsHere** consist of personal paranormal encounters and has 250 thousand subscribers.\n",
    "**NoSleep** is made up of fictional horror stories and has more than 13.8 million subscribers.  \n",
    "The reddit posts for NoSleep garners tens of thousands of readers in a single day. Coming from the perspective of a marketing company, this would be a good outlet to posts advertisements or market products to the public. The amount of time one spends on the internet reading such posts would definitely be a good area to target. As such, my team would like to identify what attracts viewers to **fictional** horror posts compared to **real** personal paranormal encounters.  \n",
    "\n",
    "Through this we hope to understand the keywords that can help us differentiate the two different subreddit posts and to identify possible keywords that would help make a post more attractive to potential readers as a platform to market products. After all, there is nothing scarier than a true horror story. :') \n",
    "\n",
    "\n",
    "### Contents:\n",
    "- [Data Import & Cleaning](#Data-Import-&-Cleaning)\n",
    "- [Preprocessing](#Preprocessing)\n",
    "- [EDA & Modeling](#EDA-&-Modeling)\n",
    "- [Evaluation and Conceptual Understanding](#Evaluation-and-Conceptual-Understanding)\n",
    "- [Conclusions and Recommendations](#Conclusions-and-Recommendations)"
   ]
  },
  {
   "cell_type": "code",
   "execution_count": 1,
   "metadata": {},
   "outputs": [
    {
     "name": "stdout",
     "output_type": "stream",
     "text": [
      "Requirement already satisfied: matplotlib-venn in /Library/Frameworks/Python.framework/Versions/3.8/lib/python3.8/site-packages (0.11.5)\n",
      "Requirement already satisfied: scipy in /Library/Frameworks/Python.framework/Versions/3.8/lib/python3.8/site-packages (from matplotlib-venn) (1.4.1)\n",
      "Requirement already satisfied: numpy in /Library/Frameworks/Python.framework/Versions/3.8/lib/python3.8/site-packages (from matplotlib-venn) (1.18.1)\n",
      "Requirement already satisfied: matplotlib in /Library/Frameworks/Python.framework/Versions/3.8/lib/python3.8/site-packages (from matplotlib-venn) (3.1.3)\n",
      "Requirement already satisfied: python-dateutil>=2.1 in /Library/Frameworks/Python.framework/Versions/3.8/lib/python3.8/site-packages (from matplotlib->matplotlib-venn) (2.8.1)\n",
      "Requirement already satisfied: cycler>=0.10 in /Library/Frameworks/Python.framework/Versions/3.8/lib/python3.8/site-packages (from matplotlib->matplotlib-venn) (0.10.0)\n",
      "Requirement already satisfied: kiwisolver>=1.0.1 in /Library/Frameworks/Python.framework/Versions/3.8/lib/python3.8/site-packages (from matplotlib->matplotlib-venn) (1.1.0)\n",
      "Requirement already satisfied: pyparsing!=2.0.4,!=2.1.2,!=2.1.6,>=2.0.1 in /Library/Frameworks/Python.framework/Versions/3.8/lib/python3.8/site-packages (from matplotlib->matplotlib-venn) (2.4.6)\n",
      "Requirement already satisfied: six>=1.5 in /Library/Frameworks/Python.framework/Versions/3.8/lib/python3.8/site-packages (from python-dateutil>=2.1->matplotlib->matplotlib-venn) (1.14.0)\n",
      "Requirement already satisfied: setuptools in /Library/Frameworks/Python.framework/Versions/3.8/lib/python3.8/site-packages (from kiwisolver>=1.0.1->matplotlib->matplotlib-venn) (41.2.0)\n",
      "\u001b[33mWARNING: You are using pip version 19.2.3, however version 20.0.2 is available.\n",
      "You should consider upgrading via the 'pip install --upgrade pip' command.\u001b[0m\n"
     ]
    }
   ],
   "source": [
    "# imports:\n",
    "\n",
    "#maths\n",
    "import pandas as pd\n",
    "import numpy as np\n",
    "import scipy.stats as stats\n",
    "\n",
    "#visual\n",
    "import seaborn as sns\n",
    "import matplotlib.pyplot as plt\n",
    "!pip3 install matplotlib-venn\n",
    "from matplotlib_venn import venn2\n",
    "\n",
    "#modelling\n",
    "from sklearn.linear_model import LinearRegression, LogisticRegression\n",
    "from sklearn import linear_model\n",
    "from sklearn.model_selection import train_test_split, cross_val_score, GridSearchCV\n",
    "from sklearn.preprocessing import StandardScaler, PolynomialFeatures\n",
    "from sklearn.linear_model import Ridge, Lasso\n",
    "from sklearn.metrics import r2_score, mean_squared_error, confusion_matrix, accuracy_score, roc_auc_score\n",
    "from sklearn.pipeline import make_pipeline, Pipeline\n",
    "\n",
    "#nlp\n",
    "from sklearn.feature_extraction.text import CountVectorizer, TfidfVectorizer, HashingVectorizer\n",
    "from sklearn.naive_bayes import MultinomialNB\n",
    "from nltk.stem.porter import PorterStemmer\n",
    "from nltk.stem import WordNetLemmatizer\n",
    "from nltk.tokenize import RegexpTokenizer\n",
    "from nltk.corpus import stopwords\n",
    "import re\n",
    "#nltk.download('stopwords')\n",
    "\n",
    "%matplotlib inline"
   ]
  },
  {
   "cell_type": "markdown",
   "metadata": {},
   "source": [
    "## Data Import & Cleaning"
   ]
  },
  {
   "cell_type": "markdown",
   "metadata": {},
   "source": [
    "### Read reddit posts datasets \n",
    "\n",
    "Read in the `nosleep_posts.csv` and `truth_posts.csv` files and assign them to appropriately named pandas dataframes."
   ]
  },
  {
   "cell_type": "code",
   "execution_count": 2,
   "metadata": {},
   "outputs": [],
   "source": [
    "df_nosleep = pd.read_csv('../data/nosleep_posts.csv')\n",
    "df_truth = pd.read_csv('../data/truth_posts.csv')"
   ]
  },
  {
   "cell_type": "markdown",
   "metadata": {},
   "source": [
    "#### Display Data"
   ]
  },
  {
   "cell_type": "code",
   "execution_count": 3,
   "metadata": {
    "scrolled": true
   },
   "outputs": [
    {
     "data": {
      "text/html": [
       "<div>\n",
       "<style scoped>\n",
       "    .dataframe tbody tr th:only-of-type {\n",
       "        vertical-align: middle;\n",
       "    }\n",
       "\n",
       "    .dataframe tbody tr th {\n",
       "        vertical-align: top;\n",
       "    }\n",
       "\n",
       "    .dataframe thead th {\n",
       "        text-align: right;\n",
       "    }\n",
       "</style>\n",
       "<table border=\"1\" class=\"dataframe\">\n",
       "  <thead>\n",
       "    <tr style=\"text-align: right;\">\n",
       "      <th></th>\n",
       "      <th>approved_at_utc</th>\n",
       "      <th>subreddit</th>\n",
       "      <th>selftext</th>\n",
       "      <th>author_fullname</th>\n",
       "      <th>saved</th>\n",
       "      <th>mod_reason_title</th>\n",
       "      <th>gilded</th>\n",
       "      <th>clicked</th>\n",
       "      <th>title</th>\n",
       "      <th>link_flair_richtext</th>\n",
       "      <th>...</th>\n",
       "      <th>parent_whitelist_status</th>\n",
       "      <th>stickied</th>\n",
       "      <th>url</th>\n",
       "      <th>subreddit_subscribers</th>\n",
       "      <th>created_utc</th>\n",
       "      <th>num_crossposts</th>\n",
       "      <th>media</th>\n",
       "      <th>is_video</th>\n",
       "      <th>author_cakeday</th>\n",
       "      <th>link_flair_template_id</th>\n",
       "    </tr>\n",
       "  </thead>\n",
       "  <tbody>\n",
       "    <tr>\n",
       "      <th>0</th>\n",
       "      <td>NaN</td>\n",
       "      <td>nosleep</td>\n",
       "      <td>NaN</td>\n",
       "      <td>t2_c446v4f</td>\n",
       "      <td>False</td>\n",
       "      <td>NaN</td>\n",
       "      <td>0</td>\n",
       "      <td>False</td>\n",
       "      <td>February 2020 contest nominations</td>\n",
       "      <td>[]</td>\n",
       "      <td>...</td>\n",
       "      <td>all_ads</td>\n",
       "      <td>True</td>\n",
       "      <td>https://redd.it/fduax3</td>\n",
       "      <td>13840592</td>\n",
       "      <td>1.583410e+09</td>\n",
       "      <td>0</td>\n",
       "      <td>NaN</td>\n",
       "      <td>False</td>\n",
       "      <td>NaN</td>\n",
       "      <td>NaN</td>\n",
       "    </tr>\n",
       "    <tr>\n",
       "      <th>1</th>\n",
       "      <td>NaN</td>\n",
       "      <td>nosleep</td>\n",
       "      <td>NaN</td>\n",
       "      <td>t2_m297o</td>\n",
       "      <td>False</td>\n",
       "      <td>NaN</td>\n",
       "      <td>0</td>\n",
       "      <td>False</td>\n",
       "      <td>January 2020 Winners!</td>\n",
       "      <td>[]</td>\n",
       "      <td>...</td>\n",
       "      <td>all_ads</td>\n",
       "      <td>True</td>\n",
       "      <td>https://redd.it/fectho</td>\n",
       "      <td>13840592</td>\n",
       "      <td>1.583498e+09</td>\n",
       "      <td>0</td>\n",
       "      <td>NaN</td>\n",
       "      <td>False</td>\n",
       "      <td>True</td>\n",
       "      <td>NaN</td>\n",
       "    </tr>\n",
       "    <tr>\n",
       "      <th>2</th>\n",
       "      <td>NaN</td>\n",
       "      <td>nosleep</td>\n",
       "      <td>I run a private campground.  Though it felt li...</td>\n",
       "      <td>t2_3jjbxvfb</td>\n",
       "      <td>False</td>\n",
       "      <td>NaN</td>\n",
       "      <td>1</td>\n",
       "      <td>False</td>\n",
       "      <td>How to Survive Camping: blood forcibly taken</td>\n",
       "      <td>[]</td>\n",
       "      <td>...</td>\n",
       "      <td>all_ads</td>\n",
       "      <td>False</td>\n",
       "      <td>https://www.reddit.com/r/nosleep/comments/fha5...</td>\n",
       "      <td>13840592</td>\n",
       "      <td>1.583984e+09</td>\n",
       "      <td>0</td>\n",
       "      <td>NaN</td>\n",
       "      <td>False</td>\n",
       "      <td>NaN</td>\n",
       "      <td>8beec82a-dcc1-11e8-a09f-0e09eae1a1c0</td>\n",
       "    </tr>\n",
       "    <tr>\n",
       "      <th>3</th>\n",
       "      <td>NaN</td>\n",
       "      <td>nosleep</td>\n",
       "      <td>42 years, 6 months and 3 days ago, on the 5th ...</td>\n",
       "      <td>t2_20gz4yg3</td>\n",
       "      <td>False</td>\n",
       "      <td>NaN</td>\n",
       "      <td>0</td>\n",
       "      <td>False</td>\n",
       "      <td>42 years ago we sent Voyager 1 into space to l...</td>\n",
       "      <td>[]</td>\n",
       "      <td>...</td>\n",
       "      <td>all_ads</td>\n",
       "      <td>False</td>\n",
       "      <td>https://www.reddit.com/r/nosleep/comments/fgwm...</td>\n",
       "      <td>13840592</td>\n",
       "      <td>1.583931e+09</td>\n",
       "      <td>5</td>\n",
       "      <td>NaN</td>\n",
       "      <td>False</td>\n",
       "      <td>NaN</td>\n",
       "      <td>NaN</td>\n",
       "    </tr>\n",
       "    <tr>\n",
       "      <th>4</th>\n",
       "      <td>NaN</td>\n",
       "      <td>nosleep</td>\n",
       "      <td>My cat is acting a bit… off. She’s a rescue so...</td>\n",
       "      <td>t2_2y34eooe</td>\n",
       "      <td>False</td>\n",
       "      <td>NaN</td>\n",
       "      <td>0</td>\n",
       "      <td>False</td>\n",
       "      <td>There’s something wrong with my cat</td>\n",
       "      <td>[]</td>\n",
       "      <td>...</td>\n",
       "      <td>all_ads</td>\n",
       "      <td>False</td>\n",
       "      <td>https://www.reddit.com/r/nosleep/comments/fh8o...</td>\n",
       "      <td>13840592</td>\n",
       "      <td>1.583978e+09</td>\n",
       "      <td>0</td>\n",
       "      <td>NaN</td>\n",
       "      <td>False</td>\n",
       "      <td>NaN</td>\n",
       "      <td>NaN</td>\n",
       "    </tr>\n",
       "  </tbody>\n",
       "</table>\n",
       "<p>5 rows × 101 columns</p>\n",
       "</div>"
      ],
      "text/plain": [
       "   approved_at_utc subreddit  \\\n",
       "0              NaN   nosleep   \n",
       "1              NaN   nosleep   \n",
       "2              NaN   nosleep   \n",
       "3              NaN   nosleep   \n",
       "4              NaN   nosleep   \n",
       "\n",
       "                                            selftext author_fullname  saved  \\\n",
       "0                                                NaN      t2_c446v4f  False   \n",
       "1                                                NaN        t2_m297o  False   \n",
       "2  I run a private campground.  Though it felt li...     t2_3jjbxvfb  False   \n",
       "3  42 years, 6 months and 3 days ago, on the 5th ...     t2_20gz4yg3  False   \n",
       "4  My cat is acting a bit… off. She’s a rescue so...     t2_2y34eooe  False   \n",
       "\n",
       "   mod_reason_title  gilded  clicked  \\\n",
       "0               NaN       0    False   \n",
       "1               NaN       0    False   \n",
       "2               NaN       1    False   \n",
       "3               NaN       0    False   \n",
       "4               NaN       0    False   \n",
       "\n",
       "                                               title link_flair_richtext  ...  \\\n",
       "0                  February 2020 contest nominations                  []  ...   \n",
       "1                              January 2020 Winners!                  []  ...   \n",
       "2       How to Survive Camping: blood forcibly taken                  []  ...   \n",
       "3  42 years ago we sent Voyager 1 into space to l...                  []  ...   \n",
       "4                There’s something wrong with my cat                  []  ...   \n",
       "\n",
       "  parent_whitelist_status  stickied  \\\n",
       "0                 all_ads      True   \n",
       "1                 all_ads      True   \n",
       "2                 all_ads     False   \n",
       "3                 all_ads     False   \n",
       "4                 all_ads     False   \n",
       "\n",
       "                                                 url subreddit_subscribers  \\\n",
       "0                             https://redd.it/fduax3              13840592   \n",
       "1                             https://redd.it/fectho              13840592   \n",
       "2  https://www.reddit.com/r/nosleep/comments/fha5...              13840592   \n",
       "3  https://www.reddit.com/r/nosleep/comments/fgwm...              13840592   \n",
       "4  https://www.reddit.com/r/nosleep/comments/fh8o...              13840592   \n",
       "\n",
       "    created_utc  num_crossposts media  is_video author_cakeday  \\\n",
       "0  1.583410e+09               0   NaN     False            NaN   \n",
       "1  1.583498e+09               0   NaN     False           True   \n",
       "2  1.583984e+09               0   NaN     False            NaN   \n",
       "3  1.583931e+09               5   NaN     False            NaN   \n",
       "4  1.583978e+09               0   NaN     False            NaN   \n",
       "\n",
       "                 link_flair_template_id  \n",
       "0                                   NaN  \n",
       "1                                   NaN  \n",
       "2  8beec82a-dcc1-11e8-a09f-0e09eae1a1c0  \n",
       "3                                   NaN  \n",
       "4                                   NaN  \n",
       "\n",
       "[5 rows x 101 columns]"
      ]
     },
     "execution_count": 3,
     "metadata": {},
     "output_type": "execute_result"
    }
   ],
   "source": [
    "df_nosleep.head()"
   ]
  },
  {
   "cell_type": "code",
   "execution_count": 4,
   "metadata": {
    "scrolled": true
   },
   "outputs": [
    {
     "data": {
      "text/html": [
       "<div>\n",
       "<style scoped>\n",
       "    .dataframe tbody tr th:only-of-type {\n",
       "        vertical-align: middle;\n",
       "    }\n",
       "\n",
       "    .dataframe tbody tr th {\n",
       "        vertical-align: top;\n",
       "    }\n",
       "\n",
       "    .dataframe thead th {\n",
       "        text-align: right;\n",
       "    }\n",
       "</style>\n",
       "<table border=\"1\" class=\"dataframe\">\n",
       "  <thead>\n",
       "    <tr style=\"text-align: right;\">\n",
       "      <th></th>\n",
       "      <th>approved_at_utc</th>\n",
       "      <th>subreddit</th>\n",
       "      <th>selftext</th>\n",
       "      <th>author_fullname</th>\n",
       "      <th>saved</th>\n",
       "      <th>mod_reason_title</th>\n",
       "      <th>gilded</th>\n",
       "      <th>clicked</th>\n",
       "      <th>title</th>\n",
       "      <th>link_flair_richtext</th>\n",
       "      <th>...</th>\n",
       "      <th>url</th>\n",
       "      <th>subreddit_subscribers</th>\n",
       "      <th>created_utc</th>\n",
       "      <th>num_crossposts</th>\n",
       "      <th>media</th>\n",
       "      <th>is_video</th>\n",
       "      <th>link_flair_template_id</th>\n",
       "      <th>crosspost_parent_list</th>\n",
       "      <th>crosspost_parent</th>\n",
       "      <th>author_cakeday</th>\n",
       "    </tr>\n",
       "  </thead>\n",
       "  <tbody>\n",
       "    <tr>\n",
       "      <th>0</th>\n",
       "      <td>NaN</td>\n",
       "      <td>Thetruthishere</td>\n",
       "      <td>NaN</td>\n",
       "      <td>t2_5io7u7sq</td>\n",
       "      <td>False</td>\n",
       "      <td>NaN</td>\n",
       "      <td>0</td>\n",
       "      <td>False</td>\n",
       "      <td>Does anyone have creepy stories of kids who ac...</td>\n",
       "      <td>[]</td>\n",
       "      <td>...</td>\n",
       "      <td>https://www.reddit.com/r/Thetruthishere/commen...</td>\n",
       "      <td>251167</td>\n",
       "      <td>1.583953e+09</td>\n",
       "      <td>1</td>\n",
       "      <td>NaN</td>\n",
       "      <td>False</td>\n",
       "      <td>NaN</td>\n",
       "      <td>NaN</td>\n",
       "      <td>NaN</td>\n",
       "      <td>NaN</td>\n",
       "    </tr>\n",
       "    <tr>\n",
       "      <th>1</th>\n",
       "      <td>NaN</td>\n",
       "      <td>Thetruthishere</td>\n",
       "      <td>So I had an encounter a few months ago, and I ...</td>\n",
       "      <td>t2_55wshx85</td>\n",
       "      <td>False</td>\n",
       "      <td>NaN</td>\n",
       "      <td>0</td>\n",
       "      <td>False</td>\n",
       "      <td>Weirdos at my door</td>\n",
       "      <td>[]</td>\n",
       "      <td>...</td>\n",
       "      <td>https://www.reddit.com/r/Thetruthishere/commen...</td>\n",
       "      <td>251167</td>\n",
       "      <td>1.583990e+09</td>\n",
       "      <td>0</td>\n",
       "      <td>NaN</td>\n",
       "      <td>False</td>\n",
       "      <td>6cff5974-fd2e-11e3-aaa6-12313d195526</td>\n",
       "      <td>NaN</td>\n",
       "      <td>NaN</td>\n",
       "      <td>NaN</td>\n",
       "    </tr>\n",
       "    <tr>\n",
       "      <th>2</th>\n",
       "      <td>NaN</td>\n",
       "      <td>Thetruthishere</td>\n",
       "      <td>This happened a few years ago on a camping tri...</td>\n",
       "      <td>t2_2oxzxplm</td>\n",
       "      <td>False</td>\n",
       "      <td>NaN</td>\n",
       "      <td>0</td>\n",
       "      <td>False</td>\n",
       "      <td>Weird Light Outside Tent, Scratches</td>\n",
       "      <td>[]</td>\n",
       "      <td>...</td>\n",
       "      <td>https://www.reddit.com/r/Thetruthishere/commen...</td>\n",
       "      <td>251167</td>\n",
       "      <td>1.583973e+09</td>\n",
       "      <td>0</td>\n",
       "      <td>NaN</td>\n",
       "      <td>False</td>\n",
       "      <td>2f0bf47e-fd2e-11e3-94b9-12313b0e9a90</td>\n",
       "      <td>NaN</td>\n",
       "      <td>NaN</td>\n",
       "      <td>NaN</td>\n",
       "    </tr>\n",
       "    <tr>\n",
       "      <th>3</th>\n",
       "      <td>NaN</td>\n",
       "      <td>Thetruthishere</td>\n",
       "      <td>Some odd things have been happening to me late...</td>\n",
       "      <td>t2_3q90u5ik</td>\n",
       "      <td>False</td>\n",
       "      <td>NaN</td>\n",
       "      <td>0</td>\n",
       "      <td>False</td>\n",
       "      <td>What is going on?</td>\n",
       "      <td>[]</td>\n",
       "      <td>...</td>\n",
       "      <td>https://www.reddit.com/r/Thetruthishere/commen...</td>\n",
       "      <td>251167</td>\n",
       "      <td>1.583983e+09</td>\n",
       "      <td>0</td>\n",
       "      <td>NaN</td>\n",
       "      <td>False</td>\n",
       "      <td>NaN</td>\n",
       "      <td>NaN</td>\n",
       "      <td>NaN</td>\n",
       "      <td>NaN</td>\n",
       "    </tr>\n",
       "    <tr>\n",
       "      <th>4</th>\n",
       "      <td>NaN</td>\n",
       "      <td>Thetruthishere</td>\n",
       "      <td>I believe in the paranormal, but with a health...</td>\n",
       "      <td>t2_ytz8j</td>\n",
       "      <td>False</td>\n",
       "      <td>NaN</td>\n",
       "      <td>0</td>\n",
       "      <td>False</td>\n",
       "      <td>Something Else in the House</td>\n",
       "      <td>[]</td>\n",
       "      <td>...</td>\n",
       "      <td>https://www.reddit.com/r/Thetruthishere/commen...</td>\n",
       "      <td>251167</td>\n",
       "      <td>1.583937e+09</td>\n",
       "      <td>0</td>\n",
       "      <td>NaN</td>\n",
       "      <td>False</td>\n",
       "      <td>NaN</td>\n",
       "      <td>NaN</td>\n",
       "      <td>NaN</td>\n",
       "      <td>NaN</td>\n",
       "    </tr>\n",
       "  </tbody>\n",
       "</table>\n",
       "<p>5 rows × 103 columns</p>\n",
       "</div>"
      ],
      "text/plain": [
       "   approved_at_utc       subreddit  \\\n",
       "0              NaN  Thetruthishere   \n",
       "1              NaN  Thetruthishere   \n",
       "2              NaN  Thetruthishere   \n",
       "3              NaN  Thetruthishere   \n",
       "4              NaN  Thetruthishere   \n",
       "\n",
       "                                            selftext author_fullname  saved  \\\n",
       "0                                                NaN     t2_5io7u7sq  False   \n",
       "1  So I had an encounter a few months ago, and I ...     t2_55wshx85  False   \n",
       "2  This happened a few years ago on a camping tri...     t2_2oxzxplm  False   \n",
       "3  Some odd things have been happening to me late...     t2_3q90u5ik  False   \n",
       "4  I believe in the paranormal, but with a health...        t2_ytz8j  False   \n",
       "\n",
       "   mod_reason_title  gilded  clicked  \\\n",
       "0               NaN       0    False   \n",
       "1               NaN       0    False   \n",
       "2               NaN       0    False   \n",
       "3               NaN       0    False   \n",
       "4               NaN       0    False   \n",
       "\n",
       "                                               title link_flair_richtext  ...  \\\n",
       "0  Does anyone have creepy stories of kids who ac...                  []  ...   \n",
       "1                                 Weirdos at my door                  []  ...   \n",
       "2                Weird Light Outside Tent, Scratches                  []  ...   \n",
       "3                                  What is going on?                  []  ...   \n",
       "4                        Something Else in the House                  []  ...   \n",
       "\n",
       "                                                 url  subreddit_subscribers  \\\n",
       "0  https://www.reddit.com/r/Thetruthishere/commen...                 251167   \n",
       "1  https://www.reddit.com/r/Thetruthishere/commen...                 251167   \n",
       "2  https://www.reddit.com/r/Thetruthishere/commen...                 251167   \n",
       "3  https://www.reddit.com/r/Thetruthishere/commen...                 251167   \n",
       "4  https://www.reddit.com/r/Thetruthishere/commen...                 251167   \n",
       "\n",
       "    created_utc num_crossposts  media  is_video  \\\n",
       "0  1.583953e+09              1    NaN     False   \n",
       "1  1.583990e+09              0    NaN     False   \n",
       "2  1.583973e+09              0    NaN     False   \n",
       "3  1.583983e+09              0    NaN     False   \n",
       "4  1.583937e+09              0    NaN     False   \n",
       "\n",
       "                 link_flair_template_id  crosspost_parent_list  \\\n",
       "0                                   NaN                    NaN   \n",
       "1  6cff5974-fd2e-11e3-aaa6-12313d195526                    NaN   \n",
       "2  2f0bf47e-fd2e-11e3-94b9-12313b0e9a90                    NaN   \n",
       "3                                   NaN                    NaN   \n",
       "4                                   NaN                    NaN   \n",
       "\n",
       "  crosspost_parent  author_cakeday  \n",
       "0              NaN             NaN  \n",
       "1              NaN             NaN  \n",
       "2              NaN             NaN  \n",
       "3              NaN             NaN  \n",
       "4              NaN             NaN  \n",
       "\n",
       "[5 rows x 103 columns]"
      ]
     },
     "execution_count": 4,
     "metadata": {},
     "output_type": "execute_result"
    }
   ],
   "source": [
    "df_truth.head()"
   ]
  },
  {
   "cell_type": "code",
   "execution_count": 5,
   "metadata": {},
   "outputs": [
    {
     "name": "stdout",
     "output_type": "stream",
     "text": [
      "Index(['approved_at_utc', 'subreddit', 'selftext', 'author_fullname', 'saved',\n",
      "       'mod_reason_title', 'gilded', 'clicked', 'title', 'link_flair_richtext',\n",
      "       ...\n",
      "       'parent_whitelist_status', 'stickied', 'url', 'subreddit_subscribers',\n",
      "       'created_utc', 'num_crossposts', 'media', 'is_video', 'author_cakeday',\n",
      "       'link_flair_template_id'],\n",
      "      dtype='object', length=101)\n",
      "Index(['approved_at_utc', 'subreddit', 'selftext', 'author_fullname', 'saved',\n",
      "       'mod_reason_title', 'gilded', 'clicked', 'title', 'link_flair_richtext',\n",
      "       ...\n",
      "       'url', 'subreddit_subscribers', 'created_utc', 'num_crossposts',\n",
      "       'media', 'is_video', 'link_flair_template_id', 'crosspost_parent_list',\n",
      "       'crosspost_parent', 'author_cakeday'],\n",
      "      dtype='object', length=103)\n"
     ]
    }
   ],
   "source": [
    "print(df_nosleep.columns)\n",
    "print(df_truth.columns)"
   ]
  },
  {
   "cell_type": "code",
   "execution_count": 6,
   "metadata": {},
   "outputs": [],
   "source": [
    "# keep only necessary columns\n",
    "\n",
    "cols = ['name','title','selftext', 'subreddit']\n",
    "df_nosleep = df_nosleep[cols]\n",
    "df_truth = df_truth[cols]"
   ]
  },
  {
   "cell_type": "code",
   "execution_count": 7,
   "metadata": {},
   "outputs": [],
   "source": [
    "# combine the title and selftext to create a new column\n",
    "\n",
    "df_nosleep['combined'] = df_nosleep['title'] + df_nosleep['selftext']\n",
    "df_truth['combined'] = df_truth['title'] + df_truth['selftext']"
   ]
  },
  {
   "cell_type": "code",
   "execution_count": 8,
   "metadata": {
    "scrolled": true
   },
   "outputs": [],
   "source": [
    "# to read just neccessary columns\n",
    "cols = ['name', 'combined', 'subreddit']\n",
    "df_nosleep = df_nosleep[cols]\n",
    "df_truth = df_truth[cols]"
   ]
  },
  {
   "cell_type": "markdown",
   "metadata": {},
   "source": [
    "### Data cleaning: Initial check\n",
    "---\n",
    "\n",
    "Check the following in the cells below:\n",
    "1. Do we have any null values?\n",
    "2. Are any numerical columns being read wrongly?"
   ]
  },
  {
   "cell_type": "code",
   "execution_count": 9,
   "metadata": {},
   "outputs": [
    {
     "data": {
      "text/plain": [
       "name         0\n",
       "combined     4\n",
       "subreddit    0\n",
       "dtype: int64"
      ]
     },
     "execution_count": 9,
     "metadata": {},
     "output_type": "execute_result"
    }
   ],
   "source": [
    "# Check for nosleep nulls\n",
    "df_nosleep.isnull().sum()"
   ]
  },
  {
   "cell_type": "code",
   "execution_count": 10,
   "metadata": {
    "scrolled": false
   },
   "outputs": [
    {
     "name": "stdout",
     "output_type": "stream",
     "text": [
      "<class 'pandas.core.frame.DataFrame'>\n",
      "RangeIndex: 988 entries, 0 to 987\n",
      "Data columns (total 3 columns):\n",
      " #   Column     Non-Null Count  Dtype \n",
      "---  ------     --------------  ----- \n",
      " 0   name       988 non-null    object\n",
      " 1   combined   984 non-null    object\n",
      " 2   subreddit  988 non-null    object\n",
      "dtypes: object(3)\n",
      "memory usage: 23.3+ KB\n"
     ]
    }
   ],
   "source": [
    "# Info for nosleep posts\n",
    "df_nosleep.info()"
   ]
  },
  {
   "cell_type": "code",
   "execution_count": 11,
   "metadata": {
    "scrolled": true
   },
   "outputs": [
    {
     "data": {
      "text/plain": [
       "name          0\n",
       "combined     66\n",
       "subreddit     0\n",
       "dtype: int64"
      ]
     },
     "execution_count": 11,
     "metadata": {},
     "output_type": "execute_result"
    }
   ],
   "source": [
    "# Check for truth posts\n",
    "df_truth.isnull().sum()"
   ]
  },
  {
   "cell_type": "code",
   "execution_count": 12,
   "metadata": {
    "scrolled": true
   },
   "outputs": [
    {
     "name": "stdout",
     "output_type": "stream",
     "text": [
      "<class 'pandas.core.frame.DataFrame'>\n",
      "RangeIndex: 997 entries, 0 to 996\n",
      "Data columns (total 3 columns):\n",
      " #   Column     Non-Null Count  Dtype \n",
      "---  ------     --------------  ----- \n",
      " 0   name       997 non-null    object\n",
      " 1   combined   931 non-null    object\n",
      " 2   subreddit  997 non-null    object\n",
      "dtypes: object(3)\n",
      "memory usage: 23.5+ KB\n"
     ]
    }
   ],
   "source": [
    "# Info for nosleep posts\n",
    "df_truth.info()"
   ]
  },
  {
   "cell_type": "markdown",
   "metadata": {},
   "source": [
    "### Data cleaning: Null Values\n",
    "\n",
    "Looking at null and missing values."
   ]
  },
  {
   "cell_type": "code",
   "execution_count": 13,
   "metadata": {
    "scrolled": false
   },
   "outputs": [
    {
     "data": {
      "text/html": [
       "<div>\n",
       "<style scoped>\n",
       "    .dataframe tbody tr th:only-of-type {\n",
       "        vertical-align: middle;\n",
       "    }\n",
       "\n",
       "    .dataframe tbody tr th {\n",
       "        vertical-align: top;\n",
       "    }\n",
       "\n",
       "    .dataframe thead th {\n",
       "        text-align: right;\n",
       "    }\n",
       "</style>\n",
       "<table border=\"1\" class=\"dataframe\">\n",
       "  <thead>\n",
       "    <tr style=\"text-align: right;\">\n",
       "      <th></th>\n",
       "      <th>Count</th>\n",
       "    </tr>\n",
       "  </thead>\n",
       "  <tbody>\n",
       "    <tr>\n",
       "      <th>combined</th>\n",
       "      <td>4</td>\n",
       "    </tr>\n",
       "    <tr>\n",
       "      <th>subreddit</th>\n",
       "      <td>0</td>\n",
       "    </tr>\n",
       "    <tr>\n",
       "      <th>name</th>\n",
       "      <td>0</td>\n",
       "    </tr>\n",
       "  </tbody>\n",
       "</table>\n",
       "</div>"
      ],
      "text/plain": [
       "           Count\n",
       "combined       4\n",
       "subreddit      0\n",
       "name           0"
      ]
     },
     "execution_count": 13,
     "metadata": {},
     "output_type": "execute_result"
    }
   ],
   "source": [
    "# View nosleep columns with the most null values\n",
    "\n",
    "null_values_nosleep = pd.DataFrame(df_nosleep.isnull().sum().sort_values(ascending = False))\n",
    "null_values_nosleep.columns = ['Count']\n",
    "null_values_nosleep.head()"
   ]
  },
  {
   "cell_type": "markdown",
   "metadata": {},
   "source": [
    "Columns are null as they do not contain any text within, thus we will drop these rows."
   ]
  },
  {
   "cell_type": "code",
   "execution_count": 14,
   "metadata": {
    "scrolled": true
   },
   "outputs": [],
   "source": [
    "# Drop null columns\n",
    "\n",
    "df_nosleep = df_nosleep.dropna(axis=0)"
   ]
  },
  {
   "cell_type": "code",
   "execution_count": 15,
   "metadata": {},
   "outputs": [
    {
     "data": {
      "text/html": [
       "<div>\n",
       "<style scoped>\n",
       "    .dataframe tbody tr th:only-of-type {\n",
       "        vertical-align: middle;\n",
       "    }\n",
       "\n",
       "    .dataframe tbody tr th {\n",
       "        vertical-align: top;\n",
       "    }\n",
       "\n",
       "    .dataframe thead th {\n",
       "        text-align: right;\n",
       "    }\n",
       "</style>\n",
       "<table border=\"1\" class=\"dataframe\">\n",
       "  <thead>\n",
       "    <tr style=\"text-align: right;\">\n",
       "      <th></th>\n",
       "      <th>Count</th>\n",
       "    </tr>\n",
       "  </thead>\n",
       "  <tbody>\n",
       "    <tr>\n",
       "      <th>combined</th>\n",
       "      <td>66</td>\n",
       "    </tr>\n",
       "    <tr>\n",
       "      <th>subreddit</th>\n",
       "      <td>0</td>\n",
       "    </tr>\n",
       "    <tr>\n",
       "      <th>name</th>\n",
       "      <td>0</td>\n",
       "    </tr>\n",
       "  </tbody>\n",
       "</table>\n",
       "</div>"
      ],
      "text/plain": [
       "           Count\n",
       "combined      66\n",
       "subreddit      0\n",
       "name           0"
      ]
     },
     "execution_count": 15,
     "metadata": {},
     "output_type": "execute_result"
    }
   ],
   "source": [
    "# View truth columns with the most null values\n",
    "\n",
    "null_values_truth = pd.DataFrame(df_truth.isnull().sum().sort_values(ascending = False))\n",
    "null_values_truth.columns = ['Count']\n",
    "null_values_truth.head()"
   ]
  },
  {
   "cell_type": "code",
   "execution_count": 16,
   "metadata": {},
   "outputs": [],
   "source": [
    "# Drop null columns\n",
    "\n",
    "df_truth = df_truth.dropna(axis=0)"
   ]
  },
  {
   "cell_type": "code",
   "execution_count": 17,
   "metadata": {
    "scrolled": false
   },
   "outputs": [],
   "source": [
    "#remove duplicates\n",
    "\n",
    "df_nosleep.drop_duplicates(subset = 'name', inplace = True)\n",
    "df_truth.drop_duplicates(subset = 'name', inplace = True)"
   ]
  },
  {
   "cell_type": "code",
   "execution_count": 18,
   "metadata": {},
   "outputs": [
    {
     "name": "stdout",
     "output_type": "stream",
     "text": [
      "784\n",
      "931\n"
     ]
    }
   ],
   "source": [
    "print(len(df_nosleep))\n",
    "print(len(df_truth))"
   ]
  },
  {
   "cell_type": "markdown",
   "metadata": {},
   "source": [
    "## Preprocessing\n",
    "\n",
    "When dealing with text data, there are some common pre-processing steps we might use. Here we will use `Regex`, `Stop Words`,`Lemmatizing` to 'clean' the text data."
   ]
  },
  {
   "cell_type": "code",
   "execution_count": 19,
   "metadata": {},
   "outputs": [],
   "source": [
    "lemmatizer = WordNetLemmatizer()"
   ]
  },
  {
   "cell_type": "code",
   "execution_count": 20,
   "metadata": {},
   "outputs": [],
   "source": [
    "def clean_text(text):\n",
    "    # Function to convert a raw string of text to a string of words\n",
    "    # The input is a single string (a raw unprocessed text), and \n",
    "    # the output is a single string (a preprocessed text)\n",
    "    \n",
    "    # Remove non-letters.\n",
    "    letters_only = re.sub(r'https?:\\/\\/.*\\/\\w*', '', text) # Remove hyperlinks \n",
    "    letters_only = re.sub(\"[^a-zA-Z]\", \" \", letters_only)\n",
    "  \n",
    "    # Convert to lower case, split into individual words.\n",
    "    words = letters_only.lower().split()\n",
    "    \n",
    "    # Lemmatize words.\n",
    "    lemmed_words = [lemmatizer.lemmatize(i) for i in words]\n",
    "    \n",
    "    # In Python, searching a set is much faster than searching\n",
    "    # a list, so convert the stop words to a set.\n",
    "    stops = set(stopwords.words('english'))\n",
    "    \n",
    "    # Remove stop words.\n",
    "    meaningful_words = [w for w in lemmed_words if not w in stops]\n",
    "    \n",
    "    # Join the words back into one string separated by space, \n",
    "    # and return the result.\n",
    "    return(\" \".join(meaningful_words))"
   ]
  },
  {
   "cell_type": "code",
   "execution_count": 21,
   "metadata": {},
   "outputs": [],
   "source": [
    "# create for loop for cleaning data\n",
    "clean_nosleep = []\n",
    "clean_truth = []\n",
    "\n",
    "for i in df_nosleep.combined:\n",
    "    clean_nosleep.append(clean_text(i))\n",
    "    \n",
    "for i in df_truth.combined:\n",
    "    clean_truth.append(clean_text(i))"
   ]
  },
  {
   "cell_type": "code",
   "execution_count": 22,
   "metadata": {
    "scrolled": false
   },
   "outputs": [],
   "source": [
    "# put in clean data into dataframe\n",
    "df_nosleep.combined = clean_nosleep\n",
    "df_truth.combined = clean_truth"
   ]
  },
  {
   "cell_type": "code",
   "execution_count": 23,
   "metadata": {},
   "outputs": [
    {
     "data": {
      "text/html": [
       "<div>\n",
       "<style scoped>\n",
       "    .dataframe tbody tr th:only-of-type {\n",
       "        vertical-align: middle;\n",
       "    }\n",
       "\n",
       "    .dataframe tbody tr th {\n",
       "        vertical-align: top;\n",
       "    }\n",
       "\n",
       "    .dataframe thead th {\n",
       "        text-align: right;\n",
       "    }\n",
       "</style>\n",
       "<table border=\"1\" class=\"dataframe\">\n",
       "  <thead>\n",
       "    <tr style=\"text-align: right;\">\n",
       "      <th></th>\n",
       "      <th>name</th>\n",
       "      <th>combined</th>\n",
       "      <th>subreddit</th>\n",
       "    </tr>\n",
       "  </thead>\n",
       "  <tbody>\n",
       "    <tr>\n",
       "      <th>2</th>\n",
       "      <td>t3_fha5qz</td>\n",
       "      <td>survive camping blood forcibly takeni run priv...</td>\n",
       "      <td>nosleep</td>\n",
       "    </tr>\n",
       "    <tr>\n",
       "      <th>3</th>\n",
       "      <td>t3_fgwmy3</td>\n",
       "      <td>year ago sent voyager space look extraterrestr...</td>\n",
       "      <td>nosleep</td>\n",
       "    </tr>\n",
       "    <tr>\n",
       "      <th>4</th>\n",
       "      <td>t3_fh8ovn</td>\n",
       "      <td>something wrong catmy cat acting bit rescue co...</td>\n",
       "      <td>nosleep</td>\n",
       "    </tr>\n",
       "    <tr>\n",
       "      <th>5</th>\n",
       "      <td>t3_fh4nc9</td>\n",
       "      <td>wa legally dead four minute heaven hell saw th...</td>\n",
       "      <td>nosleep</td>\n",
       "    </tr>\n",
       "    <tr>\n",
       "      <th>6</th>\n",
       "      <td>t3_fguqho</td>\n",
       "      <td>gain six inch le hoursamy kitchen witch least ...</td>\n",
       "      <td>nosleep</td>\n",
       "    </tr>\n",
       "  </tbody>\n",
       "</table>\n",
       "</div>"
      ],
      "text/plain": [
       "        name                                           combined subreddit\n",
       "2  t3_fha5qz  survive camping blood forcibly takeni run priv...   nosleep\n",
       "3  t3_fgwmy3  year ago sent voyager space look extraterrestr...   nosleep\n",
       "4  t3_fh8ovn  something wrong catmy cat acting bit rescue co...   nosleep\n",
       "5  t3_fh4nc9  wa legally dead four minute heaven hell saw th...   nosleep\n",
       "6  t3_fguqho  gain six inch le hoursamy kitchen witch least ...   nosleep"
      ]
     },
     "execution_count": 23,
     "metadata": {},
     "output_type": "execute_result"
    }
   ],
   "source": [
    "# look at clean df_nosleep\n",
    "df_nosleep.head()"
   ]
  },
  {
   "cell_type": "code",
   "execution_count": 24,
   "metadata": {},
   "outputs": [
    {
     "data": {
      "text/html": [
       "<div>\n",
       "<style scoped>\n",
       "    .dataframe tbody tr th:only-of-type {\n",
       "        vertical-align: middle;\n",
       "    }\n",
       "\n",
       "    .dataframe tbody tr th {\n",
       "        vertical-align: top;\n",
       "    }\n",
       "\n",
       "    .dataframe thead th {\n",
       "        text-align: right;\n",
       "    }\n",
       "</style>\n",
       "<table border=\"1\" class=\"dataframe\">\n",
       "  <thead>\n",
       "    <tr style=\"text-align: right;\">\n",
       "      <th></th>\n",
       "      <th>name</th>\n",
       "      <th>combined</th>\n",
       "      <th>subreddit</th>\n",
       "    </tr>\n",
       "  </thead>\n",
       "  <tbody>\n",
       "    <tr>\n",
       "      <th>1</th>\n",
       "      <td>t3_fhb6jx</td>\n",
       "      <td>weirdo doorso encounter month ago feel like ma...</td>\n",
       "      <td>Thetruthishere</td>\n",
       "    </tr>\n",
       "    <tr>\n",
       "      <th>2</th>\n",
       "      <td>t3_fh7ek7</td>\n",
       "      <td>weird light outside tent scratchesthis happene...</td>\n",
       "      <td>Thetruthishere</td>\n",
       "    </tr>\n",
       "    <tr>\n",
       "      <th>3</th>\n",
       "      <td>t3_fh9smp</td>\n",
       "      <td>going odd thing happening lately lately shower...</td>\n",
       "      <td>Thetruthishere</td>\n",
       "    </tr>\n",
       "    <tr>\n",
       "      <th>4</th>\n",
       "      <td>t3_fgxzbp</td>\n",
       "      <td>something else housei believe paranormal healt...</td>\n",
       "      <td>Thetruthishere</td>\n",
       "    </tr>\n",
       "    <tr>\n",
       "      <th>5</th>\n",
       "      <td>t3_fh3htb</td>\n",
       "      <td>ancient wise woman television wa fourteen mum ...</td>\n",
       "      <td>Thetruthishere</td>\n",
       "    </tr>\n",
       "  </tbody>\n",
       "</table>\n",
       "</div>"
      ],
      "text/plain": [
       "        name                                           combined  \\\n",
       "1  t3_fhb6jx  weirdo doorso encounter month ago feel like ma...   \n",
       "2  t3_fh7ek7  weird light outside tent scratchesthis happene...   \n",
       "3  t3_fh9smp  going odd thing happening lately lately shower...   \n",
       "4  t3_fgxzbp  something else housei believe paranormal healt...   \n",
       "5  t3_fh3htb  ancient wise woman television wa fourteen mum ...   \n",
       "\n",
       "        subreddit  \n",
       "1  Thetruthishere  \n",
       "2  Thetruthishere  \n",
       "3  Thetruthishere  \n",
       "4  Thetruthishere  \n",
       "5  Thetruthishere  "
      ]
     },
     "execution_count": 24,
     "metadata": {},
     "output_type": "execute_result"
    }
   ],
   "source": [
    "# look at clean df_truth\n",
    "df_truth.head()"
   ]
  },
  {
   "cell_type": "code",
   "execution_count": 25,
   "metadata": {},
   "outputs": [],
   "source": [
    "# output nosleep to csv\n",
    "\n",
    "df_nosleep.to_csv('../data/nosleep_clean.csv', index = False)"
   ]
  },
  {
   "cell_type": "code",
   "execution_count": 26,
   "metadata": {},
   "outputs": [],
   "source": [
    "# output nosleep to csv\n",
    "\n",
    "df_truth.to_csv('../data/truth_clean.csv', index= False)"
   ]
  },
  {
   "cell_type": "markdown",
   "metadata": {},
   "source": [
    "## EDA & Modeling"
   ]
  },
  {
   "cell_type": "code",
   "execution_count": 27,
   "metadata": {},
   "outputs": [],
   "source": [
    "df_nosleep_clean = pd.read_csv('../data/nosleep_clean.csv')"
   ]
  },
  {
   "cell_type": "code",
   "execution_count": 28,
   "metadata": {},
   "outputs": [
    {
     "data": {
      "text/html": [
       "<div>\n",
       "<style scoped>\n",
       "    .dataframe tbody tr th:only-of-type {\n",
       "        vertical-align: middle;\n",
       "    }\n",
       "\n",
       "    .dataframe tbody tr th {\n",
       "        vertical-align: top;\n",
       "    }\n",
       "\n",
       "    .dataframe thead th {\n",
       "        text-align: right;\n",
       "    }\n",
       "</style>\n",
       "<table border=\"1\" class=\"dataframe\">\n",
       "  <thead>\n",
       "    <tr style=\"text-align: right;\">\n",
       "      <th></th>\n",
       "      <th>name</th>\n",
       "      <th>combined</th>\n",
       "      <th>subreddit</th>\n",
       "    </tr>\n",
       "  </thead>\n",
       "  <tbody>\n",
       "    <tr>\n",
       "      <th>0</th>\n",
       "      <td>t3_fha5qz</td>\n",
       "      <td>survive camping blood forcibly takeni run priv...</td>\n",
       "      <td>nosleep</td>\n",
       "    </tr>\n",
       "    <tr>\n",
       "      <th>1</th>\n",
       "      <td>t3_fgwmy3</td>\n",
       "      <td>year ago sent voyager space look extraterrestr...</td>\n",
       "      <td>nosleep</td>\n",
       "    </tr>\n",
       "    <tr>\n",
       "      <th>2</th>\n",
       "      <td>t3_fh8ovn</td>\n",
       "      <td>something wrong catmy cat acting bit rescue co...</td>\n",
       "      <td>nosleep</td>\n",
       "    </tr>\n",
       "    <tr>\n",
       "      <th>3</th>\n",
       "      <td>t3_fh4nc9</td>\n",
       "      <td>wa legally dead four minute heaven hell saw th...</td>\n",
       "      <td>nosleep</td>\n",
       "    </tr>\n",
       "    <tr>\n",
       "      <th>4</th>\n",
       "      <td>t3_fguqho</td>\n",
       "      <td>gain six inch le hoursamy kitchen witch least ...</td>\n",
       "      <td>nosleep</td>\n",
       "    </tr>\n",
       "    <tr>\n",
       "      <th>...</th>\n",
       "      <td>...</td>\n",
       "      <td>...</td>\n",
       "      <td>...</td>\n",
       "    </tr>\n",
       "    <tr>\n",
       "      <th>779</th>\n",
       "      <td>t3_fcfnd7</td>\n",
       "      <td>atomic death tax found following written roll ...</td>\n",
       "      <td>nosleep</td>\n",
       "    </tr>\n",
       "    <tr>\n",
       "      <th>780</th>\n",
       "      <td>t3_fc8gil</td>\n",
       "      <td>girlfriend ha acting strangely today girlfrien...</td>\n",
       "      <td>nosleep</td>\n",
       "    </tr>\n",
       "    <tr>\n",
       "      <th>781</th>\n",
       "      <td>t3_f8lqky</td>\n",
       "      <td>strange tale island hospital part part several...</td>\n",
       "      <td>nosleep</td>\n",
       "    </tr>\n",
       "    <tr>\n",
       "      <th>782</th>\n",
       "      <td>t3_f86drm</td>\n",
       "      <td>every day someone world go missing next part u...</td>\n",
       "      <td>nosleep</td>\n",
       "    </tr>\n",
       "    <tr>\n",
       "      <th>783</th>\n",
       "      <td>t3_f801sd</td>\n",
       "      <td>northern light never ever drive road wa first ...</td>\n",
       "      <td>nosleep</td>\n",
       "    </tr>\n",
       "  </tbody>\n",
       "</table>\n",
       "<p>784 rows × 3 columns</p>\n",
       "</div>"
      ],
      "text/plain": [
       "          name                                           combined subreddit\n",
       "0    t3_fha5qz  survive camping blood forcibly takeni run priv...   nosleep\n",
       "1    t3_fgwmy3  year ago sent voyager space look extraterrestr...   nosleep\n",
       "2    t3_fh8ovn  something wrong catmy cat acting bit rescue co...   nosleep\n",
       "3    t3_fh4nc9  wa legally dead four minute heaven hell saw th...   nosleep\n",
       "4    t3_fguqho  gain six inch le hoursamy kitchen witch least ...   nosleep\n",
       "..         ...                                                ...       ...\n",
       "779  t3_fcfnd7  atomic death tax found following written roll ...   nosleep\n",
       "780  t3_fc8gil  girlfriend ha acting strangely today girlfrien...   nosleep\n",
       "781  t3_f8lqky  strange tale island hospital part part several...   nosleep\n",
       "782  t3_f86drm  every day someone world go missing next part u...   nosleep\n",
       "783  t3_f801sd  northern light never ever drive road wa first ...   nosleep\n",
       "\n",
       "[784 rows x 3 columns]"
      ]
     },
     "execution_count": 28,
     "metadata": {},
     "output_type": "execute_result"
    }
   ],
   "source": [
    "df_nosleep_clean"
   ]
  },
  {
   "cell_type": "code",
   "execution_count": 29,
   "metadata": {},
   "outputs": [],
   "source": [
    "df_truth_clean = pd.read_csv('../data/truth_clean.csv')"
   ]
  },
  {
   "cell_type": "code",
   "execution_count": 30,
   "metadata": {
    "scrolled": false
   },
   "outputs": [
    {
     "data": {
      "text/html": [
       "<div>\n",
       "<style scoped>\n",
       "    .dataframe tbody tr th:only-of-type {\n",
       "        vertical-align: middle;\n",
       "    }\n",
       "\n",
       "    .dataframe tbody tr th {\n",
       "        vertical-align: top;\n",
       "    }\n",
       "\n",
       "    .dataframe thead th {\n",
       "        text-align: right;\n",
       "    }\n",
       "</style>\n",
       "<table border=\"1\" class=\"dataframe\">\n",
       "  <thead>\n",
       "    <tr style=\"text-align: right;\">\n",
       "      <th></th>\n",
       "      <th>name</th>\n",
       "      <th>combined</th>\n",
       "      <th>subreddit</th>\n",
       "    </tr>\n",
       "  </thead>\n",
       "  <tbody>\n",
       "    <tr>\n",
       "      <th>0</th>\n",
       "      <td>t3_fhb6jx</td>\n",
       "      <td>weirdo doorso encounter month ago feel like ma...</td>\n",
       "      <td>Thetruthishere</td>\n",
       "    </tr>\n",
       "    <tr>\n",
       "      <th>1</th>\n",
       "      <td>t3_fh7ek7</td>\n",
       "      <td>weird light outside tent scratchesthis happene...</td>\n",
       "      <td>Thetruthishere</td>\n",
       "    </tr>\n",
       "    <tr>\n",
       "      <th>2</th>\n",
       "      <td>t3_fh9smp</td>\n",
       "      <td>going odd thing happening lately lately shower...</td>\n",
       "      <td>Thetruthishere</td>\n",
       "    </tr>\n",
       "    <tr>\n",
       "      <th>3</th>\n",
       "      <td>t3_fgxzbp</td>\n",
       "      <td>something else housei believe paranormal healt...</td>\n",
       "      <td>Thetruthishere</td>\n",
       "    </tr>\n",
       "    <tr>\n",
       "      <th>4</th>\n",
       "      <td>t3_fh3htb</td>\n",
       "      <td>ancient wise woman television wa fourteen mum ...</td>\n",
       "      <td>Thetruthishere</td>\n",
       "    </tr>\n",
       "    <tr>\n",
       "      <th>...</th>\n",
       "      <td>...</td>\n",
       "      <td>...</td>\n",
       "      <td>...</td>\n",
       "    </tr>\n",
       "    <tr>\n",
       "      <th>926</th>\n",
       "      <td>t3_dttui5</td>\n",
       "      <td>strange beam sky number year ago went pick sis...</td>\n",
       "      <td>Thetruthishere</td>\n",
       "    </tr>\n",
       "    <tr>\n",
       "      <th>927</th>\n",
       "      <td>t3_dtjcyw</td>\n",
       "      <td>yellow glowstick figure happened year back wa ...</td>\n",
       "      <td>Thetruthishere</td>\n",
       "    </tr>\n",
       "    <tr>\n",
       "      <th>928</th>\n",
       "      <td>t3_dtsh0v</td>\n",
       "      <td>help pleasei saw dream today statue figure ang...</td>\n",
       "      <td>Thetruthishere</td>\n",
       "    </tr>\n",
       "    <tr>\n",
       "      <th>929</th>\n",
       "      <td>t3_dtmkol</td>\n",
       "      <td>text message sideokay heard happen anyone cann...</td>\n",
       "      <td>Thetruthishere</td>\n",
       "    </tr>\n",
       "    <tr>\n",
       "      <th>930</th>\n",
       "      <td>t3_dtlqfe</td>\n",
       "      <td>see snapchat say far back wa kid snapchat earl...</td>\n",
       "      <td>Thetruthishere</td>\n",
       "    </tr>\n",
       "  </tbody>\n",
       "</table>\n",
       "<p>931 rows × 3 columns</p>\n",
       "</div>"
      ],
      "text/plain": [
       "          name                                           combined  \\\n",
       "0    t3_fhb6jx  weirdo doorso encounter month ago feel like ma...   \n",
       "1    t3_fh7ek7  weird light outside tent scratchesthis happene...   \n",
       "2    t3_fh9smp  going odd thing happening lately lately shower...   \n",
       "3    t3_fgxzbp  something else housei believe paranormal healt...   \n",
       "4    t3_fh3htb  ancient wise woman television wa fourteen mum ...   \n",
       "..         ...                                                ...   \n",
       "926  t3_dttui5  strange beam sky number year ago went pick sis...   \n",
       "927  t3_dtjcyw  yellow glowstick figure happened year back wa ...   \n",
       "928  t3_dtsh0v  help pleasei saw dream today statue figure ang...   \n",
       "929  t3_dtmkol  text message sideokay heard happen anyone cann...   \n",
       "930  t3_dtlqfe  see snapchat say far back wa kid snapchat earl...   \n",
       "\n",
       "          subreddit  \n",
       "0    Thetruthishere  \n",
       "1    Thetruthishere  \n",
       "2    Thetruthishere  \n",
       "3    Thetruthishere  \n",
       "4    Thetruthishere  \n",
       "..              ...  \n",
       "926  Thetruthishere  \n",
       "927  Thetruthishere  \n",
       "928  Thetruthishere  \n",
       "929  Thetruthishere  \n",
       "930  Thetruthishere  \n",
       "\n",
       "[931 rows x 3 columns]"
      ]
     },
     "execution_count": 30,
     "metadata": {},
     "output_type": "execute_result"
    }
   ],
   "source": [
    "df_truth_clean"
   ]
  },
  {
   "cell_type": "code",
   "execution_count": 31,
   "metadata": {
    "scrolled": true
   },
   "outputs": [
    {
     "data": {
      "text/plain": [
       "name         0\n",
       "combined     0\n",
       "subreddit    0\n",
       "dtype: int64"
      ]
     },
     "execution_count": 31,
     "metadata": {},
     "output_type": "execute_result"
    }
   ],
   "source": [
    "# check for nulls, and drop nulls after data cleaning\n",
    "\n",
    "df_nosleep_clean.isnull().sum()"
   ]
  },
  {
   "cell_type": "code",
   "execution_count": 32,
   "metadata": {
    "scrolled": false
   },
   "outputs": [
    {
     "name": "stdout",
     "output_type": "stream",
     "text": [
      "name         0\n",
      "combined     1\n",
      "subreddit    0\n",
      "dtype: int64\n"
     ]
    }
   ],
   "source": [
    "# check for nulls, and drop nulls after data cleaning\n",
    "\n",
    "print(df_truth_clean.isnull().sum())\n",
    "df_truth_clean.dropna(inplace = True)"
   ]
  },
  {
   "cell_type": "markdown",
   "metadata": {},
   "source": [
    "In this instance, there is an appearance of a null due to the posts containing stop words. After removal of stopwords, the posts becomes an empty post. Thus, we will drop the null."
   ]
  },
  {
   "cell_type": "code",
   "execution_count": 33,
   "metadata": {},
   "outputs": [
    {
     "data": {
      "text/plain": [
       "name         0\n",
       "combined     0\n",
       "subreddit    0\n",
       "dtype: int64"
      ]
     },
     "execution_count": 33,
     "metadata": {},
     "output_type": "execute_result"
    }
   ],
   "source": [
    "# check if null for truth post has been cleaned\n",
    "\n",
    "df_truth_clean.isnull().sum()"
   ]
  },
  {
   "cell_type": "code",
   "execution_count": 34,
   "metadata": {},
   "outputs": [
    {
     "data": {
      "text/plain": [
       "(784, 3)"
      ]
     },
     "execution_count": 34,
     "metadata": {},
     "output_type": "execute_result"
    }
   ],
   "source": [
    "df_nosleep_clean.shape"
   ]
  },
  {
   "cell_type": "code",
   "execution_count": 35,
   "metadata": {},
   "outputs": [
    {
     "data": {
      "text/plain": [
       "(930, 3)"
      ]
     },
     "execution_count": 35,
     "metadata": {},
     "output_type": "execute_result"
    }
   ],
   "source": [
    "df_truth_clean.shape"
   ]
  },
  {
   "cell_type": "markdown",
   "metadata": {},
   "source": [
    "Just to check if datasets are rather equally distributed from the shape size."
   ]
  },
  {
   "cell_type": "code",
   "execution_count": 36,
   "metadata": {},
   "outputs": [],
   "source": [
    "df_nosleep_clean.combined = df_nosleep_clean.combined.apply(lambda x: x.replace('wa',''))"
   ]
  },
  {
   "cell_type": "code",
   "execution_count": 37,
   "metadata": {},
   "outputs": [],
   "source": [
    "df_truth_clean.combined = df_truth_clean.combined.apply(lambda x: x.replace('wa',''))"
   ]
  },
  {
   "cell_type": "markdown",
   "metadata": {},
   "source": [
    "'wa' was the word with the highest count however I dropped 'wa' as it was previously a 'was' but the 's' got removed during `lemmatization`.\n"
   ]
  },
  {
   "cell_type": "code",
   "execution_count": 38,
   "metadata": {
    "scrolled": true
   },
   "outputs": [
    {
     "name": "stdout",
     "output_type": "stream",
     "text": [
      "26528\n"
     ]
    },
    {
     "data": {
      "text/plain": [
       "like      6072\n",
       "time      4417\n",
       "said      3782\n",
       "know      3630\n",
       "eye       3629\n",
       "door      3191\n",
       "thing     3046\n",
       "room      3039\n",
       "looked    2922\n",
       "day       2484\n",
       "got       2481\n",
       "hand      2475\n",
       "man       2316\n",
       "face      2291\n",
       "head      2244\n",
       "going     2185\n",
       "saw       2151\n",
       "right     2050\n",
       "look      2043\n",
       "ay        2037\n",
       "dtype: int64"
      ]
     },
     "execution_count": 38,
     "metadata": {},
     "output_type": "execute_result"
    }
   ],
   "source": [
    "# print top words in df_nosleep_clean\n",
    "\n",
    "cvec = CountVectorizer(stop_words = 'english')\n",
    "cvec.fit(df_nosleep_clean['combined'])\n",
    "\n",
    "len_features = len(cvec.get_feature_names())\n",
    "print(len_features)\n",
    "\n",
    "df_nosleep_cv = pd.DataFrame(cvec.transform(df_nosleep_clean['combined']).todense(), columns = cvec.get_feature_names())\n",
    "\n",
    "top_nosleep = df_nosleep_cv.sum(axis=0)\n",
    "top_nosleep.sort_values(ascending = False).head(20)"
   ]
  },
  {
   "cell_type": "code",
   "execution_count": 39,
   "metadata": {},
   "outputs": [
    {
     "data": {
      "text/html": [
       "<div>\n",
       "<style scoped>\n",
       "    .dataframe tbody tr th:only-of-type {\n",
       "        vertical-align: middle;\n",
       "    }\n",
       "\n",
       "    .dataframe tbody tr th {\n",
       "        vertical-align: top;\n",
       "    }\n",
       "\n",
       "    .dataframe thead th {\n",
       "        text-align: right;\n",
       "    }\n",
       "</style>\n",
       "<table border=\"1\" class=\"dataframe\">\n",
       "  <thead>\n",
       "    <tr style=\"text-align: right;\">\n",
       "      <th></th>\n",
       "      <th>word</th>\n",
       "      <th>count</th>\n",
       "      <th>freq</th>\n",
       "    </tr>\n",
       "  </thead>\n",
       "  <tbody>\n",
       "    <tr>\n",
       "      <th>13378</th>\n",
       "      <td>like</td>\n",
       "      <td>6072</td>\n",
       "      <td>774.489796</td>\n",
       "    </tr>\n",
       "    <tr>\n",
       "      <th>23837</th>\n",
       "      <td>time</td>\n",
       "      <td>4417</td>\n",
       "      <td>563.392857</td>\n",
       "    </tr>\n",
       "    <tr>\n",
       "      <th>19940</th>\n",
       "      <td>said</td>\n",
       "      <td>3782</td>\n",
       "      <td>482.397959</td>\n",
       "    </tr>\n",
       "    <tr>\n",
       "      <th>12868</th>\n",
       "      <td>know</td>\n",
       "      <td>3630</td>\n",
       "      <td>463.010204</td>\n",
       "    </tr>\n",
       "    <tr>\n",
       "      <th>8202</th>\n",
       "      <td>eye</td>\n",
       "      <td>3629</td>\n",
       "      <td>462.882653</td>\n",
       "    </tr>\n",
       "    <tr>\n",
       "      <th>6811</th>\n",
       "      <td>door</td>\n",
       "      <td>3191</td>\n",
       "      <td>407.015306</td>\n",
       "    </tr>\n",
       "    <tr>\n",
       "      <th>23669</th>\n",
       "      <td>thing</td>\n",
       "      <td>3046</td>\n",
       "      <td>388.520408</td>\n",
       "    </tr>\n",
       "    <tr>\n",
       "      <th>19699</th>\n",
       "      <td>room</td>\n",
       "      <td>3039</td>\n",
       "      <td>387.627551</td>\n",
       "    </tr>\n",
       "    <tr>\n",
       "      <th>13621</th>\n",
       "      <td>looked</td>\n",
       "      <td>2922</td>\n",
       "      <td>372.704082</td>\n",
       "    </tr>\n",
       "    <tr>\n",
       "      <th>5672</th>\n",
       "      <td>day</td>\n",
       "      <td>2484</td>\n",
       "      <td>316.836735</td>\n",
       "    </tr>\n",
       "  </tbody>\n",
       "</table>\n",
       "</div>"
      ],
      "text/plain": [
       "         word  count        freq\n",
       "13378    like   6072  774.489796\n",
       "23837    time   4417  563.392857\n",
       "19940    said   3782  482.397959\n",
       "12868    know   3630  463.010204\n",
       "8202      eye   3629  462.882653\n",
       "6811     door   3191  407.015306\n",
       "23669   thing   3046  388.520408\n",
       "19699    room   3039  387.627551\n",
       "13621  looked   2922  372.704082\n",
       "5672      day   2484  316.836735"
      ]
     },
     "execution_count": 39,
     "metadata": {},
     "output_type": "execute_result"
    }
   ],
   "source": [
    "# get top words in a df_nosleep\n",
    "\n",
    "df_nosleep_top = top_nosleep.to_frame(name = 'count')\n",
    "df_nosleep_top['word'] = df_nosleep_top.index\n",
    "df_nosleep_top.reset_index(drop=True, inplace=True)\n",
    "df_nosleep_top['freq'] = df_nosleep_top['count']/len(df_nosleep_clean)*100\n",
    "\n",
    "cols = ['word','count','freq']\n",
    "df_nosleep_top = df_nosleep_top[cols]\n",
    "df_nosleep_top.sort_values(by = 'count', ascending = False, inplace = True)\n",
    "df_nosleep_top.head(10)\n"
   ]
  },
  {
   "cell_type": "code",
   "execution_count": 40,
   "metadata": {
    "scrolled": true
   },
   "outputs": [
    {
     "name": "stdout",
     "output_type": "stream",
     "text": [
      "11769\n"
     ]
    },
    {
     "data": {
      "text/plain": [
       "like        1946\n",
       "time        1305\n",
       "house        994\n",
       "thing        974\n",
       "know         932\n",
       "night        864\n",
       "room         847\n",
       "year         721\n",
       "saw          675\n",
       "door         643\n",
       "day          636\n",
       "said         634\n",
       "happened     632\n",
       "dream        626\n",
       "friend       616\n",
       "went         615\n",
       "got          603\n",
       "think        568\n",
       "really       566\n",
       "ha           543\n",
       "dtype: int64"
      ]
     },
     "execution_count": 40,
     "metadata": {},
     "output_type": "execute_result"
    }
   ],
   "source": [
    "# print top words in df_truth_clean\n",
    "\n",
    "cvec = CountVectorizer(stop_words = 'english')\n",
    "cvec.fit(df_truth_clean['combined'])\n",
    "\n",
    "len_features = len(cvec.get_feature_names())\n",
    "print(len_features)\n",
    "\n",
    "df_truth_cv = pd.DataFrame(cvec.transform(df_truth_clean['combined']).todense(), columns = cvec.get_feature_names())\n",
    "\n",
    "top_truth = df_truth_cv.sum(axis=0)\n",
    "top_truth.sort_values(ascending = False).head(20)"
   ]
  },
  {
   "cell_type": "code",
   "execution_count": 41,
   "metadata": {
    "scrolled": true
   },
   "outputs": [
    {
     "data": {
      "text/html": [
       "<div>\n",
       "<style scoped>\n",
       "    .dataframe tbody tr th:only-of-type {\n",
       "        vertical-align: middle;\n",
       "    }\n",
       "\n",
       "    .dataframe tbody tr th {\n",
       "        vertical-align: top;\n",
       "    }\n",
       "\n",
       "    .dataframe thead th {\n",
       "        text-align: right;\n",
       "    }\n",
       "</style>\n",
       "<table border=\"1\" class=\"dataframe\">\n",
       "  <thead>\n",
       "    <tr style=\"text-align: right;\">\n",
       "      <th></th>\n",
       "      <th>word</th>\n",
       "      <th>count</th>\n",
       "      <th>freq</th>\n",
       "    </tr>\n",
       "  </thead>\n",
       "  <tbody>\n",
       "    <tr>\n",
       "      <th>5923</th>\n",
       "      <td>like</td>\n",
       "      <td>1946</td>\n",
       "      <td>209.247312</td>\n",
       "    </tr>\n",
       "    <tr>\n",
       "      <th>10603</th>\n",
       "      <td>time</td>\n",
       "      <td>1305</td>\n",
       "      <td>140.322581</td>\n",
       "    </tr>\n",
       "    <tr>\n",
       "      <th>4958</th>\n",
       "      <td>house</td>\n",
       "      <td>994</td>\n",
       "      <td>106.881720</td>\n",
       "    </tr>\n",
       "    <tr>\n",
       "      <th>10515</th>\n",
       "      <td>thing</td>\n",
       "      <td>974</td>\n",
       "      <td>104.731183</td>\n",
       "    </tr>\n",
       "    <tr>\n",
       "      <th>5710</th>\n",
       "      <td>know</td>\n",
       "      <td>932</td>\n",
       "      <td>100.215054</td>\n",
       "    </tr>\n",
       "    <tr>\n",
       "      <th>6850</th>\n",
       "      <td>night</td>\n",
       "      <td>864</td>\n",
       "      <td>92.903226</td>\n",
       "    </tr>\n",
       "    <tr>\n",
       "      <th>8719</th>\n",
       "      <td>room</td>\n",
       "      <td>847</td>\n",
       "      <td>91.075269</td>\n",
       "    </tr>\n",
       "    <tr>\n",
       "      <th>11696</th>\n",
       "      <td>year</td>\n",
       "      <td>721</td>\n",
       "      <td>77.526882</td>\n",
       "    </tr>\n",
       "    <tr>\n",
       "      <th>8861</th>\n",
       "      <td>saw</td>\n",
       "      <td>675</td>\n",
       "      <td>72.580645</td>\n",
       "    </tr>\n",
       "    <tr>\n",
       "      <th>3018</th>\n",
       "      <td>door</td>\n",
       "      <td>643</td>\n",
       "      <td>69.139785</td>\n",
       "    </tr>\n",
       "  </tbody>\n",
       "</table>\n",
       "</div>"
      ],
      "text/plain": [
       "        word  count        freq\n",
       "5923    like   1946  209.247312\n",
       "10603   time   1305  140.322581\n",
       "4958   house    994  106.881720\n",
       "10515  thing    974  104.731183\n",
       "5710    know    932  100.215054\n",
       "6850   night    864   92.903226\n",
       "8719    room    847   91.075269\n",
       "11696   year    721   77.526882\n",
       "8861     saw    675   72.580645\n",
       "3018    door    643   69.139785"
      ]
     },
     "execution_count": 41,
     "metadata": {},
     "output_type": "execute_result"
    }
   ],
   "source": [
    "# get top words in a df\n",
    "\n",
    "df_truth_top = top_truth.to_frame(name = 'count')\n",
    "df_truth_top['word'] = df_truth_top.index\n",
    "df_truth_top.reset_index(drop=True, inplace=True)\n",
    "df_truth_top['freq'] = df_truth_top['count']/len(df_truth_clean)*100\n",
    "\n",
    "cols = ['word','count','freq']\n",
    "df_truth_top = df_truth_top[cols]\n",
    "df_truth_top.sort_values(by = 'count', ascending = False, inplace = True)\n",
    "df_truth_top.head(10)"
   ]
  },
  {
   "cell_type": "code",
   "execution_count": 42,
   "metadata": {},
   "outputs": [
    {
     "data": {
      "image/png": "[encoded data removed]",
      "text/plain": [
       "<Figure size 1440x720 with 1 Axes>"
      ]
     },
     "metadata": {
      "needs_background": "light"
     },
     "output_type": "display_data"
    }
   ],
   "source": [
    "# plot top 20 words for nosleep posts\n",
    "\n",
    "\n",
    "plt.figure(figsize=(20,10))\n",
    "plt.title('No Sleep Posts: Top 20 Words', fontsize = 25)\n",
    "\n",
    "\n",
    "sns.barplot (x = 'freq', y = 'word', data = df_nosleep_top.head(20), palette = 'YlGnBu')\n",
    "\n",
    "plt.xlabel('frequeny (%)', fontsize = 20)\n",
    "plt.ylabel('word', fontsize = 20)\n",
    "plt.tick_params(labelsize = 15)"
   ]
  },
  {
   "cell_type": "code",
   "execution_count": 43,
   "metadata": {
    "scrolled": true
   },
   "outputs": [
    {
     "data": {
      "image/png": "[encoded data removed]",
      "text/plain": [
       "<Figure size 1440x720 with 1 Axes>"
      ]
     },
     "metadata": {
      "needs_background": "light"
     },
     "output_type": "display_data"
    }
   ],
   "source": [
    "# plot top 20 words for truth posts\n",
    "\n",
    "\n",
    "plt.figure(figsize=(20,10))\n",
    "plt.title('Truth Posts: Top 20 Words', fontsize = 25)\n",
    "\n",
    "\n",
    "sns.barplot (x = 'freq', y = 'word', data = df_truth_top.head(20), palette = 'YlGnBu')\n",
    "\n",
    "plt.xlabel('frequeny (%)', fontsize = 20)\n",
    "plt.ylabel('word', fontsize = 20)\n",
    "plt.tick_params(labelsize = 15)"
   ]
  },
  {
   "cell_type": "code",
   "execution_count": 44,
   "metadata": {
    "scrolled": false
   },
   "outputs": [
    {
     "data": {
      "image/png": "[encoded data removed]",
      "text/plain": [
       "<Figure size 720x720 with 1 Axes>"
      ]
     },
     "metadata": {},
     "output_type": "display_data"
    }
   ],
   "source": [
    "\n",
    "plt.figure(figsize=(10,10))\n",
    "plt.title('Comparing Unique Words',fontsize=20)\n",
    "\n",
    "set_a = set(df_nosleep_top['word'][:20])\n",
    "set_b = set(df_truth_top['word'][:20])\n",
    "\n",
    "venn = venn2([set_a,set_b],set_labels=['Nosleep','Truth'])\n",
    "venn.get_label_by_id('100').set_text('\\n'.join(map(str,set_a-set_b)))\n",
    "venn.get_label_by_id('110').set_text('\\n'.join(map(str,set_a&set_b)))\n",
    "venn.get_label_by_id('010').set_text('\\n'.join(map(str,set_b-set_a)))\n",
    "\n",
    "venn.get_label_by_id('A').set_size(20)\n",
    "venn.get_label_by_id('B').set_size(20)\n",
    "venn.get_label_by_id('100').set_size(13)\n",
    "venn.get_label_by_id('110').set_size(13)\n",
    "venn.get_label_by_id('010').set_size(13)\n"
   ]
  },
  {
   "cell_type": "markdown",
   "metadata": {},
   "source": [
    "The venn diagram below shows the top 20 words for both subreddits\n",
    "There are 10 common words as expected for the subreddits given their similarities."
   ]
  },
  {
   "cell_type": "markdown",
   "metadata": {},
   "source": [
    "#### Plotting Word Difference Histogram"
   ]
  },
  {
   "cell_type": "code",
   "execution_count": 45,
   "metadata": {},
   "outputs": [],
   "source": [
    "df_nosleep_top.set_index(['word'], inplace=True)"
   ]
  },
  {
   "cell_type": "code",
   "execution_count": 46,
   "metadata": {
    "scrolled": true
   },
   "outputs": [],
   "source": [
    "# remove the freq column\n",
    "df_nosleep_top['nosleep_count'] = df_nosleep_top['count']\n",
    "df_nosleep_top = df_nosleep_top['nosleep_count']\n"
   ]
  },
  {
   "cell_type": "code",
   "execution_count": 47,
   "metadata": {},
   "outputs": [],
   "source": [
    "df_truth_top.set_index(['word'], inplace=True)"
   ]
  },
  {
   "cell_type": "code",
   "execution_count": 48,
   "metadata": {},
   "outputs": [],
   "source": [
    "# remove the freq column\n",
    "df_truth_top['truth_count'] = df_truth_top['count']\n",
    "df_truth_top = df_truth_top['truth_count']\n"
   ]
  },
  {
   "cell_type": "code",
   "execution_count": 49,
   "metadata": {},
   "outputs": [],
   "source": [
    "df_combined_top = pd.concat([df_nosleep_top.head(30), df_truth_top.head(30)], axis=1, sort=False)"
   ]
  },
  {
   "cell_type": "code",
   "execution_count": 50,
   "metadata": {},
   "outputs": [
    {
     "data": {
      "text/html": [
       "<div>\n",
       "<style scoped>\n",
       "    .dataframe tbody tr th:only-of-type {\n",
       "        vertical-align: middle;\n",
       "    }\n",
       "\n",
       "    .dataframe tbody tr th {\n",
       "        vertical-align: top;\n",
       "    }\n",
       "\n",
       "    .dataframe thead th {\n",
       "        text-align: right;\n",
       "    }\n",
       "</style>\n",
       "<table border=\"1\" class=\"dataframe\">\n",
       "  <thead>\n",
       "    <tr style=\"text-align: right;\">\n",
       "      <th></th>\n",
       "      <th>nosleep_count</th>\n",
       "      <th>truth_count</th>\n",
       "    </tr>\n",
       "  </thead>\n",
       "  <tbody>\n",
       "    <tr>\n",
       "      <th>like</th>\n",
       "      <td>6072.0</td>\n",
       "      <td>1946.0</td>\n",
       "    </tr>\n",
       "    <tr>\n",
       "      <th>time</th>\n",
       "      <td>4417.0</td>\n",
       "      <td>1305.0</td>\n",
       "    </tr>\n",
       "    <tr>\n",
       "      <th>said</th>\n",
       "      <td>3782.0</td>\n",
       "      <td>634.0</td>\n",
       "    </tr>\n",
       "    <tr>\n",
       "      <th>know</th>\n",
       "      <td>3630.0</td>\n",
       "      <td>932.0</td>\n",
       "    </tr>\n",
       "    <tr>\n",
       "      <th>eye</th>\n",
       "      <td>3629.0</td>\n",
       "      <td>NaN</td>\n",
       "    </tr>\n",
       "    <tr>\n",
       "      <th>door</th>\n",
       "      <td>3191.0</td>\n",
       "      <td>643.0</td>\n",
       "    </tr>\n",
       "    <tr>\n",
       "      <th>thing</th>\n",
       "      <td>3046.0</td>\n",
       "      <td>974.0</td>\n",
       "    </tr>\n",
       "    <tr>\n",
       "      <th>room</th>\n",
       "      <td>3039.0</td>\n",
       "      <td>847.0</td>\n",
       "    </tr>\n",
       "    <tr>\n",
       "      <th>looked</th>\n",
       "      <td>2922.0</td>\n",
       "      <td>499.0</td>\n",
       "    </tr>\n",
       "    <tr>\n",
       "      <th>day</th>\n",
       "      <td>2484.0</td>\n",
       "      <td>636.0</td>\n",
       "    </tr>\n",
       "    <tr>\n",
       "      <th>got</th>\n",
       "      <td>2481.0</td>\n",
       "      <td>603.0</td>\n",
       "    </tr>\n",
       "    <tr>\n",
       "      <th>hand</th>\n",
       "      <td>2475.0</td>\n",
       "      <td>NaN</td>\n",
       "    </tr>\n",
       "    <tr>\n",
       "      <th>man</th>\n",
       "      <td>2316.0</td>\n",
       "      <td>NaN</td>\n",
       "    </tr>\n",
       "    <tr>\n",
       "      <th>face</th>\n",
       "      <td>2291.0</td>\n",
       "      <td>NaN</td>\n",
       "    </tr>\n",
       "    <tr>\n",
       "      <th>head</th>\n",
       "      <td>2244.0</td>\n",
       "      <td>NaN</td>\n",
       "    </tr>\n",
       "    <tr>\n",
       "      <th>going</th>\n",
       "      <td>2185.0</td>\n",
       "      <td>NaN</td>\n",
       "    </tr>\n",
       "    <tr>\n",
       "      <th>saw</th>\n",
       "      <td>2151.0</td>\n",
       "      <td>675.0</td>\n",
       "    </tr>\n",
       "    <tr>\n",
       "      <th>right</th>\n",
       "      <td>2050.0</td>\n",
       "      <td>NaN</td>\n",
       "    </tr>\n",
       "    <tr>\n",
       "      <th>look</th>\n",
       "      <td>2043.0</td>\n",
       "      <td>NaN</td>\n",
       "    </tr>\n",
       "    <tr>\n",
       "      <th>ay</th>\n",
       "      <td>2037.0</td>\n",
       "      <td>NaN</td>\n",
       "    </tr>\n",
       "    <tr>\n",
       "      <th>felt</th>\n",
       "      <td>1959.0</td>\n",
       "      <td>520.0</td>\n",
       "    </tr>\n",
       "    <tr>\n",
       "      <th>thought</th>\n",
       "      <td>1955.0</td>\n",
       "      <td>480.0</td>\n",
       "    </tr>\n",
       "    <tr>\n",
       "      <th>think</th>\n",
       "      <td>1925.0</td>\n",
       "      <td>568.0</td>\n",
       "    </tr>\n",
       "    <tr>\n",
       "      <th>night</th>\n",
       "      <td>1916.0</td>\n",
       "      <td>864.0</td>\n",
       "    </tr>\n",
       "    <tr>\n",
       "      <th>went</th>\n",
       "      <td>1833.0</td>\n",
       "      <td>615.0</td>\n",
       "    </tr>\n",
       "    <tr>\n",
       "      <th>started</th>\n",
       "      <td>1731.0</td>\n",
       "      <td>465.0</td>\n",
       "    </tr>\n",
       "    <tr>\n",
       "      <th>asked</th>\n",
       "      <td>1697.0</td>\n",
       "      <td>NaN</td>\n",
       "    </tr>\n",
       "    <tr>\n",
       "      <th>amp</th>\n",
       "      <td>1682.0</td>\n",
       "      <td>NaN</td>\n",
       "    </tr>\n",
       "    <tr>\n",
       "      <th>little</th>\n",
       "      <td>1679.0</td>\n",
       "      <td>NaN</td>\n",
       "    </tr>\n",
       "    <tr>\n",
       "      <th>house</th>\n",
       "      <td>1671.0</td>\n",
       "      <td>994.0</td>\n",
       "    </tr>\n",
       "    <tr>\n",
       "      <th>year</th>\n",
       "      <td>NaN</td>\n",
       "      <td>721.0</td>\n",
       "    </tr>\n",
       "    <tr>\n",
       "      <th>happened</th>\n",
       "      <td>NaN</td>\n",
       "      <td>632.0</td>\n",
       "    </tr>\n",
       "    <tr>\n",
       "      <th>dream</th>\n",
       "      <td>NaN</td>\n",
       "      <td>626.0</td>\n",
       "    </tr>\n",
       "    <tr>\n",
       "      <th>friend</th>\n",
       "      <td>NaN</td>\n",
       "      <td>616.0</td>\n",
       "    </tr>\n",
       "    <tr>\n",
       "      <th>really</th>\n",
       "      <td>NaN</td>\n",
       "      <td>566.0</td>\n",
       "    </tr>\n",
       "    <tr>\n",
       "      <th>ha</th>\n",
       "      <td>NaN</td>\n",
       "      <td>543.0</td>\n",
       "    </tr>\n",
       "    <tr>\n",
       "      <th>told</th>\n",
       "      <td>NaN</td>\n",
       "      <td>530.0</td>\n",
       "    </tr>\n",
       "    <tr>\n",
       "      <th>light</th>\n",
       "      <td>NaN</td>\n",
       "      <td>524.0</td>\n",
       "    </tr>\n",
       "    <tr>\n",
       "      <th>experience</th>\n",
       "      <td>NaN</td>\n",
       "      <td>512.0</td>\n",
       "    </tr>\n",
       "    <tr>\n",
       "      <th>remember</th>\n",
       "      <td>NaN</td>\n",
       "      <td>488.0</td>\n",
       "    </tr>\n",
       "    <tr>\n",
       "      <th>feel</th>\n",
       "      <td>NaN</td>\n",
       "      <td>482.0</td>\n",
       "    </tr>\n",
       "    <tr>\n",
       "      <th>people</th>\n",
       "      <td>NaN</td>\n",
       "      <td>478.0</td>\n",
       "    </tr>\n",
       "  </tbody>\n",
       "</table>\n",
       "</div>"
      ],
      "text/plain": [
       "            nosleep_count  truth_count\n",
       "like               6072.0       1946.0\n",
       "time               4417.0       1305.0\n",
       "said               3782.0        634.0\n",
       "know               3630.0        932.0\n",
       "eye                3629.0          NaN\n",
       "door               3191.0        643.0\n",
       "thing              3046.0        974.0\n",
       "room               3039.0        847.0\n",
       "looked             2922.0        499.0\n",
       "day                2484.0        636.0\n",
       "got                2481.0        603.0\n",
       "hand               2475.0          NaN\n",
       "man                2316.0          NaN\n",
       "face               2291.0          NaN\n",
       "head               2244.0          NaN\n",
       "going              2185.0          NaN\n",
       "saw                2151.0        675.0\n",
       "right              2050.0          NaN\n",
       "look               2043.0          NaN\n",
       "ay                 2037.0          NaN\n",
       "felt               1959.0        520.0\n",
       "thought            1955.0        480.0\n",
       "think              1925.0        568.0\n",
       "night              1916.0        864.0\n",
       "went               1833.0        615.0\n",
       "started            1731.0        465.0\n",
       "asked              1697.0          NaN\n",
       "amp                1682.0          NaN\n",
       "little             1679.0          NaN\n",
       "house              1671.0        994.0\n",
       "year                  NaN        721.0\n",
       "happened              NaN        632.0\n",
       "dream                 NaN        626.0\n",
       "friend                NaN        616.0\n",
       "really                NaN        566.0\n",
       "ha                    NaN        543.0\n",
       "told                  NaN        530.0\n",
       "light                 NaN        524.0\n",
       "experience            NaN        512.0\n",
       "remember              NaN        488.0\n",
       "feel                  NaN        482.0\n",
       "people                NaN        478.0"
      ]
     },
     "execution_count": 50,
     "metadata": {},
     "output_type": "execute_result"
    }
   ],
   "source": [
    "df_combined_top"
   ]
  },
  {
   "cell_type": "code",
   "execution_count": 51,
   "metadata": {},
   "outputs": [
    {
     "data": {
      "image/png": "[encoded data removed]",
      "text/plain": [
       "<Figure size 1080x720 with 1 Axes>"
      ]
     },
     "metadata": {
      "needs_background": "light"
     },
     "output_type": "display_data"
    }
   ],
   "source": [
    "df_combined_top.plot.bar(stacked=True, figsize=(15,10))\n",
    "plt.xticks(rotation=50)\n",
    "plt.xlabel(\"Word\")\n",
    "plt.ylabel(\"Count\");"
   ]
  },
  {
   "cell_type": "markdown",
   "metadata": {},
   "source": [
    "### Modeling - Create Feature Matrix and Target"
   ]
  },
  {
   "cell_type": "code",
   "execution_count": 52,
   "metadata": {},
   "outputs": [],
   "source": [
    "# combined clean dataset for modelling\n",
    "df_combined_clean = pd.concat([df_nosleep_clean, df_truth_clean])"
   ]
  },
  {
   "cell_type": "code",
   "execution_count": 53,
   "metadata": {},
   "outputs": [
    {
     "data": {
      "text/plain": [
       "Index(['name', 'combined', 'subreddit'], dtype='object')"
      ]
     },
     "execution_count": 53,
     "metadata": {},
     "output_type": "execute_result"
    }
   ],
   "source": [
    "df_combined_clean.columns"
   ]
  },
  {
   "cell_type": "code",
   "execution_count": 54,
   "metadata": {},
   "outputs": [
    {
     "data": {
      "text/plain": [
       "Thetruthishere    930\n",
       "nosleep           784\n",
       "Name: subreddit, dtype: int64"
      ]
     },
     "execution_count": 54,
     "metadata": {},
     "output_type": "execute_result"
    }
   ],
   "source": [
    "df_combined_clean.subreddit.value_counts()"
   ]
  },
  {
   "cell_type": "code",
   "execution_count": 55,
   "metadata": {},
   "outputs": [],
   "source": [
    "# map 1 or 0  to the subreddit columns - 1 if post belongs to no sleep\n",
    "# 0 if post belongs to truth\n",
    "\n",
    "df_combined_clean['subreddit'] = [1 if i == 'nosleep' else 0 for i in df_combined_clean['subreddit']]"
   ]
  },
  {
   "cell_type": "code",
   "execution_count": 56,
   "metadata": {},
   "outputs": [],
   "source": [
    "X = df_combined_clean[['combined']]\n",
    "y = df_combined_clean['subreddit']"
   ]
  },
  {
   "cell_type": "code",
   "execution_count": 57,
   "metadata": {},
   "outputs": [
    {
     "data": {
      "text/html": [
       "<div>\n",
       "<style scoped>\n",
       "    .dataframe tbody tr th:only-of-type {\n",
       "        vertical-align: middle;\n",
       "    }\n",
       "\n",
       "    .dataframe tbody tr th {\n",
       "        vertical-align: top;\n",
       "    }\n",
       "\n",
       "    .dataframe thead th {\n",
       "        text-align: right;\n",
       "    }\n",
       "</style>\n",
       "<table border=\"1\" class=\"dataframe\">\n",
       "  <thead>\n",
       "    <tr style=\"text-align: right;\">\n",
       "      <th></th>\n",
       "      <th>combined</th>\n",
       "    </tr>\n",
       "  </thead>\n",
       "  <tbody>\n",
       "    <tr>\n",
       "      <th>0</th>\n",
       "      <td>survive camping blood forcibly takeni run priv...</td>\n",
       "    </tr>\n",
       "    <tr>\n",
       "      <th>1</th>\n",
       "      <td>year ago sent voyager space look extraterrestr...</td>\n",
       "    </tr>\n",
       "    <tr>\n",
       "      <th>2</th>\n",
       "      <td>something wrong catmy cat acting bit rescue co...</td>\n",
       "    </tr>\n",
       "    <tr>\n",
       "      <th>3</th>\n",
       "      <td>legally dead four minute heaven hell saw thin...</td>\n",
       "    </tr>\n",
       "    <tr>\n",
       "      <th>4</th>\n",
       "      <td>gain six inch le hoursamy kitchen witch least ...</td>\n",
       "    </tr>\n",
       "  </tbody>\n",
       "</table>\n",
       "</div>"
      ],
      "text/plain": [
       "                                            combined\n",
       "0  survive camping blood forcibly takeni run priv...\n",
       "1  year ago sent voyager space look extraterrestr...\n",
       "2  something wrong catmy cat acting bit rescue co...\n",
       "3   legally dead four minute heaven hell saw thin...\n",
       "4  gain six inch le hoursamy kitchen witch least ..."
      ]
     },
     "execution_count": 57,
     "metadata": {},
     "output_type": "execute_result"
    }
   ],
   "source": [
    "X.head()"
   ]
  },
  {
   "cell_type": "markdown",
   "metadata": {},
   "source": [
    "#### Train Test Split"
   ]
  },
  {
   "cell_type": "code",
   "execution_count": 58,
   "metadata": {},
   "outputs": [],
   "source": [
    "# create X (feature matrix) and y (target)\n",
    "\n",
    "X = df_combined_clean[['combined']]\n",
    "y = df_combined_clean['subreddit']\n",
    "\n",
    "X_train,X_test,y_train,y_test = train_test_split(X,\n",
    "                                                 y,\n",
    "                                                 train_size=0.7,\n",
    "                                                 test_size=0.3,\n",
    "                                                 stratify=y,\n",
    "                                                 random_state=42)"
   ]
  },
  {
   "cell_type": "code",
   "execution_count": 59,
   "metadata": {
    "scrolled": true
   },
   "outputs": [
    {
     "name": "stdout",
     "output_type": "stream",
     "text": [
      "(1199, 1)\n",
      "(515, 1)\n",
      "(1199,)\n",
      "(515,)\n"
     ]
    }
   ],
   "source": [
    "# check train and test data\n",
    "\n",
    "print(X_train.shape)\n",
    "print(X_test.shape)\n",
    "print(y_train.shape)\n",
    "print(y_test.shape)"
   ]
  },
  {
   "cell_type": "code",
   "execution_count": 60,
   "metadata": {
    "scrolled": true
   },
   "outputs": [
    {
     "data": {
      "text/plain": [
       "859    0\n",
       "917    0\n",
       "316    1\n",
       "706    1\n",
       "74     0\n",
       "      ..\n",
       "27     1\n",
       "425    1\n",
       "17     1\n",
       "586    1\n",
       "449    1\n",
       "Name: subreddit, Length: 1199, dtype: int64"
      ]
     },
     "execution_count": 60,
     "metadata": {},
     "output_type": "execute_result"
    }
   ],
   "source": [
    "y_train"
   ]
  },
  {
   "cell_type": "code",
   "execution_count": 61,
   "metadata": {
    "scrolled": false
   },
   "outputs": [
    {
     "name": "stdout",
     "output_type": "stream",
     "text": [
      "baseline score:\n",
      "0    0.542952\n",
      "1    0.457048\n",
      "Name: subreddit, dtype: float64\n"
     ]
    }
   ],
   "source": [
    "print('baseline score:') \n",
    "print(y_train.value_counts(normalize=True))"
   ]
  },
  {
   "cell_type": "code",
   "execution_count": 62,
   "metadata": {},
   "outputs": [],
   "source": [
    "max_words = 200\n",
    "cvec = CountVectorizer(stop_words='english', max_features = max_words)\n",
    "tvec = TfidfVectorizer(stop_words='english', max_features = max_words)"
   ]
  },
  {
   "cell_type": "code",
   "execution_count": 63,
   "metadata": {},
   "outputs": [
    {
     "data": {
      "text/plain": [
       "859    flash another reality anyone ever catch rememb...\n",
       "917    human body human existence generalhow world do...\n",
       "316    interview ghost hunter actually  preparing int...\n",
       "706    black friday brawl turned sixteen day applied ...\n",
       "74     mysterious thing caught neighbor make feel eve...\n",
       "Name: combined, dtype: object"
      ]
     },
     "execution_count": 63,
     "metadata": {},
     "output_type": "execute_result"
    }
   ],
   "source": [
    "X_train['combined'][:5]"
   ]
  },
  {
   "cell_type": "code",
   "execution_count": 64,
   "metadata": {},
   "outputs": [],
   "source": [
    "# Fit our CountVectorizer and TfidVectorizer on the training data and transform training data.\n",
    "X_train_cv = cvec.fit_transform(X_train['combined'])\n",
    "X_train_tv = tvec.fit_transform(X_train['combined'])"
   ]
  },
  {
   "cell_type": "code",
   "execution_count": 65,
   "metadata": {
    "scrolled": true
   },
   "outputs": [
    {
     "data": {
      "text/plain": [
       "200"
      ]
     },
     "execution_count": 65,
     "metadata": {},
     "output_type": "execute_result"
    }
   ],
   "source": [
    "len(cvec.get_feature_names())"
   ]
  },
  {
   "cell_type": "code",
   "execution_count": 66,
   "metadata": {},
   "outputs": [
    {
     "data": {
      "text/plain": [
       "200"
      ]
     },
     "execution_count": 66,
     "metadata": {},
     "output_type": "execute_result"
    }
   ],
   "source": [
    "len(tvec.get_feature_names())"
   ]
  },
  {
   "cell_type": "code",
   "execution_count": 67,
   "metadata": {},
   "outputs": [],
   "source": [
    "X_train_cv_df = pd.DataFrame(X_train_cv.toarray(), columns=cvec.get_feature_names())\n",
    "X_train_tv_df = pd.DataFrame(X_train_tv.toarray(), columns=tvec.get_feature_names())"
   ]
  },
  {
   "cell_type": "code",
   "execution_count": 68,
   "metadata": {
    "scrolled": true
   },
   "outputs": [
    {
     "data": {
      "text/html": [
       "<div>\n",
       "<style scoped>\n",
       "    .dataframe tbody tr th:only-of-type {\n",
       "        vertical-align: middle;\n",
       "    }\n",
       "\n",
       "    .dataframe tbody tr th {\n",
       "        vertical-align: top;\n",
       "    }\n",
       "\n",
       "    .dataframe thead th {\n",
       "        text-align: right;\n",
       "    }\n",
       "</style>\n",
       "<table border=\"1\" class=\"dataframe\">\n",
       "  <thead>\n",
       "    <tr style=\"text-align: right;\">\n",
       "      <th></th>\n",
       "      <th>able</th>\n",
       "      <th>actually</th>\n",
       "      <th>ago</th>\n",
       "      <th>alys</th>\n",
       "      <th>amp</th>\n",
       "      <th>arm</th>\n",
       "      <th>asked</th>\n",
       "      <th>ay</th>\n",
       "      <th>bad</th>\n",
       "      <th>bed</th>\n",
       "      <th>...</th>\n",
       "      <th>weird</th>\n",
       "      <th>went</th>\n",
       "      <th>white</th>\n",
       "      <th>window</th>\n",
       "      <th>woman</th>\n",
       "      <th>word</th>\n",
       "      <th>work</th>\n",
       "      <th>world</th>\n",
       "      <th>wrong</th>\n",
       "      <th>year</th>\n",
       "    </tr>\n",
       "  </thead>\n",
       "  <tbody>\n",
       "    <tr>\n",
       "      <th>0</th>\n",
       "      <td>0</td>\n",
       "      <td>1</td>\n",
       "      <td>0</td>\n",
       "      <td>0</td>\n",
       "      <td>0</td>\n",
       "      <td>0</td>\n",
       "      <td>0</td>\n",
       "      <td>0</td>\n",
       "      <td>0</td>\n",
       "      <td>0</td>\n",
       "      <td>...</td>\n",
       "      <td>0</td>\n",
       "      <td>0</td>\n",
       "      <td>0</td>\n",
       "      <td>0</td>\n",
       "      <td>0</td>\n",
       "      <td>0</td>\n",
       "      <td>0</td>\n",
       "      <td>0</td>\n",
       "      <td>0</td>\n",
       "      <td>0</td>\n",
       "    </tr>\n",
       "    <tr>\n",
       "      <th>1</th>\n",
       "      <td>0</td>\n",
       "      <td>0</td>\n",
       "      <td>0</td>\n",
       "      <td>0</td>\n",
       "      <td>0</td>\n",
       "      <td>0</td>\n",
       "      <td>0</td>\n",
       "      <td>0</td>\n",
       "      <td>0</td>\n",
       "      <td>0</td>\n",
       "      <td>...</td>\n",
       "      <td>0</td>\n",
       "      <td>0</td>\n",
       "      <td>0</td>\n",
       "      <td>0</td>\n",
       "      <td>0</td>\n",
       "      <td>0</td>\n",
       "      <td>0</td>\n",
       "      <td>1</td>\n",
       "      <td>0</td>\n",
       "      <td>0</td>\n",
       "    </tr>\n",
       "    <tr>\n",
       "      <th>2</th>\n",
       "      <td>0</td>\n",
       "      <td>1</td>\n",
       "      <td>0</td>\n",
       "      <td>5</td>\n",
       "      <td>0</td>\n",
       "      <td>0</td>\n",
       "      <td>6</td>\n",
       "      <td>1</td>\n",
       "      <td>1</td>\n",
       "      <td>0</td>\n",
       "      <td>...</td>\n",
       "      <td>0</td>\n",
       "      <td>8</td>\n",
       "      <td>0</td>\n",
       "      <td>0</td>\n",
       "      <td>11</td>\n",
       "      <td>1</td>\n",
       "      <td>0</td>\n",
       "      <td>0</td>\n",
       "      <td>1</td>\n",
       "      <td>3</td>\n",
       "    </tr>\n",
       "    <tr>\n",
       "      <th>3</th>\n",
       "      <td>7</td>\n",
       "      <td>0</td>\n",
       "      <td>0</td>\n",
       "      <td>0</td>\n",
       "      <td>0</td>\n",
       "      <td>0</td>\n",
       "      <td>6</td>\n",
       "      <td>5</td>\n",
       "      <td>2</td>\n",
       "      <td>0</td>\n",
       "      <td>...</td>\n",
       "      <td>0</td>\n",
       "      <td>5</td>\n",
       "      <td>0</td>\n",
       "      <td>0</td>\n",
       "      <td>0</td>\n",
       "      <td>1</td>\n",
       "      <td>5</td>\n",
       "      <td>0</td>\n",
       "      <td>1</td>\n",
       "      <td>2</td>\n",
       "    </tr>\n",
       "    <tr>\n",
       "      <th>4</th>\n",
       "      <td>0</td>\n",
       "      <td>0</td>\n",
       "      <td>0</td>\n",
       "      <td>0</td>\n",
       "      <td>0</td>\n",
       "      <td>0</td>\n",
       "      <td>0</td>\n",
       "      <td>0</td>\n",
       "      <td>0</td>\n",
       "      <td>0</td>\n",
       "      <td>...</td>\n",
       "      <td>0</td>\n",
       "      <td>0</td>\n",
       "      <td>0</td>\n",
       "      <td>0</td>\n",
       "      <td>0</td>\n",
       "      <td>0</td>\n",
       "      <td>0</td>\n",
       "      <td>0</td>\n",
       "      <td>0</td>\n",
       "      <td>0</td>\n",
       "    </tr>\n",
       "  </tbody>\n",
       "</table>\n",
       "<p>5 rows × 200 columns</p>\n",
       "</div>"
      ],
      "text/plain": [
       "   able  actually  ago  alys  amp  arm  asked  ay  bad  bed  ...  weird  went  \\\n",
       "0     0         1    0     0    0    0      0   0    0    0  ...      0     0   \n",
       "1     0         0    0     0    0    0      0   0    0    0  ...      0     0   \n",
       "2     0         1    0     5    0    0      6   1    1    0  ...      0     8   \n",
       "3     7         0    0     0    0    0      6   5    2    0  ...      0     5   \n",
       "4     0         0    0     0    0    0      0   0    0    0  ...      0     0   \n",
       "\n",
       "   white  window  woman  word  work  world  wrong  year  \n",
       "0      0       0      0     0     0      0      0     0  \n",
       "1      0       0      0     0     0      1      0     0  \n",
       "2      0       0     11     1     0      0      1     3  \n",
       "3      0       0      0     1     5      0      1     2  \n",
       "4      0       0      0     0     0      0      0     0  \n",
       "\n",
       "[5 rows x 200 columns]"
      ]
     },
     "execution_count": 68,
     "metadata": {},
     "output_type": "execute_result"
    }
   ],
   "source": [
    "X_train_cv_df.head()"
   ]
  },
  {
   "cell_type": "code",
   "execution_count": 69,
   "metadata": {},
   "outputs": [
    {
     "data": {
      "text/html": [
       "<div>\n",
       "<style scoped>\n",
       "    .dataframe tbody tr th:only-of-type {\n",
       "        vertical-align: middle;\n",
       "    }\n",
       "\n",
       "    .dataframe tbody tr th {\n",
       "        vertical-align: top;\n",
       "    }\n",
       "\n",
       "    .dataframe thead th {\n",
       "        text-align: right;\n",
       "    }\n",
       "</style>\n",
       "<table border=\"1\" class=\"dataframe\">\n",
       "  <thead>\n",
       "    <tr style=\"text-align: right;\">\n",
       "      <th></th>\n",
       "      <th>able</th>\n",
       "      <th>actually</th>\n",
       "      <th>ago</th>\n",
       "      <th>alys</th>\n",
       "      <th>amp</th>\n",
       "      <th>arm</th>\n",
       "      <th>asked</th>\n",
       "      <th>ay</th>\n",
       "      <th>bad</th>\n",
       "      <th>bed</th>\n",
       "      <th>...</th>\n",
       "      <th>weird</th>\n",
       "      <th>went</th>\n",
       "      <th>white</th>\n",
       "      <th>window</th>\n",
       "      <th>woman</th>\n",
       "      <th>word</th>\n",
       "      <th>work</th>\n",
       "      <th>world</th>\n",
       "      <th>wrong</th>\n",
       "      <th>year</th>\n",
       "    </tr>\n",
       "  </thead>\n",
       "  <tbody>\n",
       "    <tr>\n",
       "      <th>0</th>\n",
       "      <td>0.000000</td>\n",
       "      <td>0.349205</td>\n",
       "      <td>0.0</td>\n",
       "      <td>0.000000</td>\n",
       "      <td>0.0</td>\n",
       "      <td>0.0</td>\n",
       "      <td>0.000000</td>\n",
       "      <td>0.000000</td>\n",
       "      <td>0.000000</td>\n",
       "      <td>0.0</td>\n",
       "      <td>...</td>\n",
       "      <td>0.0</td>\n",
       "      <td>0.000000</td>\n",
       "      <td>0.0</td>\n",
       "      <td>0.0</td>\n",
       "      <td>0.000000</td>\n",
       "      <td>0.000000</td>\n",
       "      <td>0.000000</td>\n",
       "      <td>0.00000</td>\n",
       "      <td>0.000000</td>\n",
       "      <td>0.000000</td>\n",
       "    </tr>\n",
       "    <tr>\n",
       "      <th>1</th>\n",
       "      <td>0.000000</td>\n",
       "      <td>0.000000</td>\n",
       "      <td>0.0</td>\n",
       "      <td>0.000000</td>\n",
       "      <td>0.0</td>\n",
       "      <td>0.0</td>\n",
       "      <td>0.000000</td>\n",
       "      <td>0.000000</td>\n",
       "      <td>0.000000</td>\n",
       "      <td>0.0</td>\n",
       "      <td>...</td>\n",
       "      <td>0.0</td>\n",
       "      <td>0.000000</td>\n",
       "      <td>0.0</td>\n",
       "      <td>0.0</td>\n",
       "      <td>0.000000</td>\n",
       "      <td>0.000000</td>\n",
       "      <td>0.000000</td>\n",
       "      <td>0.19153</td>\n",
       "      <td>0.000000</td>\n",
       "      <td>0.000000</td>\n",
       "    </tr>\n",
       "    <tr>\n",
       "      <th>2</th>\n",
       "      <td>0.000000</td>\n",
       "      <td>0.029788</td>\n",
       "      <td>0.0</td>\n",
       "      <td>0.121319</td>\n",
       "      <td>0.0</td>\n",
       "      <td>0.0</td>\n",
       "      <td>0.146389</td>\n",
       "      <td>0.021115</td>\n",
       "      <td>0.029998</td>\n",
       "      <td>0.0</td>\n",
       "      <td>...</td>\n",
       "      <td>0.0</td>\n",
       "      <td>0.163108</td>\n",
       "      <td>0.0</td>\n",
       "      <td>0.0</td>\n",
       "      <td>0.362964</td>\n",
       "      <td>0.028485</td>\n",
       "      <td>0.000000</td>\n",
       "      <td>0.00000</td>\n",
       "      <td>0.031057</td>\n",
       "      <td>0.062179</td>\n",
       "    </tr>\n",
       "    <tr>\n",
       "      <th>3</th>\n",
       "      <td>0.211676</td>\n",
       "      <td>0.000000</td>\n",
       "      <td>0.0</td>\n",
       "      <td>0.000000</td>\n",
       "      <td>0.0</td>\n",
       "      <td>0.0</td>\n",
       "      <td>0.145689</td>\n",
       "      <td>0.105069</td>\n",
       "      <td>0.059709</td>\n",
       "      <td>0.0</td>\n",
       "      <td>...</td>\n",
       "      <td>0.0</td>\n",
       "      <td>0.101455</td>\n",
       "      <td>0.0</td>\n",
       "      <td>0.0</td>\n",
       "      <td>0.000000</td>\n",
       "      <td>0.028349</td>\n",
       "      <td>0.139908</td>\n",
       "      <td>0.00000</td>\n",
       "      <td>0.030909</td>\n",
       "      <td>0.041254</td>\n",
       "    </tr>\n",
       "    <tr>\n",
       "      <th>4</th>\n",
       "      <td>0.000000</td>\n",
       "      <td>0.000000</td>\n",
       "      <td>0.0</td>\n",
       "      <td>0.000000</td>\n",
       "      <td>0.0</td>\n",
       "      <td>0.0</td>\n",
       "      <td>0.000000</td>\n",
       "      <td>0.000000</td>\n",
       "      <td>0.000000</td>\n",
       "      <td>0.0</td>\n",
       "      <td>...</td>\n",
       "      <td>0.0</td>\n",
       "      <td>0.000000</td>\n",
       "      <td>0.0</td>\n",
       "      <td>0.0</td>\n",
       "      <td>0.000000</td>\n",
       "      <td>0.000000</td>\n",
       "      <td>0.000000</td>\n",
       "      <td>0.00000</td>\n",
       "      <td>0.000000</td>\n",
       "      <td>0.000000</td>\n",
       "    </tr>\n",
       "  </tbody>\n",
       "</table>\n",
       "<p>5 rows × 200 columns</p>\n",
       "</div>"
      ],
      "text/plain": [
       "       able  actually  ago      alys  amp  arm     asked        ay       bad  \\\n",
       "0  0.000000  0.349205  0.0  0.000000  0.0  0.0  0.000000  0.000000  0.000000   \n",
       "1  0.000000  0.000000  0.0  0.000000  0.0  0.0  0.000000  0.000000  0.000000   \n",
       "2  0.000000  0.029788  0.0  0.121319  0.0  0.0  0.146389  0.021115  0.029998   \n",
       "3  0.211676  0.000000  0.0  0.000000  0.0  0.0  0.145689  0.105069  0.059709   \n",
       "4  0.000000  0.000000  0.0  0.000000  0.0  0.0  0.000000  0.000000  0.000000   \n",
       "\n",
       "   bed  ...  weird      went  white  window     woman      word      work  \\\n",
       "0  0.0  ...    0.0  0.000000    0.0     0.0  0.000000  0.000000  0.000000   \n",
       "1  0.0  ...    0.0  0.000000    0.0     0.0  0.000000  0.000000  0.000000   \n",
       "2  0.0  ...    0.0  0.163108    0.0     0.0  0.362964  0.028485  0.000000   \n",
       "3  0.0  ...    0.0  0.101455    0.0     0.0  0.000000  0.028349  0.139908   \n",
       "4  0.0  ...    0.0  0.000000    0.0     0.0  0.000000  0.000000  0.000000   \n",
       "\n",
       "     world     wrong      year  \n",
       "0  0.00000  0.000000  0.000000  \n",
       "1  0.19153  0.000000  0.000000  \n",
       "2  0.00000  0.031057  0.062179  \n",
       "3  0.00000  0.030909  0.041254  \n",
       "4  0.00000  0.000000  0.000000  \n",
       "\n",
       "[5 rows x 200 columns]"
      ]
     },
     "execution_count": 69,
     "metadata": {},
     "output_type": "execute_result"
    }
   ],
   "source": [
    "X_train_tv_df.head()"
   ]
  },
  {
   "cell_type": "code",
   "execution_count": 70,
   "metadata": {},
   "outputs": [],
   "source": [
    "# Transform our testing data with the already-fit CountVectorizer.\n",
    "X_test_cv = cvec.transform(X_test['combined']).todense()\n",
    "X_test_tv = tvec.transform(X_test['combined']).todense()"
   ]
  },
  {
   "cell_type": "code",
   "execution_count": 71,
   "metadata": {},
   "outputs": [],
   "source": [
    "X_test_cv_df = pd.DataFrame(X_test_cv, columns=cvec.get_feature_names())\n",
    "X_test_tv_df = pd.DataFrame(X_test_tv, columns=cvec.get_feature_names())"
   ]
  },
  {
   "cell_type": "markdown",
   "metadata": {},
   "source": [
    "#### Fitting A Naive Bayes Model - Multinomial with CVEC and TVEC"
   ]
  },
  {
   "cell_type": "markdown",
   "metadata": {},
   "source": [
    "The columns of X are all integer counts, so MultinomialNB is the best choice."
   ]
  },
  {
   "cell_type": "code",
   "execution_count": 72,
   "metadata": {},
   "outputs": [
    {
     "name": "stdout",
     "output_type": "stream",
     "text": [
      "train_score_cv: 0.8824020016680567\n",
      "test_score_cv: 0.8699029126213592\n",
      "\n",
      "True Positives CV: 204\n",
      "False Positives CV : 35\n",
      "False Negatives CV: 32\n",
      "True Negatives CV: 244\n",
      "\n",
      "Accuracy CV: 0.87\n",
      "Sensitivity CV: 0.864\n",
      "Specificity CV: 0.875\n",
      "Precision CV: 0.854\n",
      "\n"
     ]
    }
   ],
   "source": [
    "# create baseline model with MultinomialNB model\n",
    "# use X_train_cv, X_test_cv, y_train, y_test\n",
    "\n",
    "nb = MultinomialNB()\n",
    "\n",
    "# fit cv and pred model\n",
    "model_cv = nb.fit(X_train_cv,y_train)\n",
    "y_pred_cv = model_cv.predict(X_test_cv)\n",
    "\n",
    "# score MultinomialNB model\n",
    "train_score_cv = model_cv.score(X_train_cv,y_train)\n",
    "print('train_score_cv:',train_score_cv)\n",
    "\n",
    "test_score_cv = model_cv.score(X_test_cv,y_test)\n",
    "print('test_score_cv:',test_score_cv)\n",
    "print('')\n",
    "\n",
    "# create confusion matrix cv\n",
    "tn, fp, fn, tp = confusion_matrix(y_test, y_pred_cv).ravel()\n",
    "\n",
    "print(\"True Positives CV: %s\" % tp)\n",
    "print(\"False Positives CV : %s\" % fp)\n",
    "print(\"False Negatives CV: %s\" % fn)\n",
    "print(\"True Negatives CV: %s\" % tn)\n",
    "print('')\n",
    "\n",
    "# confusion matrix metrics cv\n",
    "\n",
    "accuracy = (tp+tn)/(tp+fp+fn+tn)\n",
    "sensitivity = tp/(tp+fn)\n",
    "specificity = tn/(tn+fp)\n",
    "precision = tp/(tp+fp)\n",
    "\n",
    "print('Accuracy CV:',round(accuracy,3))\n",
    "print('Sensitivity CV:',round(sensitivity,3))\n",
    "print('Specificity CV:',round(specificity,3))\n",
    "print('Precision CV:',round(precision,3))\n",
    "print('')"
   ]
  },
  {
   "cell_type": "code",
   "execution_count": 73,
   "metadata": {
    "scrolled": false
   },
   "outputs": [
    {
     "name": "stdout",
     "output_type": "stream",
     "text": [
      "train_score_tv: 0.8824020016680567\n",
      "test_score_tv: 0.8718446601941747\n",
      "\n",
      "True Positives TV: 195\n",
      "False Positives TV : 25\n",
      "False Negatives TV: 41\n",
      "True Negatives TV: 254\n",
      "\n",
      "Accuracy TV: 0.872\n",
      "Sensitivity TV: 0.826\n",
      "Specificity TV: 0.91\n",
      "Precision TV: 0.886\n",
      "\n"
     ]
    }
   ],
   "source": [
    "# use X_train_tv, X_test_tv, y_train, y_test\n",
    "\n",
    "# fit tv and pred model\n",
    "model_tv = nb.fit(X_train_tv,y_train)\n",
    "y_pred_tv = model_tv.predict(X_test_tv)\n",
    "\n",
    "\n",
    "# score MultinomialNB model\n",
    "train_score_tv = model_tv.score(X_train_tv,y_train)\n",
    "print('train_score_tv:',train_score_tv)\n",
    "\n",
    "test_score_tv = model_tv.score(X_test_tv,y_test)\n",
    "print('test_score_tv:',test_score_tv)\n",
    "print('')\n",
    "\n",
    "# create confusion matrix tv\n",
    "tn, fp, fn, tp = confusion_matrix(y_test, y_pred_tv).ravel()\n",
    "\n",
    "print(\"True Positives TV: %s\" % tp)\n",
    "print(\"False Positives TV : %s\" % fp)\n",
    "print(\"False Negatives TV: %s\" % fn)\n",
    "print(\"True Negatives TV: %s\" % tn)\n",
    "print('')\n",
    "\n",
    "# confusion matrix metrics tv\n",
    "\n",
    "accuracy = (tp+tn)/(tp+fp+fn+tn)\n",
    "sensitivity = tp/(tp+fn)\n",
    "specificity = tn/(tn+fp)\n",
    "precision = tp/(tp+fp)\n",
    "\n",
    "print('Accuracy TV:',round(accuracy,3))\n",
    "print('Sensitivity TV:',round(sensitivity,3))\n",
    "print('Specificity TV:',round(specificity,3))\n",
    "print('Precision TV:',round(precision,3))\n",
    "print('')"
   ]
  },
  {
   "cell_type": "markdown",
   "metadata": {},
   "source": [
    "#### Relationship between Sensitivity and Specificity"
   ]
  },
  {
   "cell_type": "code",
   "execution_count": 74,
   "metadata": {
    "scrolled": true
   },
   "outputs": [
    {
     "data": {
      "text/plain": [
       "array([[2.36409046e-03, 9.97635910e-01],\n",
       "       [9.83709074e-01, 1.62909257e-02],\n",
       "       [1.00000000e+00, 1.13967594e-12],\n",
       "       ...,\n",
       "       [2.82145708e-03, 9.97178543e-01],\n",
       "       [1.58294433e-15, 1.00000000e+00],\n",
       "       [8.41711461e-01, 1.58288539e-01]])"
      ]
     },
     "execution_count": 74,
     "metadata": {},
     "output_type": "execute_result"
    }
   ],
   "source": [
    "nb.predict_proba(X_test_cv)"
   ]
  },
  {
   "cell_type": "code",
   "execution_count": 75,
   "metadata": {},
   "outputs": [
    {
     "data": {
      "text/html": [
       "<div>\n",
       "<style scoped>\n",
       "    .dataframe tbody tr th:only-of-type {\n",
       "        vertical-align: middle;\n",
       "    }\n",
       "\n",
       "    .dataframe tbody tr th {\n",
       "        vertical-align: top;\n",
       "    }\n",
       "\n",
       "    .dataframe thead th {\n",
       "        text-align: right;\n",
       "    }\n",
       "</style>\n",
       "<table border=\"1\" class=\"dataframe\">\n",
       "  <thead>\n",
       "    <tr style=\"text-align: right;\">\n",
       "      <th></th>\n",
       "      <th>true_values</th>\n",
       "      <th>pred_probs</th>\n",
       "    </tr>\n",
       "  </thead>\n",
       "  <tbody>\n",
       "    <tr>\n",
       "      <th>664</th>\n",
       "      <td>1</td>\n",
       "      <td>9.976359e-01</td>\n",
       "    </tr>\n",
       "    <tr>\n",
       "      <th>397</th>\n",
       "      <td>0</td>\n",
       "      <td>1.629093e-02</td>\n",
       "    </tr>\n",
       "    <tr>\n",
       "      <th>885</th>\n",
       "      <td>0</td>\n",
       "      <td>1.139676e-12</td>\n",
       "    </tr>\n",
       "    <tr>\n",
       "      <th>40</th>\n",
       "      <td>0</td>\n",
       "      <td>1.929445e-02</td>\n",
       "    </tr>\n",
       "    <tr>\n",
       "      <th>672</th>\n",
       "      <td>0</td>\n",
       "      <td>2.670742e-05</td>\n",
       "    </tr>\n",
       "  </tbody>\n",
       "</table>\n",
       "</div>"
      ],
      "text/plain": [
       "     true_values    pred_probs\n",
       "664            1  9.976359e-01\n",
       "397            0  1.629093e-02\n",
       "885            0  1.139676e-12\n",
       "40             0  1.929445e-02\n",
       "672            0  2.670742e-05"
      ]
     },
     "execution_count": 75,
     "metadata": {},
     "output_type": "execute_result"
    }
   ],
   "source": [
    "pred_proba_cv = [i[1] for i in nb.predict_proba(X_test_cv)]\n",
    "\n",
    "pred_df_cv = pd.DataFrame({'true_values': y_test,\n",
    "                        'pred_probs':pred_proba_cv})\n",
    "\n",
    "pred_df_cv.head()"
   ]
  },
  {
   "cell_type": "code",
   "execution_count": 76,
   "metadata": {},
   "outputs": [
    {
     "data": {
      "image/png": "[encoded data removed]",
      "text/plain": [
       "<Figure size 720x504 with 1 Axes>"
      ]
     },
     "metadata": {
      "needs_background": "light"
     },
     "output_type": "display_data"
    }
   ],
   "source": [
    "# Create figure.\n",
    "plt.figure(figsize = (10,7))\n",
    "\n",
    "# Create threshold values.\n",
    "thresholds = np.linspace(0, 1, 200)\n",
    "\n",
    "# Define function to calculate sensitivity. (True positive rate.)\n",
    "def TPR(df, true_col, pred_prob_col, threshold):\n",
    "    true_positive = df[(df[true_col] == 1) & (df[pred_prob_col] >= threshold)].shape[0]\n",
    "    false_negative = df[(df[true_col] == 1) & (df[pred_prob_col] < threshold)].shape[0]\n",
    "    return true_positive / (true_positive + false_negative)\n",
    "\n",
    "# Define function to calculate 1 - specificity. (False positive rate.)\n",
    "def FPR(df, true_col, pred_prob_col, threshold):\n",
    "    true_negative = df[(df[true_col] == 0) & (df[pred_prob_col] <= threshold)].shape[0]\n",
    "    false_positive = df[(df[true_col] == 0) & (df[pred_prob_col] > threshold)].shape[0]\n",
    "    return 1 - (true_negative / (true_negative + false_positive))\n",
    "    \n",
    "# Calculate sensitivity & 1-specificity for each threshold between 0 and 1.\n",
    "tpr_values = [TPR(pred_df_cv, 'true_values', 'pred_probs', prob) for prob in thresholds]\n",
    "fpr_values = [FPR(pred_df_cv, 'true_values', 'pred_probs', prob) for prob in thresholds]\n",
    "\n",
    "# Plot ROC curve.\n",
    "plt.plot(fpr_values, # False Positive Rate on X-axis\n",
    "         tpr_values, # True Positive Rate on Y-axis\n",
    "         label='ROC Curve')\n",
    "\n",
    "# Plot baseline. (Perfect overlap between the two populations.)\n",
    "plt.plot(np.linspace(0, 1, 200),\n",
    "         np.linspace(0, 1, 200),\n",
    "         label='baseline',\n",
    "         linestyle='--')\n",
    "\n",
    "# Label axes.\n",
    "plt.title(f'ROC Curve with AUC = {round(roc_auc_score(pred_df_cv[\"true_values\"], pred_df_cv[\"pred_probs\"]),3)}', fontsize=22)\n",
    "plt.ylabel('Sensitivity', fontsize=18)\n",
    "plt.xlabel('1 - Specificity', fontsize=18)\n",
    "\n",
    "# Create legend.\n",
    "plt.legend(fontsize=16);"
   ]
  },
  {
   "cell_type": "code",
   "execution_count": 77,
   "metadata": {
    "scrolled": true
   },
   "outputs": [
    {
     "data": {
      "text/plain": [
       "array([[0.45087619, 0.54912381],\n",
       "       [0.74312532, 0.25687468],\n",
       "       [0.86866254, 0.13133746],\n",
       "       ...,\n",
       "       [0.43452263, 0.56547737],\n",
       "       [0.26931341, 0.73068659],\n",
       "       [0.67109483, 0.32890517]])"
      ]
     },
     "execution_count": 77,
     "metadata": {},
     "output_type": "execute_result"
    }
   ],
   "source": [
    "nb.predict_proba(X_test_tv)"
   ]
  },
  {
   "cell_type": "code",
   "execution_count": 78,
   "metadata": {
    "scrolled": false
   },
   "outputs": [
    {
     "data": {
      "text/html": [
       "<div>\n",
       "<style scoped>\n",
       "    .dataframe tbody tr th:only-of-type {\n",
       "        vertical-align: middle;\n",
       "    }\n",
       "\n",
       "    .dataframe tbody tr th {\n",
       "        vertical-align: top;\n",
       "    }\n",
       "\n",
       "    .dataframe thead th {\n",
       "        text-align: right;\n",
       "    }\n",
       "</style>\n",
       "<table border=\"1\" class=\"dataframe\">\n",
       "  <thead>\n",
       "    <tr style=\"text-align: right;\">\n",
       "      <th></th>\n",
       "      <th>true_values</th>\n",
       "      <th>pred_probs</th>\n",
       "    </tr>\n",
       "  </thead>\n",
       "  <tbody>\n",
       "    <tr>\n",
       "      <th>664</th>\n",
       "      <td>1</td>\n",
       "      <td>0.549124</td>\n",
       "    </tr>\n",
       "    <tr>\n",
       "      <th>397</th>\n",
       "      <td>0</td>\n",
       "      <td>0.256875</td>\n",
       "    </tr>\n",
       "    <tr>\n",
       "      <th>885</th>\n",
       "      <td>0</td>\n",
       "      <td>0.131337</td>\n",
       "    </tr>\n",
       "    <tr>\n",
       "      <th>40</th>\n",
       "      <td>0</td>\n",
       "      <td>0.289378</td>\n",
       "    </tr>\n",
       "    <tr>\n",
       "      <th>672</th>\n",
       "      <td>0</td>\n",
       "      <td>0.263728</td>\n",
       "    </tr>\n",
       "  </tbody>\n",
       "</table>\n",
       "</div>"
      ],
      "text/plain": [
       "     true_values  pred_probs\n",
       "664            1    0.549124\n",
       "397            0    0.256875\n",
       "885            0    0.131337\n",
       "40             0    0.289378\n",
       "672            0    0.263728"
      ]
     },
     "execution_count": 78,
     "metadata": {},
     "output_type": "execute_result"
    }
   ],
   "source": [
    "pred_proba_tv = [i[1] for i in nb.predict_proba(X_test_tv)]\n",
    "\n",
    "pred_df_tv = pd.DataFrame({'true_values': y_test,\n",
    "                        'pred_probs':pred_proba_tv})\n",
    "\n",
    "pred_df_tv.head()"
   ]
  },
  {
   "cell_type": "code",
   "execution_count": 79,
   "metadata": {
    "scrolled": false
   },
   "outputs": [
    {
     "data": {
      "image/png": "[encoded data removed]",
      "text/plain": [
       "<Figure size 720x504 with 1 Axes>"
      ]
     },
     "metadata": {
      "needs_background": "light"
     },
     "output_type": "display_data"
    }
   ],
   "source": [
    "# Create figure.\n",
    "plt.figure(figsize = (10,7))\n",
    "\n",
    "# Create threshold values.\n",
    "thresholds = np.linspace(0, 1, 200)\n",
    "\n",
    "# Define function to calculate sensitivity. (True positive rate.)\n",
    "def TPR(df, true_col, pred_prob_col, threshold):\n",
    "    true_positive = df[(df[true_col] == 1) & (df[pred_prob_col] >= threshold)].shape[0]\n",
    "    false_negative = df[(df[true_col] == 1) & (df[pred_prob_col] < threshold)].shape[0]\n",
    "    return true_positive / (true_positive + false_negative)\n",
    "\n",
    "# Define function to calculate 1 - specificity. (False positive rate.)\n",
    "def FPR(df, true_col, pred_prob_col, threshold):\n",
    "    true_negative = df[(df[true_col] == 0) & (df[pred_prob_col] <= threshold)].shape[0]\n",
    "    false_positive = df[(df[true_col] == 0) & (df[pred_prob_col] > threshold)].shape[0]\n",
    "    return 1 - (true_negative / (true_negative + false_positive))\n",
    "    \n",
    "# Calculate sensitivity & 1-specificity for each threshold between 0 and 1.\n",
    "tpr_values = [TPR(pred_df_tv, 'true_values', 'pred_probs', prob) for prob in thresholds]\n",
    "fpr_values = [FPR(pred_df_tv, 'true_values', 'pred_probs', prob) for prob in thresholds]\n",
    "\n",
    "# Plot ROC curve.\n",
    "plt.plot(fpr_values, # False Positive Rate on X-axis\n",
    "         tpr_values, # True Positive Rate on Y-axis\n",
    "         label='ROC Curve')\n",
    "\n",
    "# Plot baseline. (Perfect overlap between the two populations.)\n",
    "plt.plot(np.linspace(0, 1, 200),\n",
    "         np.linspace(0, 1, 200),\n",
    "         label='baseline',\n",
    "         linestyle='--')\n",
    "\n",
    "# Label axes.\n",
    "plt.title(f'ROC Curve with AUC = {round(roc_auc_score(pred_df_tv[\"true_values\"], pred_df_tv[\"pred_probs\"]),3)}', fontsize=22)\n",
    "plt.ylabel('Sensitivity', fontsize=18)\n",
    "plt.xlabel('1 - Specificity', fontsize=18)\n",
    "\n",
    "# Create legend.\n",
    "plt.legend(fontsize=16);"
   ]
  },
  {
   "cell_type": "markdown",
   "metadata": {},
   "source": [
    "## Logistic Regression Model"
   ]
  },
  {
   "cell_type": "code",
   "execution_count": 80,
   "metadata": {},
   "outputs": [
    {
     "name": "stdout",
     "output_type": "stream",
     "text": [
      "train_score_cv: 0.9958298582151793\n",
      "test_score_cv: 0.9087378640776699\n",
      "\n",
      "True Positives CV: 208\n",
      "False Positives CV : 19\n",
      "False Negatives CV: 28\n",
      "True Negatives CV: 260\n",
      "\n",
      "Accuracy CV: 0.909\n",
      "Sensitivity CV: 0.881\n",
      "Specificity CV: 0.932\n",
      "Precision CV: 0.916\n",
      "\n"
     ]
    },
    {
     "name": "stderr",
     "output_type": "stream",
     "text": [
      "/Library/Frameworks/Python.framework/Versions/3.8/lib/python3.8/site-packages/sklearn/linear_model/_logistic.py:938: ConvergenceWarning: lbfgs failed to converge (status=1):\n",
      "STOP: TOTAL NO. of ITERATIONS REACHED LIMIT.\n",
      "\n",
      "Increase the number of iterations (max_iter) or scale the data as shown in:\n",
      "    https://scikit-learn.org/stable/modules/preprocessing.html\n",
      "Please also refer to the documentation for alternative solver options:\n",
      "    https://scikit-learn.org/stable/modules/linear_model.html#logistic-regression\n",
      "  n_iter_i = _check_optimize_result(\n"
     ]
    }
   ],
   "source": [
    "# create confusion matrix cv\n",
    "# use X_train_cv, X_test_cv, y_train, y_test\n",
    "lr = LogisticRegression()\n",
    "\n",
    "# fit cv and pred model\n",
    "model_cv = lr.fit(X_train_cv,y_train)\n",
    "y_pred_cv = model_cv.predict(X_test_cv)\n",
    "\n",
    "# score lr model\n",
    "train_score_cv = model_cv.score(X_train_cv,y_train)\n",
    "print('train_score_cv:',train_score_cv)\n",
    "\n",
    "test_score_cv = model_cv.score(X_test_cv,y_test)\n",
    "print('test_score_cv:',test_score_cv)\n",
    "print('')\n",
    "\n",
    "tn, fp, fn, tp = confusion_matrix(y_test, y_pred_cv).ravel()\n",
    "\n",
    "print(\"True Positives CV: %s\" % tp)\n",
    "print(\"False Positives CV : %s\" % fp)\n",
    "print(\"False Negatives CV: %s\" % fn)\n",
    "print(\"True Negatives CV: %s\" % tn)\n",
    "print('')\n",
    "# confusion matrix metrics cv\n",
    "\n",
    "accuracy = (tp+tn)/(tp+fp+fn+tn)\n",
    "sensitivity = tp/(tp+fn)\n",
    "specificity = tn/(tn+fp)\n",
    "precision = tp/(tp+fp)\n",
    "\n",
    "print('Accuracy CV:',round(accuracy,3))\n",
    "print('Sensitivity CV:',round(sensitivity,3))\n",
    "print('Specificity CV:',round(specificity,3))\n",
    "print('Precision CV:',round(precision,3))\n",
    "print('')"
   ]
  },
  {
   "cell_type": "code",
   "execution_count": 81,
   "metadata": {},
   "outputs": [
    {
     "data": {
      "text/plain": [
       "array([[2.45795432e-04, 9.99754205e-01],\n",
       "       [9.96323006e-01, 3.67699450e-03],\n",
       "       [9.99972588e-01, 2.74116306e-05],\n",
       "       ...,\n",
       "       [5.00781518e-05, 9.99949922e-01],\n",
       "       [1.15523147e-11, 1.00000000e+00],\n",
       "       [9.97047959e-01, 2.95204088e-03]])"
      ]
     },
     "execution_count": 81,
     "metadata": {},
     "output_type": "execute_result"
    }
   ],
   "source": [
    "lr.predict_proba(X_test_cv)"
   ]
  },
  {
   "cell_type": "code",
   "execution_count": 82,
   "metadata": {},
   "outputs": [
    {
     "data": {
      "text/html": [
       "<div>\n",
       "<style scoped>\n",
       "    .dataframe tbody tr th:only-of-type {\n",
       "        vertical-align: middle;\n",
       "    }\n",
       "\n",
       "    .dataframe tbody tr th {\n",
       "        vertical-align: top;\n",
       "    }\n",
       "\n",
       "    .dataframe thead th {\n",
       "        text-align: right;\n",
       "    }\n",
       "</style>\n",
       "<table border=\"1\" class=\"dataframe\">\n",
       "  <thead>\n",
       "    <tr style=\"text-align: right;\">\n",
       "      <th></th>\n",
       "      <th>true_values</th>\n",
       "      <th>pred_probs</th>\n",
       "    </tr>\n",
       "  </thead>\n",
       "  <tbody>\n",
       "    <tr>\n",
       "      <th>664</th>\n",
       "      <td>1</td>\n",
       "      <td>0.999754</td>\n",
       "    </tr>\n",
       "    <tr>\n",
       "      <th>397</th>\n",
       "      <td>0</td>\n",
       "      <td>0.003677</td>\n",
       "    </tr>\n",
       "    <tr>\n",
       "      <th>885</th>\n",
       "      <td>0</td>\n",
       "      <td>0.000027</td>\n",
       "    </tr>\n",
       "    <tr>\n",
       "      <th>40</th>\n",
       "      <td>0</td>\n",
       "      <td>0.000054</td>\n",
       "    </tr>\n",
       "    <tr>\n",
       "      <th>672</th>\n",
       "      <td>0</td>\n",
       "      <td>0.000142</td>\n",
       "    </tr>\n",
       "  </tbody>\n",
       "</table>\n",
       "</div>"
      ],
      "text/plain": [
       "     true_values  pred_probs\n",
       "664            1    0.999754\n",
       "397            0    0.003677\n",
       "885            0    0.000027\n",
       "40             0    0.000054\n",
       "672            0    0.000142"
      ]
     },
     "execution_count": 82,
     "metadata": {},
     "output_type": "execute_result"
    }
   ],
   "source": [
    "pred_proba_cv = [i[1] for i in lr.predict_proba(X_test_cv)]\n",
    "\n",
    "pred_df_cv = pd.DataFrame({'true_values': y_test,\n",
    "                        'pred_probs':pred_proba_cv})\n",
    "\n",
    "pred_df_cv.head()"
   ]
  },
  {
   "cell_type": "code",
   "execution_count": 83,
   "metadata": {
    "scrolled": false
   },
   "outputs": [
    {
     "data": {
      "image/png": "[encoded data removed]",
      "text/plain": [
       "<Figure size 720x504 with 1 Axes>"
      ]
     },
     "metadata": {
      "needs_background": "light"
     },
     "output_type": "display_data"
    }
   ],
   "source": [
    "# Create figure.\n",
    "plt.figure(figsize = (10,7))\n",
    "\n",
    "# Create threshold values.\n",
    "thresholds = np.linspace(0, 1, 200)\n",
    "\n",
    "# Define function to calculate sensitivity. (True positive rate.)\n",
    "def TPR(df, true_col, pred_prob_col, threshold):\n",
    "    true_positive = df[(df[true_col] == 1) & (df[pred_prob_col] >= threshold)].shape[0]\n",
    "    false_negative = df[(df[true_col] == 1) & (df[pred_prob_col] < threshold)].shape[0]\n",
    "    return true_positive / (true_positive + false_negative)\n",
    "\n",
    "# Define function to calculate 1 - specificity. (False positive rate.)\n",
    "def FPR(df, true_col, pred_prob_col, threshold):\n",
    "    true_negative = df[(df[true_col] == 0) & (df[pred_prob_col] <= threshold)].shape[0]\n",
    "    false_positive = df[(df[true_col] == 0) & (df[pred_prob_col] > threshold)].shape[0]\n",
    "    return 1 - (true_negative / (true_negative + false_positive))\n",
    "    \n",
    "# Calculate sensitivity & 1-specificity for each threshold between 0 and 1.\n",
    "tpr_values = [TPR(pred_df_cv, 'true_values', 'pred_probs', prob) for prob in thresholds]\n",
    "fpr_values = [FPR(pred_df_cv, 'true_values', 'pred_probs', prob) for prob in thresholds]\n",
    "\n",
    "# Plot ROC curve.\n",
    "plt.plot(fpr_values, # False Positive Rate on X-axis\n",
    "         tpr_values, # True Positive Rate on Y-axis\n",
    "         label='ROC Curve')\n",
    "\n",
    "# Plot baseline. (Perfect overlap between the two populations.)\n",
    "plt.plot(np.linspace(0, 1, 200),\n",
    "         np.linspace(0, 1, 200),\n",
    "         label='baseline',\n",
    "         linestyle='--')\n",
    "\n",
    "# Label axes.\n",
    "plt.title(f'ROC Curve with AUC = {round(roc_auc_score(pred_df_cv[\"true_values\"], pred_df_cv[\"pred_probs\"]),3)}', fontsize=22)\n",
    "plt.ylabel('Sensitivity', fontsize=18)\n",
    "plt.xlabel('1 - Specificity', fontsize=18)\n",
    "\n",
    "# Create legend.\n",
    "plt.legend(fontsize=16);"
   ]
  },
  {
   "cell_type": "code",
   "execution_count": 84,
   "metadata": {},
   "outputs": [
    {
     "name": "stdout",
     "output_type": "stream",
     "text": [
      "train_score_tv: 0.9441201000834029\n",
      "test_score_tv: 0.9184466019417475\n",
      "\n",
      "True Positives TV: 206\n",
      "False Positives TV : 12\n",
      "False Negatives TV: 30\n",
      "True Negatives TV: 267\n",
      "\n",
      "Accuracy TV: 0.918\n",
      "Sensitivity TV: 0.873\n",
      "Specificity TV: 0.957\n",
      "Precision TV: 0.945\n",
      "\n"
     ]
    }
   ],
   "source": [
    "# create another model with CountVectorizer() and TfidVectorizer()\n",
    "# use X_train_tv, X_test_tv, y_train, y_test\n",
    "\n",
    "model_tv = lr.fit(X_train_tv,y_train)\n",
    "y_pred_tv = model_tv.predict(X_test_tv)\n",
    "\n",
    "# score lr model\n",
    "train_score_tv = model_tv.score(X_train_tv,y_train)\n",
    "print('train_score_tv:',train_score_tv)\n",
    "\n",
    "test_score_tv = model_tv.score(X_test_tv,y_test)\n",
    "print('test_score_tv:',test_score_tv)\n",
    "print('')\n",
    "\n",
    "# create confusion matrix tv\n",
    "\n",
    "tn, fp, fn, tp = confusion_matrix(y_test, y_pred_tv).ravel()\n",
    "\n",
    "print(\"True Positives TV: %s\" % tp)\n",
    "print(\"False Positives TV : %s\" % fp)\n",
    "print(\"False Negatives TV: %s\" % fn)\n",
    "print(\"True Negatives TV: %s\" % tn)\n",
    "print('')\n",
    "\n",
    "# confusion matrix metrics tv\n",
    "\n",
    "accuracy = (tp+tn)/(tp+fp+fn+tn)\n",
    "sensitivity = tp/(tp+fn)\n",
    "specificity = tn/(tn+fp)\n",
    "precision = tp/(tp+fp)\n",
    "\n",
    "print('Accuracy TV:',round(accuracy,3))\n",
    "print('Sensitivity TV:',round(sensitivity,3))\n",
    "print('Specificity TV:',round(specificity,3))\n",
    "print('Precision TV:',round(precision,3))\n",
    "print('')"
   ]
  },
  {
   "cell_type": "code",
   "execution_count": 85,
   "metadata": {
    "scrolled": true
   },
   "outputs": [
    {
     "data": {
      "text/plain": [
       "array([[0.20713426, 0.79286574],\n",
       "       [0.91672711, 0.08327289],\n",
       "       [0.95622822, 0.04377178],\n",
       "       ...,\n",
       "       [0.32492907, 0.67507093],\n",
       "       [0.1101927 , 0.8898073 ],\n",
       "       [0.94519214, 0.05480786]])"
      ]
     },
     "execution_count": 85,
     "metadata": {},
     "output_type": "execute_result"
    }
   ],
   "source": [
    "lr.predict_proba(X_test_tv)"
   ]
  },
  {
   "cell_type": "code",
   "execution_count": 86,
   "metadata": {},
   "outputs": [
    {
     "data": {
      "text/html": [
       "<div>\n",
       "<style scoped>\n",
       "    .dataframe tbody tr th:only-of-type {\n",
       "        vertical-align: middle;\n",
       "    }\n",
       "\n",
       "    .dataframe tbody tr th {\n",
       "        vertical-align: top;\n",
       "    }\n",
       "\n",
       "    .dataframe thead th {\n",
       "        text-align: right;\n",
       "    }\n",
       "</style>\n",
       "<table border=\"1\" class=\"dataframe\">\n",
       "  <thead>\n",
       "    <tr style=\"text-align: right;\">\n",
       "      <th></th>\n",
       "      <th>true_values</th>\n",
       "      <th>pred_probs</th>\n",
       "    </tr>\n",
       "  </thead>\n",
       "  <tbody>\n",
       "    <tr>\n",
       "      <th>664</th>\n",
       "      <td>1</td>\n",
       "      <td>0.792866</td>\n",
       "    </tr>\n",
       "    <tr>\n",
       "      <th>397</th>\n",
       "      <td>0</td>\n",
       "      <td>0.083273</td>\n",
       "    </tr>\n",
       "    <tr>\n",
       "      <th>885</th>\n",
       "      <td>0</td>\n",
       "      <td>0.043772</td>\n",
       "    </tr>\n",
       "    <tr>\n",
       "      <th>40</th>\n",
       "      <td>0</td>\n",
       "      <td>0.027965</td>\n",
       "    </tr>\n",
       "    <tr>\n",
       "      <th>672</th>\n",
       "      <td>0</td>\n",
       "      <td>0.133691</td>\n",
       "    </tr>\n",
       "  </tbody>\n",
       "</table>\n",
       "</div>"
      ],
      "text/plain": [
       "     true_values  pred_probs\n",
       "664            1    0.792866\n",
       "397            0    0.083273\n",
       "885            0    0.043772\n",
       "40             0    0.027965\n",
       "672            0    0.133691"
      ]
     },
     "execution_count": 86,
     "metadata": {},
     "output_type": "execute_result"
    }
   ],
   "source": [
    "pred_proba_tv = [i[1] for i in lr.predict_proba(X_test_tv)]\n",
    "\n",
    "pred_df_tv = pd.DataFrame({'true_values': y_test,\n",
    "                        'pred_probs':pred_proba_tv})\n",
    "\n",
    "pred_df_tv.head()"
   ]
  },
  {
   "cell_type": "code",
   "execution_count": 87,
   "metadata": {},
   "outputs": [
    {
     "data": {
      "image/png": "[encoded data removed]",
      "text/plain": [
       "<Figure size 720x504 with 1 Axes>"
      ]
     },
     "metadata": {
      "needs_background": "light"
     },
     "output_type": "display_data"
    }
   ],
   "source": [
    "# Create figure.\n",
    "plt.figure(figsize = (10,7))\n",
    "\n",
    "# Create threshold values.\n",
    "thresholds = np.linspace(0, 1, 200)\n",
    "\n",
    "# Define function to calculate sensitivity. (True positive rate.)\n",
    "def TPR(df, true_col, pred_prob_col, threshold):\n",
    "    true_positive = df[(df[true_col] == 1) & (df[pred_prob_col] >= threshold)].shape[0]\n",
    "    false_negative = df[(df[true_col] == 1) & (df[pred_prob_col] < threshold)].shape[0]\n",
    "    return true_positive / (true_positive + false_negative)\n",
    "\n",
    "# Define function to calculate 1 - specificity. (False positive rate.)\n",
    "def FPR(df, true_col, pred_prob_col, threshold):\n",
    "    true_negative = df[(df[true_col] == 0) & (df[pred_prob_col] <= threshold)].shape[0]\n",
    "    false_positive = df[(df[true_col] == 0) & (df[pred_prob_col] > threshold)].shape[0]\n",
    "    return 1 - (true_negative / (true_negative + false_positive))\n",
    "    \n",
    "# Calculate sensitivity & 1-specificity for each threshold between 0 and 1.\n",
    "tpr_values = [TPR(pred_df_tv, 'true_values', 'pred_probs', prob) for prob in thresholds]\n",
    "fpr_values = [FPR(pred_df_tv, 'true_values', 'pred_probs', prob) for prob in thresholds]\n",
    "\n",
    "# Plot ROC curve.\n",
    "plt.plot(fpr_values, # False Positive Rate on X-axis\n",
    "         tpr_values, # True Positive Rate on Y-axis\n",
    "         label='ROC Curve')\n",
    "\n",
    "# Plot baseline. (Perfect overlap between the two populations.)\n",
    "plt.plot(np.linspace(0, 1, 200),\n",
    "         np.linspace(0, 1, 200),\n",
    "         label='baseline',\n",
    "         linestyle='--')\n",
    "\n",
    "# Label axes.\n",
    "plt.title(f'ROC Curve with AUC = {round(roc_auc_score(pred_df_tv[\"true_values\"], pred_df_tv[\"pred_probs\"]),3)}', fontsize=22)\n",
    "plt.ylabel('Sensitivity', fontsize=18)\n",
    "plt.xlabel('1 - Specificity', fontsize=18)\n",
    "\n",
    "# Create legend.\n",
    "plt.legend(fontsize=16);"
   ]
  },
  {
   "cell_type": "markdown",
   "metadata": {},
   "source": [
    "## Evaluation and Conceptual Understanding"
   ]
  },
  {
   "cell_type": "markdown",
   "metadata": {},
   "source": [
    "#### Final Choice of Model\n",
    "\n",
    "| |CVEC + NB|TVEC + NB|\n",
    "|---|---|---|\n",
    "|Train|0.8824|0.8824|\n",
    "|Test|0.8699|0.8718|\n",
    "|Accuracy|0.87|0.872|\n",
    "|ROC|0.896|0.937|\n",
    "\n",
    "| |CVEC + LR|TVEC + LR|\n",
    "|---|---|---|\n",
    "|Train|0.9958|0.9441|\n",
    "|Test|0.9087|0.9184|\n",
    "|Accuracy|0.909|0.918|\n",
    "|ROC|0.947|0.979|\n",
    "\n",
    "After evaluation of the models, the model that I picked was:\n",
    "**LogisticRegression TF-IDF**.\n",
    "\n",
    "This is because it has the highest accuracy score of **0.918**, with little overfit and high ROC score of **0.97**. \n",
    "\n",
    "The accuracy value of **0.918** means that **92%** of the predictions have been accurately classified.\n",
    "\n",
    "The model does have a slight overfit where the train data is at 0.9441 and the test data at 0.9184. The model has generally generalised well. The solution to the slight overfit would be to lower the number of max features when instantiating vectorizers.\n",
    "\n",
    "**False-positive**- things we falsely predict to be positive:\n",
    "    In this case, since `NoSleep` posts have been assigned the value of `1`, a false-positive woudl indicate that the `TheTruthIsHere` post have been incorrectly predicted (when it is really a `NoSleep` post. \n",
    "    \n",
    "However, in this case incorrectly mistaking a `NoSleep` post for a `TheTruthIsHere` post does not seem much better or worse than incorrectly mistaking a `TheTruthIsHere` posts for a `NoSleep` post."
   ]
  },
  {
   "cell_type": "markdown",
   "metadata": {},
   "source": [
    "## Conclusion & Recommendation"
   ]
  },
  {
   "cell_type": "markdown",
   "metadata": {},
   "source": [
    "In conclusion, despite given the similar genre of the two posts, the two posts do have their own set of rather unique words that helped to predict on unseen data the type of post it belongs to.\n",
    "\n",
    "It is interesting to note that posts that belong to `NoSleep`(fictional horror stories) tend to contain words such as 'hand', 'head' and 'eye'. Whereas personal paranomal encounters from the `TheTruthIsHere` posts tend to include words such as 'house', 'dream' and 'friend'.\n",
    "\n",
    "Through this the marketing team is able to differentiate reasonably between true horrror stories and fictional ones with 92% accuracy. This will help us to create stories with targeted keywords to attract more people to the viewing page where our items are being marketed. \n",
    "\n",
    "In the future, we can make use of the GridSearch model to determine the best parameters for our models to obtain the best optimized model."
   ]
  },
  {
   "cell_type": "code",
   "execution_count": null,
   "metadata": {},
   "outputs": [],
   "source": []
  }
 ],
 "metadata": {
  "anaconda-cloud": {},
  "kernelspec": {
   "display_name": "Python 3",
   "language": "python",
   "name": "python3"
  },
  "language_info": {
   "codemirror_mode": {
    "name": "ipython",
    "version": 3
   },
   "file_extension": ".py",
   "mimetype": "text/x-python",
   "name": "python",
   "nbconvert_exporter": "python",
   "pygments_lexer": "ipython3",
   "version": "3.8.1"
  }
 },
 "nbformat": 4,
 "nbformat_minor": 2
}
