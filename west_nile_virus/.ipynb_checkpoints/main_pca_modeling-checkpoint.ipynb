{
 "cells": [
  {
   "cell_type": "code",
   "execution_count": 1,
   "metadata": {},
   "outputs": [],
   "source": [
    "# import libraries\n",
    "import operator\n",
    "\n",
    "# maths\n",
    "import numpy as np\n",
    "import pandas as pd\n",
    "\n",
    "# visual\n",
    "\n",
    "import seaborn as sns\n",
    "import matplotlib.pyplot as plt\n",
    "%matplotlib inline\n",
    "\n",
    "# modelling\n",
    "from sklearn.linear_model import LogisticRegression, Ridge, Lasso\n",
    "from sklearn.model_selection import train_test_split,cross_val_score,GridSearchCV,RandomizedSearchCV,KFold\n",
    "from sklearn.decomposition import PCA\n",
    "from sklearn.metrics import roc_auc_score, roc_curve, confusion_matrix,accuracy_score\n",
    "from sklearn.pipeline import Pipeline\n",
    "from sklearn.utils import resample, shuffle\n",
    "from sklearn.neighbors import KNeighborsRegressor, KNeighborsClassifier\n",
    "from sklearn.tree import DecisionTreeClassifier\n",
    "from sklearn.ensemble import AdaBoostClassifier,RandomForestClassifier, RandomForestRegressor, GradientBoostingClassifier\n",
    "from xgboost import XGBClassifier\n",
    "from sklearn.ensemble import VotingClassifier\n",
    "\n",
    "# import warnings filter\n",
    "from warnings import simplefilter\n",
    "\n",
    "# ignore all future warnings\n",
    "simplefilter(action='ignore', category=(FutureWarning, UserWarning))\n",
    "\n",
    "\n",
    "pd.set_option('display.max_rows', 100)\n",
    "pd.set_option('display.max_columns', 100)"
   ]
  },
  {
   "cell_type": "code",
   "execution_count": 2,
   "metadata": {},
   "outputs": [],
   "source": [
    "# import data\n",
    "    \n",
    "df_fe = pd.read_csv('data/feature_engineered_merge.csv')"
   ]
  },
  {
   "cell_type": "code",
   "execution_count": 3,
   "metadata": {},
   "outputs": [
    {
     "data": {
      "text/plain": [
       "(126799, 43)"
      ]
     },
     "execution_count": 3,
     "metadata": {},
     "output_type": "execute_result"
    }
   ],
   "source": [
    "df_fe.shape"
   ]
  },
  {
   "cell_type": "code",
   "execution_count": 4,
   "metadata": {},
   "outputs": [],
   "source": [
    "#variables dropped from analysis\n",
    "\n",
    "df_fe.drop(['date', 'address', 'addressnumberandstreet', 'street'], axis=1, inplace=True)"
   ]
  },
  {
   "cell_type": "code",
   "execution_count": 5,
   "metadata": {},
   "outputs": [],
   "source": [
    "#going to dummy this\n",
    "cat_list = ['codesum', 'sunset', 'trap', 'species']   \n",
    "\n",
    "\n",
    "#dummy hot encoded\n",
    "dummy_df= pd.get_dummies(df_fe[cat_list], drop_first=True)   \n",
    "\n",
    "#drop original columns\n",
    "df_fe.drop(cat_list, axis=1, inplace=True)\n",
    "\n",
    "\n",
    "#concat the df into the df_over\n",
    "df_fe = pd.concat([df_fe, dummy_df], axis=1)"
   ]
  },
  {
   "cell_type": "code",
   "execution_count": 6,
   "metadata": {},
   "outputs": [
    {
     "data": {
      "text/plain": [
       "block                             0\n",
       "latitude                          0\n",
       "longitude                         0\n",
       "addressaccuracy                   0\n",
       "nummosquitos                 116293\n",
       "                              ...  \n",
       "species_CULEX RESTUANS            0\n",
       "species_CULEX SALINARIUS          0\n",
       "species_CULEX TARSALIS            0\n",
       "species_CULEX TERRITANS           0\n",
       "species_UNSPECIFIED CULEX         0\n",
       "Length: 303, dtype: int64"
      ]
     },
     "execution_count": 6,
     "metadata": {},
     "output_type": "execute_result"
    }
   ],
   "source": [
    "df_fe.isnull().sum()"
   ]
  },
  {
   "cell_type": "code",
   "execution_count": 7,
   "metadata": {},
   "outputs": [],
   "source": [
    "# split to train and test before the bootstrapping\n",
    "\n",
    "train = df_fe[df_fe['id'].isnull()]\n",
    "kaggle_test = df_fe[df_fe['id'].notnull()]"
   ]
  },
  {
   "cell_type": "code",
   "execution_count": 8,
   "metadata": {},
   "outputs": [
    {
     "data": {
      "text/plain": [
       "0.0    0.947554\n",
       "1.0    0.052446\n",
       "Name: wnvpresent, dtype: float64"
      ]
     },
     "execution_count": 8,
     "metadata": {},
     "output_type": "execute_result"
    }
   ],
   "source": [
    "#baseline = 94.7% \n",
    "\n",
    "train['wnvpresent'].value_counts(normalize = True)"
   ]
  },
  {
   "cell_type": "code",
   "execution_count": 9,
   "metadata": {},
   "outputs": [],
   "source": [
    "# Prepare X and y\n",
    "\n",
    "X = train.drop(columns=['nummosquitos', 'wnvpresent', 'id'])\n",
    "y = train.wnvpresent\n"
   ]
  },
  {
   "cell_type": "code",
   "execution_count": 10,
   "metadata": {},
   "outputs": [
    {
     "data": {
      "text/plain": [
       "PCA(copy=True, iterated_power='auto', n_components=7, random_state=None,\n",
       "    svd_solver='auto', tol=0.0, whiten=False)"
      ]
     },
     "execution_count": 10,
     "metadata": {},
     "output_type": "execute_result"
    }
   ],
   "source": [
    "#\n",
    "pca = PCA(n_components=7)\n",
    "pca.fit(X)\n"
   ]
  },
  {
   "cell_type": "code",
   "execution_count": 11,
   "metadata": {},
   "outputs": [
    {
     "name": "stdout",
     "output_type": "stream",
     "text": [
      "eigenvalues: [5.33687074e+04 2.06607754e+03 5.92131203e+02 3.01067705e+02\n",
      " 9.58668211e+01 6.75755516e+01 1.88469133e+01] \n",
      "\n",
      "explained variance pct: [9.43772021e-01 3.65365075e-02 1.04712460e-02 5.32408016e-03\n",
      " 1.69530850e-03 1.19500580e-03 3.33288744e-04]\n"
     ]
    }
   ],
   "source": [
    "var_eigenvals = pca.explained_variance_\n",
    "exp_var_pct = pca.explained_variance_ratio_\n",
    "\n",
    "print ('eigenvalues:', var_eigenvals, '\\n')\n",
    "print ('explained variance pct:', exp_var_pct)"
   ]
  },
  {
   "cell_type": "code",
   "execution_count": 17,
   "metadata": {},
   "outputs": [],
   "source": [
    "kaggle_pc = kaggle_test.drop(columns='id')"
   ]
  },
  {
   "cell_type": "code",
   "execution_count": 18,
   "metadata": {},
   "outputs": [
    {
     "ename": "ValueError",
     "evalue": "Input contains NaN, infinity or a value too large for dtype('float64').",
     "output_type": "error",
     "traceback": [
      "\u001b[1;31m---------------------------------------------------------------------------\u001b[0m",
      "\u001b[1;31mValueError\u001b[0m                                Traceback (most recent call last)",
      "\u001b[1;32m<ipython-input-18-65ffaaa85e67>\u001b[0m in \u001b[0;36m<module>\u001b[1;34m\u001b[0m\n\u001b[0;32m      4\u001b[0m \u001b[0mpca\u001b[0m\u001b[1;33m.\u001b[0m\u001b[0mfit\u001b[0m\u001b[1;33m(\u001b[0m\u001b[0mX\u001b[0m\u001b[1;33m)\u001b[0m\u001b[1;33m\u001b[0m\u001b[1;33m\u001b[0m\u001b[0m\n\u001b[0;32m      5\u001b[0m \u001b[0mX\u001b[0m \u001b[1;33m=\u001b[0m \u001b[0mpca\u001b[0m\u001b[1;33m.\u001b[0m\u001b[0mtransform\u001b[0m\u001b[1;33m(\u001b[0m\u001b[0mX\u001b[0m\u001b[1;33m)\u001b[0m\u001b[1;33m\u001b[0m\u001b[1;33m\u001b[0m\u001b[0m\n\u001b[1;32m----> 6\u001b[1;33m \u001b[0mkaggle_pc\u001b[0m \u001b[1;33m=\u001b[0m \u001b[0mpca\u001b[0m\u001b[1;33m.\u001b[0m\u001b[0mtransform\u001b[0m\u001b[1;33m(\u001b[0m\u001b[0mkaggle_pc\u001b[0m\u001b[1;33m)\u001b[0m\u001b[1;33m\u001b[0m\u001b[1;33m\u001b[0m\u001b[0m\n\u001b[0m",
      "\u001b[1;32mC:\\ProgramData\\Anaconda3\\lib\\site-packages\\sklearn\\decomposition\\_base.py\u001b[0m in \u001b[0;36mtransform\u001b[1;34m(self, X)\u001b[0m\n\u001b[0;32m    125\u001b[0m         \u001b[0mcheck_is_fitted\u001b[0m\u001b[1;33m(\u001b[0m\u001b[0mself\u001b[0m\u001b[1;33m)\u001b[0m\u001b[1;33m\u001b[0m\u001b[1;33m\u001b[0m\u001b[0m\n\u001b[0;32m    126\u001b[0m \u001b[1;33m\u001b[0m\u001b[0m\n\u001b[1;32m--> 127\u001b[1;33m         \u001b[0mX\u001b[0m \u001b[1;33m=\u001b[0m \u001b[0mcheck_array\u001b[0m\u001b[1;33m(\u001b[0m\u001b[0mX\u001b[0m\u001b[1;33m)\u001b[0m\u001b[1;33m\u001b[0m\u001b[1;33m\u001b[0m\u001b[0m\n\u001b[0m\u001b[0;32m    128\u001b[0m         \u001b[1;32mif\u001b[0m \u001b[0mself\u001b[0m\u001b[1;33m.\u001b[0m\u001b[0mmean_\u001b[0m \u001b[1;32mis\u001b[0m \u001b[1;32mnot\u001b[0m \u001b[1;32mNone\u001b[0m\u001b[1;33m:\u001b[0m\u001b[1;33m\u001b[0m\u001b[1;33m\u001b[0m\u001b[0m\n\u001b[0;32m    129\u001b[0m             \u001b[0mX\u001b[0m \u001b[1;33m=\u001b[0m \u001b[0mX\u001b[0m \u001b[1;33m-\u001b[0m \u001b[0mself\u001b[0m\u001b[1;33m.\u001b[0m\u001b[0mmean_\u001b[0m\u001b[1;33m\u001b[0m\u001b[1;33m\u001b[0m\u001b[0m\n",
      "\u001b[1;32mC:\\ProgramData\\Anaconda3\\lib\\site-packages\\sklearn\\utils\\validation.py\u001b[0m in \u001b[0;36mcheck_array\u001b[1;34m(array, accept_sparse, accept_large_sparse, dtype, order, copy, force_all_finite, ensure_2d, allow_nd, ensure_min_samples, ensure_min_features, warn_on_dtype, estimator)\u001b[0m\n\u001b[0;32m    576\u001b[0m         \u001b[1;32mif\u001b[0m \u001b[0mforce_all_finite\u001b[0m\u001b[1;33m:\u001b[0m\u001b[1;33m\u001b[0m\u001b[1;33m\u001b[0m\u001b[0m\n\u001b[0;32m    577\u001b[0m             _assert_all_finite(array,\n\u001b[1;32m--> 578\u001b[1;33m                                allow_nan=force_all_finite == 'allow-nan')\n\u001b[0m\u001b[0;32m    579\u001b[0m \u001b[1;33m\u001b[0m\u001b[0m\n\u001b[0;32m    580\u001b[0m     \u001b[1;32mif\u001b[0m \u001b[0mensure_min_samples\u001b[0m \u001b[1;33m>\u001b[0m \u001b[1;36m0\u001b[0m\u001b[1;33m:\u001b[0m\u001b[1;33m\u001b[0m\u001b[1;33m\u001b[0m\u001b[0m\n",
      "\u001b[1;32mC:\\ProgramData\\Anaconda3\\lib\\site-packages\\sklearn\\utils\\validation.py\u001b[0m in \u001b[0;36m_assert_all_finite\u001b[1;34m(X, allow_nan, msg_dtype)\u001b[0m\n\u001b[0;32m     58\u001b[0m                     \u001b[0mmsg_err\u001b[0m\u001b[1;33m.\u001b[0m\u001b[0mformat\u001b[0m\u001b[1;33m\u001b[0m\u001b[1;33m\u001b[0m\u001b[0m\n\u001b[0;32m     59\u001b[0m                     (type_err,\n\u001b[1;32m---> 60\u001b[1;33m                      msg_dtype if msg_dtype is not None else X.dtype)\n\u001b[0m\u001b[0;32m     61\u001b[0m             )\n\u001b[0;32m     62\u001b[0m     \u001b[1;31m# for object dtype data, we only check for NaNs (GH-13254)\u001b[0m\u001b[1;33m\u001b[0m\u001b[1;33m\u001b[0m\u001b[1;33m\u001b[0m\u001b[0m\n",
      "\u001b[1;31mValueError\u001b[0m: Input contains NaN, infinity or a value too large for dtype('float64')."
     ]
    }
   ],
   "source": [
    "#choose only 2 principal components because the drop from pc2 to pc2 is big\n",
    "\n",
    "pca = PCA(n_components=2)\n",
    "pca.fit(X)\n",
    "X = pca.transform(X)\n",
    "kaggle_pc = pca.transform(kaggle_pc)"
   ]
  },
  {
   "cell_type": "code",
   "execution_count": 11,
   "metadata": {},
   "outputs": [],
   "source": [
    "#train test split\n",
    "\n",
    "X_train, X_validation, y_train, y_validation = train_test_split(X, y, stratify=y, random_state=42)"
   ]
  },
  {
   "cell_type": "code",
   "execution_count": 12,
   "metadata": {},
   "outputs": [],
   "source": [
    "#have to merge for bootstrapping train set\n",
    "\n",
    "df = pd.concat([X_train, y_train], axis=1)\n",
    "\n"
   ]
  },
  {
   "cell_type": "markdown",
   "metadata": {},
   "source": [
    "## Bootstrapping"
   ]
  },
  {
   "cell_type": "code",
   "execution_count": 13,
   "metadata": {},
   "outputs": [
    {
     "name": "stdout",
     "output_type": "stream",
     "text": [
      "7466 413\n",
      "Random over-sampling:\n",
      "1.0    7466\n",
      "0.0    7466\n",
      "Name: wnvpresent, dtype: int64\n"
     ]
    },
    {
     "data": {
      "image/png": "[encoded data removed]",
      "text/plain": [
       "<Figure size 432x288 with 1 Axes>"
      ]
     },
     "metadata": {
      "needs_background": "light"
     },
     "output_type": "display_data"
    }
   ],
   "source": [
    "#count class\n",
    "\n",
    "count_class_0, count_class_1 = df['wnvpresent'].value_counts()\n",
    "print(count_class_0, count_class_1)\n",
    "\n",
    "# Divide by class\n",
    "\n",
    "df_class_0 = df[df['wnvpresent'] == 0]\n",
    "df_class_1 = df[df['wnvpresent'] == 1]\n",
    "\n",
    "#bootstrap into a new df\n",
    "\n",
    "df_class_1_over = df_class_1.sample(count_class_0, replace=True)\n",
    "df_over = pd.concat([df_class_0, df_class_1_over], axis=0)\n",
    "\n",
    "print('Random over-sampling:')\n",
    "print(df_over['wnvpresent'].value_counts())\n",
    "\n",
    "df_over['wnvpresent'].value_counts().plot(kind='bar', title='Count (wnvpresent)');"
   ]
  },
  {
   "cell_type": "code",
   "execution_count": 14,
   "metadata": {},
   "outputs": [],
   "source": [
    "X_train = df_over.drop(columns='wnvpresent')\n",
    "y_train = df_over.wnvpresent"
   ]
  },
  {
   "cell_type": "code",
   "execution_count": 16,
   "metadata": {},
   "outputs": [
    {
     "name": "stdout",
     "output_type": "stream",
     "text": [
      "(14932, 300)\n",
      "(14932,)\n",
      "(2627, 300)\n",
      "(2627,)\n"
     ]
    }
   ],
   "source": [
    "#check same column\n",
    "\n",
    "print(X_train.shape)\n",
    "print(y_train.shape)\n",
    "print(X_validation.shape)\n",
    "print(y_validation.shape)"
   ]
  },
  {
   "cell_type": "markdown",
   "metadata": {},
   "source": [
    "### Logistic regression"
   ]
  },
  {
   "cell_type": "code",
   "execution_count": 17,
   "metadata": {},
   "outputs": [
    {
     "data": {
      "text/plain": [
       "RandomizedSearchCV(cv=5, error_score=nan,\n",
       "                   estimator=LogisticRegression(C=1.0, class_weight=None,\n",
       "                                                dual=False, fit_intercept=True,\n",
       "                                                intercept_scaling=1,\n",
       "                                                l1_ratio=None, max_iter=100,\n",
       "                                                multi_class='auto', n_jobs=None,\n",
       "                                                penalty='l2', random_state=None,\n",
       "                                                solver='lbfgs', tol=0.0001,\n",
       "                                                verbose=0, warm_start=False),\n",
       "                   iid='deprecated', n_iter=10, n_jobs=-1,\n",
       "                   param_distributions={'C': ar...\n",
       "        4.13163977,  4.32839145,  4.53451259,  4.75044937,  4.97666922,\n",
       "        5.21366181,  5.46194017,  5.72204173,  5.9945295 ,  6.27999335,\n",
       "        6.57905119,  6.89235038,  7.2205691 ,  7.56441784,  7.92464091,\n",
       "        8.30201805,  8.69736618,  9.11154106,  9.54543926, 10.        ]),\n",
       "                                        'penalty': ['l1', 'l2'],\n",
       "                                        'solver': ['liblinear']},\n",
       "                   pre_dispatch='2*n_jobs', random_state=42, refit=True,\n",
       "                   return_train_score=False, scoring=None, verbose=0)"
      ]
     },
     "execution_count": 17,
     "metadata": {},
     "output_type": "execute_result"
    }
   ],
   "source": [
    "#ransearch log reg\n",
    "\n",
    "lr = LogisticRegression()\n",
    "\n",
    "lr_values = {'solver': ['liblinear'],\n",
    "               'penalty': ['l1', 'l2'],\n",
    "               'C': np.logspace(0.01,1,50)}\n",
    "\n",
    "\n",
    "    \n",
    "ran_lr = RandomizedSearchCV(lr, lr_values, cv=5, n_jobs = -1, random_state=42)\n",
    "ran_lr.fit(X_train, y_train)"
   ]
  },
  {
   "cell_type": "code",
   "execution_count": 18,
   "metadata": {},
   "outputs": [
    {
     "name": "stdout",
     "output_type": "stream",
     "text": [
      "{'solver': 'liblinear', 'penalty': 'l2', 'C': 2.4767236489408218}\n"
     ]
    }
   ],
   "source": [
    "print(ran_lr.best_params_)"
   ]
  },
  {
   "cell_type": "code",
   "execution_count": 19,
   "metadata": {},
   "outputs": [
    {
     "name": "stdout",
     "output_type": "stream",
     "text": [
      "lr classification metric\n",
      "CV scores: 0.8152966942484188\n",
      "train score: 0.8274176265738012\n",
      "test score: 0.7571374191092501\n",
      "True Negatives: 1900\n",
      "False Positives: 589\n",
      "False Negatives: 49\n",
      "True Positives: 89\n",
      "-----------------------\n",
      "Sensitivity: 0.645\n",
      "Specificity: 0.763\n",
      "Precision: 0.131\n",
      "F1: 0.218\n",
      "ROC AUC Score : 0.7880412947403358\n"
     ]
    }
   ],
   "source": [
    "print ('lr classification metric')\n",
    "print(\"CV scores:\", ran_lr.best_score_)\n",
    "print(\"train score:\", ran_lr.score(X_train, y_train))\n",
    "print(\"test score:\", ran_lr.score(X_validation, y_validation))\n",
    "\n",
    "#Evaluation metrics\n",
    "\n",
    "predictions = ran_lr.predict(X_validation)\n",
    "\n",
    "TN, FP, FN, TP = confusion_matrix(y_validation, predictions).ravel()\n",
    "\n",
    "sensi = TP/(TP + FN)\n",
    "speci= TN/(TN + FP)\n",
    "preci = TP/(TP + FP)\n",
    "f1= 2*(preci*sensi)/(preci+sensi)\n",
    "\n",
    "\n",
    "print(\"True Negatives: %s\" % TN)\n",
    "print(\"False Positives: %s\" % FP)\n",
    "print(\"False Negatives: %s\" % FN)\n",
    "print(\"True Positives: %s\" % TP)\n",
    "print('-----------------------')\n",
    "print(f'Sensitivity: {round(sensi,3)}')\n",
    "print(f'Specificity: {round(speci,3)}')\n",
    "print(f'Precision: {round(preci,3)}')\n",
    "print(f'F1: {round(f1,3)}')\n",
    "\n",
    "pred_proba = [i[1] for i in ran_lr.predict_proba(X_validation)]\n",
    "auc_score = roc_auc_score(y_validation, pred_proba)\n",
    "print('ROC AUC Score :', auc_score)"
   ]
  },
  {
   "cell_type": "markdown",
   "metadata": {},
   "source": [
    "### Random forest"
   ]
  },
  {
   "cell_type": "code",
   "execution_count": 20,
   "metadata": {},
   "outputs": [
    {
     "data": {
      "text/plain": [
       "RandomizedSearchCV(cv=5, error_score=nan,\n",
       "                   estimator=RandomForestClassifier(bootstrap=True,\n",
       "                                                    ccp_alpha=0.0,\n",
       "                                                    class_weight=None,\n",
       "                                                    criterion='gini',\n",
       "                                                    max_depth=None,\n",
       "                                                    max_features='auto',\n",
       "                                                    max_leaf_nodes=None,\n",
       "                                                    max_samples=None,\n",
       "                                                    min_impurity_decrease=0.0,\n",
       "                                                    min_impurity_split=None,\n",
       "                                                    min_samples_leaf=1,\n",
       "                                                    min_samples_split=2,\n",
       "                                                    min_weight_fraction_leaf=0.0,\n",
       "                                                    n_estimators=100,\n",
       "                                                    n_jobs=None,\n",
       "                                                    oob_score=False,\n",
       "                                                    random_state=None,\n",
       "                                                    verbose=0,\n",
       "                                                    warm_start=False),\n",
       "                   iid='deprecated', n_iter=10, n_jobs=-1,\n",
       "                   param_distributions={'max_depth': [50, 60, 70, None],\n",
       "                                        'max_features': ['auto', 'sqrt'],\n",
       "                                        'n_estimators': [100, 200, 300]},\n",
       "                   pre_dispatch='2*n_jobs', random_state=42, refit=True,\n",
       "                   return_train_score=False, scoring=None, verbose=0)"
      ]
     },
     "execution_count": 20,
     "metadata": {},
     "output_type": "execute_result"
    }
   ],
   "source": [
    "rf = RandomForestClassifier()\n",
    "\n",
    "rf_values = {'max_depth': [50, 60, 70, None],\n",
    "               'max_features': ['auto', 'sqrt'],\n",
    "               'n_estimators': [100, 200, 300]\n",
    "              }\n",
    "\n",
    "\n",
    "    \n",
    "ran_rf = RandomizedSearchCV(rf, rf_values, cv=5, n_jobs = -1, random_state=42)\n",
    "ran_rf.fit(X_train, y_train)"
   ]
  },
  {
   "cell_type": "code",
   "execution_count": 21,
   "metadata": {},
   "outputs": [
    {
     "name": "stdout",
     "output_type": "stream",
     "text": [
      "{'n_estimators': 200, 'max_features': 'sqrt', 'max_depth': 70}\n"
     ]
    }
   ],
   "source": [
    "print(ran_rf.best_params_)"
   ]
  },
  {
   "cell_type": "code",
   "execution_count": 22,
   "metadata": {},
   "outputs": [
    {
     "name": "stdout",
     "output_type": "stream",
     "text": [
      "random forest classification metric\n",
      "CV scores: 0.9623622435330953\n",
      "train score: 0.9733458344495044\n",
      "test score: 0.9021697754092121\n",
      "True Negatives: 2330\n",
      "False Positives: 159\n",
      "False Negatives: 98\n",
      "True Positives: 40\n",
      "-----------------------\n",
      "Sensitivity: 0.29\n",
      "Specificity: 0.936\n",
      "Precision: 0.201\n",
      "F1: 0.237\n",
      "ROC AUC Score : 0.7723505161842542\n"
     ]
    }
   ],
   "source": [
    "print ('random forest classification metric')\n",
    "print(\"CV scores:\", ran_rf.best_score_)\n",
    "print(\"train score:\", ran_rf.score(X_train, y_train))\n",
    "print(\"test score:\", ran_rf.score(X_validation, y_validation))\n",
    "\n",
    "#Evaluation metrics\n",
    "\n",
    "predictions = ran_rf.predict(X_validation)\n",
    "\n",
    "TN, FP, FN, TP = confusion_matrix(y_validation, predictions).ravel()\n",
    "\n",
    "sensi = TP/(TP + FN)\n",
    "speci= TN/(TN + FP)\n",
    "preci = TP/(TP + FP)\n",
    "f1= 2*(preci*sensi)/(preci+sensi)\n",
    "\n",
    "\n",
    "print(\"True Negatives: %s\" % TN)\n",
    "print(\"False Positives: %s\" % FP)\n",
    "print(\"False Negatives: %s\" % FN)\n",
    "print(\"True Positives: %s\" % TP)\n",
    "print('-----------------------')\n",
    "print(f'Sensitivity: {round(sensi,3)}')\n",
    "print(f'Specificity: {round(speci,3)}')\n",
    "print(f'Precision: {round(preci,3)}')\n",
    "print(f'F1: {round(f1,3)}')\n",
    "\n",
    "pred_proba = [i[1] for i in ran_rf.predict_proba(X_validation)]\n",
    "auc_score = roc_auc_score(y_validation, pred_proba)\n",
    "print('ROC AUC Score :', auc_score)"
   ]
  },
  {
   "cell_type": "markdown",
   "metadata": {},
   "source": [
    "### XGBoost"
   ]
  },
  {
   "cell_type": "code",
   "execution_count": 46,
   "metadata": {},
   "outputs": [
    {
     "data": {
      "text/plain": [
       "RandomizedSearchCV(cv=5, error_score=nan,\n",
       "                   estimator=XGBClassifier(base_score=None, booster='gbtree',\n",
       "                                           colsample_bylevel=None,\n",
       "                                           colsample_bynode=None,\n",
       "                                           colsample_bytree=None, gamma=None,\n",
       "                                           gpu_id=None, importance_type='gain',\n",
       "                                           interaction_constraints=None,\n",
       "                                           learning_rate=None,\n",
       "                                           max_delta_step=None, max_depth=None,\n",
       "                                           min_child_weight=None, missing=nan,\n",
       "                                           monotone_constraints=No...\n",
       "                                           validate_parameters=False,\n",
       "                                           verbosity=None),\n",
       "                   iid='deprecated', n_iter=10, n_jobs=-1,\n",
       "                   param_distributions={'eta': [0.15, 0.3],\n",
       "                                        'gamma': [0, 1, 2, 3],\n",
       "                                        'max_depth': [3, 4, 5, 6],\n",
       "                                        'n_estimators': [200, 300, 400, 500],\n",
       "                                        'reg_alpha': [0.01, 0.05, 0.1, 0.5, 1],\n",
       "                                        'reg_lambda': [0.01, 0.05, 0.1, 0.5,\n",
       "                                                       1]},\n",
       "                   pre_dispatch='2*n_jobs', random_state=42, refit=True,\n",
       "                   return_train_score=False, scoring=None, verbose=0)"
      ]
     },
     "execution_count": 46,
     "metadata": {},
     "output_type": "execute_result"
    }
   ],
   "source": [
    "xg = XGBClassifier(booster='gbtree', n_jobs=-1, )\n",
    "\n",
    "xg_values = {'max_depth': [3, 4, 5, 6],\n",
    "             'eta': [0.15, 0.3],\n",
    "             'reg_lambda': [0.01, 0.05, 0.1, 0.5, 1],\n",
    "             'reg_alpha': [0.01, 0.05, 0.1, 0.5, 1],\n",
    "             'gamma': [0, 1, 2, 3],\n",
    "             'n_estimators': [200, 300, 400, 500]\n",
    "              }\n",
    "\n",
    "\n",
    "    \n",
    "ran_xg = RandomizedSearchCV(xg, xg_values, cv=5, n_jobs = -1, random_state=42)\n",
    "ran_xg.fit(X_train, y_train)"
   ]
  },
  {
   "cell_type": "code",
   "execution_count": 47,
   "metadata": {},
   "outputs": [
    {
     "name": "stdout",
     "output_type": "stream",
     "text": [
      "{'reg_lambda': 0.5, 'reg_alpha': 0.1, 'n_estimators': 300, 'max_depth': 3, 'gamma': 0, 'eta': 0.3}\n"
     ]
    }
   ],
   "source": [
    "print(ran_xg.best_params_)"
   ]
  },
  {
   "cell_type": "code",
   "execution_count": 48,
   "metadata": {},
   "outputs": [
    {
     "name": "stdout",
     "output_type": "stream",
     "text": [
      "XGBoost classification metric\n",
      "CV scores: 0.9122680981282812\n",
      "train score: 0.9272702919903563\n",
      "test score: 0.8347925390178911\n",
      "True Negatives: 2122\n",
      "False Positives: 367\n",
      "False Negatives: 67\n",
      "True Positives: 71\n",
      "-----------------------\n",
      "Sensitivity: 0.514\n",
      "Specificity: 0.853\n",
      "Precision: 0.162\n",
      "F1: 0.247\n",
      "ROC AUC Score : 0.8218756732521645\n"
     ]
    }
   ],
   "source": [
    "print ('XGBoost classification metric')\n",
    "print(\"CV scores:\", ran_xg.best_score_)\n",
    "print(\"train score:\", ran_xg.score(X_train, y_train))\n",
    "print(\"test score:\", ran_xg.score(X_validation, y_validation))\n",
    "\n",
    "#Evaluation metrics\n",
    "\n",
    "predictions = ran_xg.predict(X_validation)\n",
    "\n",
    "TN, FP, FN, TP = confusion_matrix(y_validation, predictions).ravel()\n",
    "\n",
    "sensi = TP/(TP + FN)\n",
    "speci= TN/(TN + FP)\n",
    "preci = TP/(TP + FP)\n",
    "f1= 2*(preci*sensi)/(preci+sensi)\n",
    "\n",
    "\n",
    "print(\"True Negatives: %s\" % TN)\n",
    "print(\"False Positives: %s\" % FP)\n",
    "print(\"False Negatives: %s\" % FN)\n",
    "print(\"True Positives: %s\" % TP)\n",
    "print('-----------------------')\n",
    "print(f'Sensitivity: {round(sensi,3)}')\n",
    "print(f'Specificity: {round(speci,3)}')\n",
    "print(f'Precision: {round(preci,3)}')\n",
    "print(f'F1: {round(f1,3)}')\n",
    "\n",
    "pred_proba = [i[1] for i in ran_xg.predict_proba(X_validation)]\n",
    "auc_score = roc_auc_score(y_validation, pred_proba)\n",
    "print('ROC AUC Score :', auc_score)"
   ]
  },
  {
   "cell_type": "markdown",
   "metadata": {},
   "source": [
    "## Ensemble classifier with best params"
   ]
  },
  {
   "cell_type": "code",
   "execution_count": 49,
   "metadata": {},
   "outputs": [],
   "source": [
    "model1 = LogisticRegression(solver = 'liblinear',penalty='l2', C=2.4767236489408218)\n",
    "\n",
    "model2 = RandomForestClassifier(n_estimators = 300, max_features = 'sqrt', max_depth=70)\n",
    "\n",
    "model3 = XGBClassifier(booster='gbtree', n_jobs=-1, n_estimators = 300,\n",
    "                       max_depth = 3, reg_lambda = 0.5 , reg_alpha= 0.1,\n",
    "                       gamma = 0, eta= 0.3 )"
   ]
  },
  {
   "cell_type": "code",
   "execution_count": 50,
   "metadata": {},
   "outputs": [
    {
     "data": {
      "text/plain": [
       "VotingClassifier(estimators=[('lr',\n",
       "                              LogisticRegression(C=2.4767236489408218,\n",
       "                                                 class_weight=None, dual=False,\n",
       "                                                 fit_intercept=True,\n",
       "                                                 intercept_scaling=1,\n",
       "                                                 l1_ratio=None, max_iter=100,\n",
       "                                                 multi_class='auto',\n",
       "                                                 n_jobs=None, penalty='l2',\n",
       "                                                 random_state=None,\n",
       "                                                 solver='liblinear', tol=0.0001,\n",
       "                                                 verbose=0, warm_start=False)),\n",
       "                             ('rf',\n",
       "                              RandomForestClassifier(bootstrap=True,\n",
       "                                                     ccp_alpha=0.0,\n",
       "                                                     c...\n",
       "                                            max_delta_step=0, max_depth=3,\n",
       "                                            min_child_weight=1, missing=nan,\n",
       "                                            monotone_constraints=None,\n",
       "                                            n_estimators=300, n_jobs=-1,\n",
       "                                            num_parallel_tree=1,\n",
       "                                            objective='binary:logistic',\n",
       "                                            random_state=0, reg_alpha=0.1,\n",
       "                                            reg_lambda=0.5, scale_pos_weight=1,\n",
       "                                            subsample=1, tree_method=None,\n",
       "                                            validate_parameters=False,\n",
       "                                            verbosity=None))],\n",
       "                 flatten_transform=True, n_jobs=None, voting='soft',\n",
       "                 weights=None)"
      ]
     },
     "execution_count": 50,
     "metadata": {},
     "output_type": "execute_result"
    }
   ],
   "source": [
    "\n",
    "model1.fit(X_train,y_train)\n",
    "model2.fit(X_train,y_train)\n",
    "model3.fit(X_train,y_train)\n",
    "\n",
    "model = VotingClassifier(estimators=[('lr', model1), \n",
    "                                     ('rf', model2),\n",
    "                                     ('xg', model3)], \n",
    "                         voting='soft')\n",
    "\n",
    "model.fit(X_train,y_train)\n",
    "\n"
   ]
  },
  {
   "cell_type": "code",
   "execution_count": 51,
   "metadata": {},
   "outputs": [
    {
     "name": "stdout",
     "output_type": "stream",
     "text": [
      "Ensemble model classification metric\n",
      "cross val score: 0.9308860610760045\n",
      "train score: 0.9485668363246719\n",
      "test score: 0.8663875142748382\n",
      "True Negatives: 2209\n",
      "False Positives: 280\n",
      "False Negatives: 71\n",
      "True Positives: 67\n",
      "-----------------------\n",
      "Sensitivity: 0.486\n",
      "Specificity: 0.888\n",
      "Precision: 0.193\n",
      "F1: 0.276\n",
      "ROC AUC Score : 0.8115709120128567\n"
     ]
    }
   ],
   "source": [
    "print(\"Ensemble model classification metric\")\n",
    "\n",
    "kf=KFold(n_splits=5, shuffle=True, random_state=42)\n",
    "print(\"cross val score:\", cross_val_score(model, X_train, y_train, cv= kf).mean())\n",
    "print(\"train score:\", model.score(X_train, y_train))\n",
    "print(\"test score:\", model.score(X_validation, y_validation))\n",
    "\n",
    "#Evaluation metrics\n",
    "\n",
    "predictions = model.predict(X_validation)\n",
    "\n",
    "TN, FP, FN, TP = confusion_matrix(y_validation, predictions).ravel()\n",
    "\n",
    "sensi = TP/(TP + FN)\n",
    "speci= TN/(TN + FP)\n",
    "preci = TP/(TP + FP)\n",
    "f1= 2*(preci*sensi)/(preci+sensi)\n",
    "\n",
    "\n",
    "print(\"True Negatives: %s\" % TN)\n",
    "print(\"False Positives: %s\" % FP)\n",
    "print(\"False Negatives: %s\" % FN)\n",
    "print(\"True Positives: %s\" % TP)\n",
    "print('-----------------------')\n",
    "print(f'Sensitivity: {round(sensi,3)}')\n",
    "print(f'Specificity: {round(speci,3)}')\n",
    "print(f'Precision: {round(preci,3)}')\n",
    "print(f'F1: {round(f1,3)}')\n",
    "\n",
    "pred_proba = [i[1] for i in model.predict_proba(X_validation)]\n",
    "auc_score = roc_auc_score(y_validation, pred_proba)\n",
    "print('ROC AUC Score :', auc_score)"
   ]
  },
  {
   "cell_type": "markdown",
   "metadata": {},
   "source": [
    "## Fit XGBoost model onto test set\n",
    "\n",
    "fit xgboost because it perform better than all the other model including the ensemble"
   ]
  },
  {
   "cell_type": "code",
   "execution_count": 52,
   "metadata": {},
   "outputs": [
    {
     "data": {
      "image/png": "[encoded data removed]",
      "text/plain": [
       "<Figure size 720x504 with 1 Axes>"
      ]
     },
     "metadata": {
      "needs_background": "light"
     },
     "output_type": "display_data"
    }
   ],
   "source": [
    "lr_prob=ran_lr.predict_proba(X_validation)\n",
    "pred_proba1 = [i[1] for i in lr_prob]  #we are slicing the above col base on index 1\n",
    "\n",
    "pred_df1 = pd.DataFrame({'true_values': y_validation,\n",
    "                        'pred_probs1':pred_proba1})\n",
    "\n",
    "\n",
    "rf_prob= ran_rf.predict_proba(X_validation)\n",
    "pred_proba2 = [i[1] for i in rf_prob]  #we are slicing the above col base on index 1\n",
    "\n",
    "pred_df2 = pd.DataFrame({'true_values': y_validation,\n",
    "                        'pred_probs2':pred_proba2})\n",
    "\n",
    "xg_prob=ran_xg.predict_proba(X_validation)\n",
    "pred_proba3 = [i[1] for i in xg_prob]  #we are slicing the above col base on index 1\n",
    "\n",
    "pred_df3 = pd.DataFrame({'true_values': y_validation,\n",
    "                        'pred_probs3':pred_proba3})\n",
    "\n",
    "ensemprob=model.predict_proba(X_validation)\n",
    "pred_proba4 = [i[1] for i in ensemprob]  #we are slicing the above col base on index 1\n",
    "\n",
    "pred_df4 = pd.DataFrame({'true_values': y_validation,\n",
    "                        'pred_probs4':pred_proba4})\n",
    "\n",
    "# Create figure.\n",
    "plt.figure(figsize = (10,7))\n",
    "\n",
    "# Create threshold values.\n",
    "thresholds = np.linspace(0, 1, 200)\n",
    "\n",
    "# Define function to calculate sensitivity. (True positive rate.)\n",
    "def TPR(df, true_col, pred_prob_col, threshold):\n",
    "    true_positive = df[(df[true_col] == 1) & (df[pred_prob_col] >= threshold)].shape[0]\n",
    "    false_negative = df[(df[true_col] == 1) & (df[pred_prob_col] < threshold)].shape[0]\n",
    "    return true_positive / (true_positive + false_negative)\n",
    "\n",
    "\n",
    "# Define function to calculate 1 - specificity. (False positive rate.)\n",
    "def FPR(df, true_col, pred_prob_col, threshold):\n",
    "    true_negative = df[(df[true_col] == 0) & (df[pred_prob_col] <= threshold)].shape[0]\n",
    "    false_positive = df[(df[true_col] == 0) & (df[pred_prob_col] > threshold)].shape[0]\n",
    "    return 1 - (true_negative / (true_negative + false_positive))\n",
    "\n",
    "\n",
    "    \n",
    "# Calculate sensitivity & 1-specificity for each threshold between 0 and 1.\n",
    "tpr_values1 = [TPR(pred_df1, 'true_values', 'pred_probs1', prob) for prob in thresholds]\n",
    "fpr_values1 = [FPR(pred_df1, 'true_values', 'pred_probs1', prob) for prob in thresholds]\n",
    "\n",
    "# Plot ROC curve.\n",
    "plt.plot(fpr_values1, # False Positive Rate on X-axis\n",
    "         tpr_values1, # True Positive Rate on Y-axis\n",
    "         label='LogReg: 0.788')\n",
    "\n",
    "\n",
    "# Calculate sensitivity & 1-specificity for each threshold between 0 and 1.\n",
    "tpr_values2 = [TPR(pred_df2, 'true_values', 'pred_probs2', prob) for prob in thresholds]\n",
    "fpr_values2 = [FPR(pred_df2, 'true_values', 'pred_probs2', prob) for prob in thresholds]\n",
    "\n",
    "# Plot ROC curve.\n",
    "plt.plot(fpr_values2, # False Positive Rate on X-axis\n",
    "         tpr_values2, # True Positive Rate on Y-axis\n",
    "         label='RanFor: 0.772')\n",
    "\n",
    "# Calculate sensitivity & 1-specificity for each threshold between 0 and 1.\n",
    "tpr_values3 = [TPR(pred_df3, 'true_values', 'pred_probs3', prob) for prob in thresholds]\n",
    "fpr_values3 = [FPR(pred_df3, 'true_values', 'pred_probs3', prob) for prob in thresholds]\n",
    "\n",
    "# Plot ROC curve.\n",
    "plt.plot(fpr_values3, # False Positive Rate on X-axis\n",
    "         tpr_values3, # True Positive Rate on Y-axis\n",
    "         label='XGB: 0.822')\n",
    "\n",
    "# Calculate sensitivity & 1-specificity for each threshold between 0 and 1.\n",
    "tpr_values4 = [TPR(pred_df4, 'true_values', 'pred_probs4', prob) for prob in thresholds]\n",
    "fpr_values4 = [FPR(pred_df4, 'true_values', 'pred_probs4', prob) for prob in thresholds]\n",
    "\n",
    "# Plot ROC curve.\n",
    "plt.plot(fpr_values4, # False Positive Rate on X-axis\n",
    "         tpr_values4, # True Positive Rate on Y-axis\n",
    "         label=\"Ensemble: 0.811\")\n",
    "\n",
    "\n",
    "# Plot baseline. (Perfect overlap between the two populations.)\n",
    "plt.plot(np.linspace(0, 1, 200),\n",
    "         np.linspace(0, 1, 200),\n",
    "         label='baseline',\n",
    "         linestyle='--')\n",
    "\n",
    "# Label axes.\n",
    "plt.title('Receiver Operating Characteristic Curve', fontsize=22)\n",
    "plt.ylabel('Sensitivity', fontsize=18)\n",
    "plt.xlabel('1 - Specificity', fontsize=18)\n",
    "\n",
    "# Create legend.\n",
    "plt.legend(fontsize=16);"
   ]
  },
  {
   "cell_type": "code",
   "execution_count": 43,
   "metadata": {},
   "outputs": [],
   "source": [
    "#predict kaggle set\n",
    "#kaggle_test\n",
    "\n",
    "X_test = kaggle_test.drop(columns=['nummosquitos', 'wnvpresent', 'id'])\n",
    "\n",
    "pred = ran_xg.predict(X_test)"
   ]
  },
  {
   "cell_type": "code",
   "execution_count": 44,
   "metadata": {},
   "outputs": [
    {
     "data": {
      "text/plain": [
       "Id              int32\n",
       "WnvPresent    float64\n",
       "dtype: object"
      ]
     },
     "execution_count": 44,
     "metadata": {},
     "output_type": "execute_result"
    }
   ],
   "source": [
    "pred_df= pd.DataFrame()\n",
    "pred_df['id'] = kaggle_test['id']\n",
    "pred_df['WnvPresent'] = pred\n",
    "pred_df.columns = ['Id','WnvPresent']\n",
    "pred_df['Id']=pred_df['Id'].astype(\"int32\")\n",
    "\n",
    "pred_df.dtypes"
   ]
  },
  {
   "cell_type": "code",
   "execution_count": 45,
   "metadata": {},
   "outputs": [],
   "source": [
    "pred_df.to_csv('submission.csv',index=False)"
   ]
  },
  {
   "cell_type": "markdown",
   "metadata": {},
   "source": [
    "so using this model we can identify which are the hot spots to spray "
   ]
  }
 ],
 "metadata": {
  "kernelspec": {
   "display_name": "Python 3",
   "language": "python",
   "name": "python3"
  },
  "language_info": {
   "codemirror_mode": {
    "name": "ipython",
    "version": 3
   },
   "file_extension": ".py",
   "mimetype": "text/x-python",
   "name": "python",
   "nbconvert_exporter": "python",
   "pygments_lexer": "ipython3",
   "version": "3.7.6"
  }
 },
 "nbformat": 4,
 "nbformat_minor": 4
}
