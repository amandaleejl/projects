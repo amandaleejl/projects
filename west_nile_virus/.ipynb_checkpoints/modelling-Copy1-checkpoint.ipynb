{
 "cells": [
  {
   "cell_type": "code",
   "execution_count": 1,
   "metadata": {},
   "outputs": [],
   "source": [
    "# import libraries\n",
    "import operator\n",
    "\n",
    "# maths\n",
    "import numpy as np\n",
    "import pandas as pd\n",
    "\n",
    "# visual\n",
    "\n",
    "import seaborn as sns\n",
    "import matplotlib.pyplot as plt\n",
    "%matplotlib inline\n",
    "\n",
    "# modelling\n",
    "from sklearn.linear_model import LinearRegression, LogisticRegression, Ridge, Lasso, ElasticNet\n",
    "from sklearn.model_selection import train_test_split,cross_val_score,GridSearchCV,RandomizedSearchCV\n",
    "from sklearn.preprocessing import StandardScaler,PolynomialFeatures\n",
    "from sklearn.metrics import roc_auc_score, roc_curve, confusion_matrix,accuracy_score, mean_squared_error, r2_score\n",
    "from sklearn.pipeline import Pipeline\n",
    "from sklearn.utils import resample, shuffle\n",
    "from sklearn.neighbors import KNeighborsRegressor, KNeighborsClassifier\n",
    "from sklearn.tree import DecisionTreeClassifier\n",
    "from sklearn.ensemble import AdaBoostClassifier,RandomForestClassifier, RandomForestRegressor, GradientBoostingClassifier\n",
    "\n",
    "# import warnings filter\n",
    "from warnings import simplefilter\n",
    "\n",
    "# ignore all future warnings\n",
    "simplefilter(action='ignore', category=(FutureWarning, UserWarning))"
   ]
  },
  {
   "cell_type": "code",
   "execution_count": 2,
   "metadata": {},
   "outputs": [],
   "source": [
    "# import data\n",
    "    \n",
    "df_merge = pd.read_csv('./data/weather_train_test.csv')"
   ]
  },
  {
   "cell_type": "code",
   "execution_count": 3,
   "metadata": {},
   "outputs": [
    {
     "data": {
      "text/plain": [
       "(126799, 34)"
      ]
     },
     "execution_count": 3,
     "metadata": {},
     "output_type": "execute_result"
    }
   ],
   "source": [
    "df_merge.shape"
   ]
  },
  {
   "cell_type": "code",
   "execution_count": 3,
   "metadata": {},
   "outputs": [],
   "source": [
    "#variables dropped from analysis\n",
    "\n",
    "df_merge.drop(['date', 'address', 'addressnumberandstreet', 'street'], axis=1, inplace=True)"
   ]
  },
  {
   "cell_type": "code",
   "execution_count": 16,
   "metadata": {},
   "outputs": [],
   "source": [
    "cat_list = ['codesum', 'sunset', 'trap', 'species']   #going to dummy this\n",
    "\n",
    "\n",
    "#dummy hot encoded\n",
    "dummy_df= pd.get_dummies(df_merge[cat_list], drop_first=True)   \n",
    "\n",
    "#drop original columns\n",
    "df_merge.drop(cat_list, axis=1, inplace=True)\n",
    "\n",
    "\n",
    "#concat the df into the df_over\n",
    "df_merge = pd.concat([df_merge, dummy_df], axis=1)"
   ]
  },
  {
   "cell_type": "code",
   "execution_count": 17,
   "metadata": {},
   "outputs": [],
   "source": [
    "# split to train and test (as in the EDA file)\n",
    "\n",
    "train = df_merge[df_merge['id'].isnull()]\n",
    "kaggle_test = df_merge[df_merge['id'].notnull()]"
   ]
  },
  {
   "cell_type": "code",
   "execution_count": 18,
   "metadata": {},
   "outputs": [
    {
     "data": {
      "text/plain": [
       "(10506, 303)"
      ]
     },
     "execution_count": 18,
     "metadata": {},
     "output_type": "execute_result"
    }
   ],
   "source": [
    "train.shape"
   ]
  },
  {
   "cell_type": "code",
   "execution_count": 19,
   "metadata": {},
   "outputs": [
    {
     "data": {
      "text/plain": [
       "(116293, 303)"
      ]
     },
     "execution_count": 19,
     "metadata": {},
     "output_type": "execute_result"
    }
   ],
   "source": [
    "kaggle_test.shape"
   ]
  },
  {
   "cell_type": "code",
   "execution_count": 46,
   "metadata": {},
   "outputs": [
    {
     "name": "stdout",
     "output_type": "stream",
     "text": [
      "9955 551\n"
     ]
    }
   ],
   "source": [
    "#count class\n",
    "\n",
    "count_class_0, count_class_1 = train['wnvpresent'].value_counts()\n",
    "print(count_class_0, count_class_1)\n",
    "\n",
    "# Divide by class\n",
    "\n",
    "df_class_0 = train[train['wnvpresent'] == 0]\n",
    "df_class_1 = train[train['wnvpresent'] == 1]"
   ]
  },
  {
   "cell_type": "code",
   "execution_count": 47,
   "metadata": {},
   "outputs": [
    {
     "name": "stdout",
     "output_type": "stream",
     "text": [
      "Random over-sampling:\n",
      "1.0    9955\n",
      "0.0    9955\n",
      "Name: wnvpresent, dtype: int64\n"
     ]
    },
    {
     "data": {
      "image/png": "[encoded data removed]",
      "text/plain": [
       "<Figure size 432x288 with 1 Axes>"
      ]
     },
     "metadata": {
      "needs_background": "light"
     },
     "output_type": "display_data"
    }
   ],
   "source": [
    "#bootstrap into a new df\n",
    "\n",
    "df_class_1_over = df_class_1.sample(count_class_0, replace=True)\n",
    "df_over = pd.concat([df_class_0, df_class_1_over], axis=0)\n",
    "\n",
    "print('Random over-sampling:')\n",
    "print(df_over['wnvpresent'].value_counts())\n",
    "\n",
    "df_over['wnvpresent'].value_counts().plot(kind='bar', title='Count (wnvpresent)');"
   ]
  },
  {
   "cell_type": "code",
   "execution_count": 48,
   "metadata": {
    "scrolled": true
   },
   "outputs": [
    {
     "data": {
      "text/html": [
       "<div>\n",
       "<style scoped>\n",
       "    .dataframe tbody tr th:only-of-type {\n",
       "        vertical-align: middle;\n",
       "    }\n",
       "\n",
       "    .dataframe tbody tr th {\n",
       "        vertical-align: top;\n",
       "    }\n",
       "\n",
       "    .dataframe thead th {\n",
       "        text-align: right;\n",
       "    }\n",
       "</style>\n",
       "<table border=\"1\" class=\"dataframe\">\n",
       "  <thead>\n",
       "    <tr style=\"text-align: right;\">\n",
       "      <th></th>\n",
       "      <th>block</th>\n",
       "      <th>latitude</th>\n",
       "      <th>longitude</th>\n",
       "      <th>addressaccuracy</th>\n",
       "      <th>nummosquitos</th>\n",
       "      <th>wnvpresent</th>\n",
       "      <th>id</th>\n",
       "      <th>station</th>\n",
       "      <th>tmax</th>\n",
       "      <th>tmin</th>\n",
       "      <th>...</th>\n",
       "      <th>trap_T238</th>\n",
       "      <th>trap_T900</th>\n",
       "      <th>trap_T903</th>\n",
       "      <th>species_CULEX PIPIENS</th>\n",
       "      <th>species_CULEX PIPIENS/RESTUANS</th>\n",
       "      <th>species_CULEX RESTUANS</th>\n",
       "      <th>species_CULEX SALINARIUS</th>\n",
       "      <th>species_CULEX TARSALIS</th>\n",
       "      <th>species_CULEX TERRITANS</th>\n",
       "      <th>species_UNSPECIFIED CULEX</th>\n",
       "    </tr>\n",
       "  </thead>\n",
       "  <tbody>\n",
       "    <tr>\n",
       "      <th>0</th>\n",
       "      <td>41</td>\n",
       "      <td>41.954690</td>\n",
       "      <td>-87.800991</td>\n",
       "      <td>9</td>\n",
       "      <td>1.0</td>\n",
       "      <td>0.0</td>\n",
       "      <td>NaN</td>\n",
       "      <td>1</td>\n",
       "      <td>88</td>\n",
       "      <td>60</td>\n",
       "      <td>...</td>\n",
       "      <td>0</td>\n",
       "      <td>0</td>\n",
       "      <td>0</td>\n",
       "      <td>0</td>\n",
       "      <td>1</td>\n",
       "      <td>0</td>\n",
       "      <td>0</td>\n",
       "      <td>0</td>\n",
       "      <td>0</td>\n",
       "      <td>0</td>\n",
       "    </tr>\n",
       "    <tr>\n",
       "      <th>1</th>\n",
       "      <td>41</td>\n",
       "      <td>41.954690</td>\n",
       "      <td>-87.800991</td>\n",
       "      <td>9</td>\n",
       "      <td>1.0</td>\n",
       "      <td>0.0</td>\n",
       "      <td>NaN</td>\n",
       "      <td>1</td>\n",
       "      <td>88</td>\n",
       "      <td>60</td>\n",
       "      <td>...</td>\n",
       "      <td>0</td>\n",
       "      <td>0</td>\n",
       "      <td>0</td>\n",
       "      <td>0</td>\n",
       "      <td>0</td>\n",
       "      <td>1</td>\n",
       "      <td>0</td>\n",
       "      <td>0</td>\n",
       "      <td>0</td>\n",
       "      <td>0</td>\n",
       "    </tr>\n",
       "    <tr>\n",
       "      <th>2</th>\n",
       "      <td>62</td>\n",
       "      <td>41.994991</td>\n",
       "      <td>-87.769279</td>\n",
       "      <td>9</td>\n",
       "      <td>1.0</td>\n",
       "      <td>0.0</td>\n",
       "      <td>NaN</td>\n",
       "      <td>1</td>\n",
       "      <td>88</td>\n",
       "      <td>60</td>\n",
       "      <td>...</td>\n",
       "      <td>0</td>\n",
       "      <td>0</td>\n",
       "      <td>0</td>\n",
       "      <td>0</td>\n",
       "      <td>0</td>\n",
       "      <td>1</td>\n",
       "      <td>0</td>\n",
       "      <td>0</td>\n",
       "      <td>0</td>\n",
       "      <td>0</td>\n",
       "    </tr>\n",
       "    <tr>\n",
       "      <th>3</th>\n",
       "      <td>79</td>\n",
       "      <td>41.974089</td>\n",
       "      <td>-87.824812</td>\n",
       "      <td>8</td>\n",
       "      <td>1.0</td>\n",
       "      <td>0.0</td>\n",
       "      <td>NaN</td>\n",
       "      <td>1</td>\n",
       "      <td>88</td>\n",
       "      <td>60</td>\n",
       "      <td>...</td>\n",
       "      <td>0</td>\n",
       "      <td>0</td>\n",
       "      <td>0</td>\n",
       "      <td>0</td>\n",
       "      <td>1</td>\n",
       "      <td>0</td>\n",
       "      <td>0</td>\n",
       "      <td>0</td>\n",
       "      <td>0</td>\n",
       "      <td>0</td>\n",
       "    </tr>\n",
       "    <tr>\n",
       "      <th>4</th>\n",
       "      <td>79</td>\n",
       "      <td>41.974089</td>\n",
       "      <td>-87.824812</td>\n",
       "      <td>8</td>\n",
       "      <td>4.0</td>\n",
       "      <td>0.0</td>\n",
       "      <td>NaN</td>\n",
       "      <td>1</td>\n",
       "      <td>88</td>\n",
       "      <td>60</td>\n",
       "      <td>...</td>\n",
       "      <td>0</td>\n",
       "      <td>0</td>\n",
       "      <td>0</td>\n",
       "      <td>0</td>\n",
       "      <td>0</td>\n",
       "      <td>1</td>\n",
       "      <td>0</td>\n",
       "      <td>0</td>\n",
       "      <td>0</td>\n",
       "      <td>0</td>\n",
       "    </tr>\n",
       "  </tbody>\n",
       "</table>\n",
       "<p>5 rows × 294 columns</p>\n",
       "</div>"
      ],
      "text/plain": [
       "   block   latitude  longitude  addressaccuracy  nummosquitos  wnvpresent  id  \\\n",
       "0     41  41.954690 -87.800991                9           1.0         0.0 NaN   \n",
       "1     41  41.954690 -87.800991                9           1.0         0.0 NaN   \n",
       "2     62  41.994991 -87.769279                9           1.0         0.0 NaN   \n",
       "3     79  41.974089 -87.824812                8           1.0         0.0 NaN   \n",
       "4     79  41.974089 -87.824812                8           4.0         0.0 NaN   \n",
       "\n",
       "   station  tmax  tmin  ...  trap_T238  trap_T900  trap_T903  \\\n",
       "0        1    88    60  ...          0          0          0   \n",
       "1        1    88    60  ...          0          0          0   \n",
       "2        1    88    60  ...          0          0          0   \n",
       "3        1    88    60  ...          0          0          0   \n",
       "4        1    88    60  ...          0          0          0   \n",
       "\n",
       "   species_CULEX PIPIENS  species_CULEX PIPIENS/RESTUANS  \\\n",
       "0                      0                               1   \n",
       "1                      0                               0   \n",
       "2                      0                               0   \n",
       "3                      0                               1   \n",
       "4                      0                               0   \n",
       "\n",
       "   species_CULEX RESTUANS  species_CULEX SALINARIUS  species_CULEX TARSALIS  \\\n",
       "0                       0                         0                       0   \n",
       "1                       1                         0                       0   \n",
       "2                       1                         0                       0   \n",
       "3                       0                         0                       0   \n",
       "4                       1                         0                       0   \n",
       "\n",
       "   species_CULEX TERRITANS  species_UNSPECIFIED CULEX  \n",
       "0                        0                          0  \n",
       "1                        0                          0  \n",
       "2                        0                          0  \n",
       "3                        0                          0  \n",
       "4                        0                          0  \n",
       "\n",
       "[5 rows x 294 columns]"
      ]
     },
     "execution_count": 48,
     "metadata": {},
     "output_type": "execute_result"
    }
   ],
   "source": [
    "#oversampled df\n",
    "\n",
    "df_over.head()"
   ]
  },
  {
   "cell_type": "code",
   "execution_count": 49,
   "metadata": {},
   "outputs": [
    {
     "data": {
      "text/plain": [
       "0.0    0.947554\n",
       "1.0    0.052446\n",
       "Name: wnvpresent, dtype: float64"
      ]
     },
     "execution_count": 49,
     "metadata": {},
     "output_type": "execute_result"
    }
   ],
   "source": [
    "#baseline = 94.7% \n",
    "\n",
    "train['wnvpresent'].value_counts(normalize = True)"
   ]
  },
  {
   "cell_type": "code",
   "execution_count": 50,
   "metadata": {},
   "outputs": [],
   "source": [
    "# Prepare X and y\n",
    "\n",
    "X = df_over.drop(columns=['nummosquitos', 'wnvpresent', 'id'])\n",
    "y = df_over.wnvpresent\n"
   ]
  },
  {
   "cell_type": "code",
   "execution_count": 51,
   "metadata": {},
   "outputs": [],
   "source": [
    "#train test split\n",
    "\n",
    "X_train, X_validation, y_train, y_validation = train_test_split(X, y, random_state=42)"
   ]
  },
  {
   "cell_type": "markdown",
   "metadata": {},
   "source": [
    "# CAUTION!!! \n",
    "# DO NOT RUN RANSEARCH AGAIN OR IT WILL TAKE A LOOOONG TIME!!!"
   ]
  },
  {
   "cell_type": "code",
   "execution_count": 15,
   "metadata": {},
   "outputs": [
    {
     "data": {
      "text/plain": [
       "RandomizedSearchCV(cv=5, error_score=nan,\n",
       "                   estimator=LogisticRegression(C=1.0, class_weight=None,\n",
       "                                                dual=False, fit_intercept=True,\n",
       "                                                intercept_scaling=1,\n",
       "                                                l1_ratio=None, max_iter=100,\n",
       "                                                multi_class='auto', n_jobs=None,\n",
       "                                                penalty='l2', random_state=None,\n",
       "                                                solver='lbfgs', tol=0.0001,\n",
       "                                                verbose=0, warm_start=False),\n",
       "                   iid='deprecated', n_iter=10, n_jobs=-1,\n",
       "                   param_distributions={'C': ar...\n",
       "       1.74752840e-01, 1.96304065e-01, 2.20513074e-01, 2.47707636e-01,\n",
       "       2.78255940e-01, 3.12571585e-01, 3.51119173e-01, 3.94420606e-01,\n",
       "       4.43062146e-01, 4.97702356e-01, 5.59081018e-01, 6.28029144e-01,\n",
       "       7.05480231e-01, 7.92482898e-01, 8.90215085e-01, 1.00000000e+00]),\n",
       "                                        'penalty': ['l1', 'l2'],\n",
       "                                        'solver': ['liblinear']},\n",
       "                   pre_dispatch='2*n_jobs', random_state=42, refit=True,\n",
       "                   return_train_score=False, scoring=None, verbose=0)"
      ]
     },
     "execution_count": 15,
     "metadata": {},
     "output_type": "execute_result"
    }
   ],
   "source": [
    "lr = LogisticRegression()\n",
    "\n",
    "lr_values = {'solver': ['liblinear'],\n",
    "               'penalty': ['l1', 'l2'],\n",
    "               'C': np.logspace(-5,0,100)}\n",
    "\n",
    "\n",
    "    \n",
    "ran_lr = RandomizedSearchCV(lr, lr_values, cv=5, n_jobs = -1, random_state=42)\n",
    "ran_lr.fit(X_train, y_train)"
   ]
  },
  {
   "cell_type": "code",
   "execution_count": 16,
   "metadata": {},
   "outputs": [
    {
     "name": "stdout",
     "output_type": "stream",
     "text": [
      "lr accuracy\n",
      "{'solver': 'liblinear', 'penalty': 'l1', 'C': 0.2477076355991709}\n",
      "CV scores: 0.7773907965999574\n",
      "train score: 0.7882400214304849\n",
      "test score: 0.7802330253113701\n"
     ]
    }
   ],
   "source": [
    "print ('lr accuracy')\n",
    "print(ran_lr.best_params_)\n",
    "print(\"CV scores:\", ran_lr.best_score_)\n",
    "print(\"train score:\", ran_lr.score(X_train, y_train))\n",
    "print(\"test score:\", ran_lr.score(X_validation, y_validation))"
   ]
  },
  {
   "cell_type": "code",
   "execution_count": 17,
   "metadata": {},
   "outputs": [
    {
     "name": "stdout",
     "output_type": "stream",
     "text": [
      "True Negatives: 1856\n",
      "False Positives: 658\n",
      "False Negatives: 436\n",
      "True Positives: 2028\n",
      "-----------------------\n",
      "Sensitivity: 0.823\n",
      "Specificity: 0.738\n",
      "Precision: 0.755\n",
      "F1: 0.788\n",
      "ROC AUC Score : 0.8620346998367583\n"
     ]
    }
   ],
   "source": [
    "#Evaluation metrics\n",
    "\n",
    "predictions = ran_lr.predict(X_validation)\n",
    "\n",
    "TN, FP, FN, TP = confusion_matrix(y_validation, predictions).ravel()\n",
    "\n",
    "sensi = TP/(TP + FN)\n",
    "speci= TN/(TN + FP)\n",
    "preci = TP/(TP + FP)\n",
    "f1= 2*(preci*sensi)/(preci+sensi)\n",
    "\n",
    "\n",
    "print(\"True Negatives: %s\" % TN)\n",
    "print(\"False Positives: %s\" % FP)\n",
    "print(\"False Negatives: %s\" % FN)\n",
    "print(\"True Positives: %s\" % TP)\n",
    "print('-----------------------')\n",
    "print(f'Sensitivity: {round(sensi,3)}')\n",
    "print(f'Specificity: {round(speci,3)}')\n",
    "print(f'Precision: {round(preci,3)}')\n",
    "print(f'F1: {round(f1,3)}')\n",
    "\n",
    "pred_proba = [i[1] for i in ran_lr.predict_proba(X_validation)]\n",
    "auc_score = roc_auc_score(y_validation, pred_proba)\n",
    "print('ROC AUC Score :', auc_score)"
   ]
  },
  {
   "cell_type": "raw",
   "metadata": {},
   "source": [
    "try gradiant boosted tree"
   ]
  },
  {
   "cell_type": "code",
   "execution_count": 18,
   "metadata": {},
   "outputs": [
    {
     "data": {
      "text/plain": [
       "RandomizedSearchCV(cv=5, error_score=nan,\n",
       "                   estimator=GradientBoostingClassifier(ccp_alpha=0.0,\n",
       "                                                        criterion='friedman_mse',\n",
       "                                                        init=None,\n",
       "                                                        learning_rate=0.1,\n",
       "                                                        loss='deviance',\n",
       "                                                        max_depth=3,\n",
       "                                                        max_features=None,\n",
       "                                                        max_leaf_nodes=None,\n",
       "                                                        min_impurity_decrease=0.0,\n",
       "                                                        min_impurity_split=None,\n",
       "                                                        min_samples_leaf=1,\n",
       "                                                        min_samples_split=2,\n",
       "                                                        min_weight_fraction_leaf=0.0,\n",
       "                                                        n_estimators=100,\n",
       "                                                        n_ite...\n",
       "                                                        presort='deprecated',\n",
       "                                                        random_state=None,\n",
       "                                                        subsample=1.0,\n",
       "                                                        tol=0.0001,\n",
       "                                                        validation_fraction=0.1,\n",
       "                                                        verbose=0,\n",
       "                                                        warm_start=False),\n",
       "                   iid='deprecated', n_iter=10, n_jobs=-1,\n",
       "                   param_distributions={'max_depth': [2, 3, 4, 5],\n",
       "                                        'max_features': ['auto', 'sqrt'],\n",
       "                                        'n_estimators': [100, 200, 400]},\n",
       "                   pre_dispatch='2*n_jobs', random_state=42, refit=True,\n",
       "                   return_train_score=False, scoring=None, verbose=0)"
      ]
     },
     "execution_count": 18,
     "metadata": {},
     "output_type": "execute_result"
    }
   ],
   "source": [
    "gb = GradientBoostingClassifier()\n",
    "\n",
    "gb_values = {'max_depth': [2, 3, 4, 5],\n",
    "               'max_features': ['auto', 'sqrt'],\n",
    "               'n_estimators': [100, 200, 400]\n",
    "              }\n",
    "\n",
    "\n",
    "    \n",
    "ran_gb = RandomizedSearchCV(gb, gb_values, cv=5, n_jobs = -1, random_state=42)\n",
    "ran_gb.fit(X_train, y_train)"
   ]
  },
  {
   "cell_type": "code",
   "execution_count": 19,
   "metadata": {},
   "outputs": [
    {
     "name": "stdout",
     "output_type": "stream",
     "text": [
      "gb accuracy\n",
      "{'n_estimators': 100, 'max_features': 'auto', 'max_depth': 5}\n",
      "CV scores: 0.868134992648429\n",
      "train score: 0.8797883739619609\n",
      "test score: 0.8638007231820009\n"
     ]
    }
   ],
   "source": [
    "print ('gb accuracy')\n",
    "print(ran_gb.best_params_)\n",
    "print(\"CV scores:\", ran_gb.best_score_)\n",
    "print(\"train score:\", ran_gb.score(X_train, y_train))\n",
    "print(\"test score:\", ran_gb.score(X_validation, y_validation))"
   ]
  },
  {
   "cell_type": "code",
   "execution_count": 20,
   "metadata": {},
   "outputs": [
    {
     "name": "stdout",
     "output_type": "stream",
     "text": [
      "True Negatives: 1995\n",
      "False Positives: 519\n",
      "False Negatives: 159\n",
      "True Positives: 2305\n",
      "-----------------------\n",
      "Sensitivity: 0.935\n",
      "Specificity: 0.794\n",
      "Precision: 0.816\n",
      "F1: 0.872\n",
      "ROC AUC Score : 0.9268616042370517\n"
     ]
    }
   ],
   "source": [
    "#Evaluation metrics\n",
    "\n",
    "predictions = ran_gb.predict(X_validation)\n",
    "\n",
    "TN, FP, FN, TP = confusion_matrix(y_validation, predictions).ravel()\n",
    "\n",
    "sensi = TP/(TP + FN)\n",
    "speci= TN/(TN + FP)\n",
    "preci = TP/(TP + FP)\n",
    "f1= 2*(preci*sensi)/(preci+sensi)\n",
    "\n",
    "\n",
    "print(\"True Negatives: %s\" % TN)\n",
    "print(\"False Positives: %s\" % FP)\n",
    "print(\"False Negatives: %s\" % FN)\n",
    "print(\"True Positives: %s\" % TP)\n",
    "print('-----------------------')\n",
    "print(f'Sensitivity: {round(sensi,3)}')\n",
    "print(f'Specificity: {round(speci,3)}')\n",
    "print(f'Precision: {round(preci,3)}')\n",
    "print(f'F1: {round(f1,3)}')\n",
    "\n",
    "pred_proba = [i[1] for i in ran_gb.predict_proba(X_validation)]\n",
    "auc_score = roc_auc_score(y_validation, pred_proba)\n",
    "print('ROC AUC Score :', auc_score)"
   ]
  },
  {
   "cell_type": "markdown",
   "metadata": {},
   "source": [
    "try random forest"
   ]
  },
  {
   "cell_type": "code",
   "execution_count": 21,
   "metadata": {},
   "outputs": [
    {
     "data": {
      "text/plain": [
       "RandomizedSearchCV(cv=5, error_score=nan,\n",
       "                   estimator=RandomForestClassifier(bootstrap=True,\n",
       "                                                    ccp_alpha=0.0,\n",
       "                                                    class_weight=None,\n",
       "                                                    criterion='gini',\n",
       "                                                    max_depth=None,\n",
       "                                                    max_features='auto',\n",
       "                                                    max_leaf_nodes=None,\n",
       "                                                    max_samples=None,\n",
       "                                                    min_impurity_decrease=0.0,\n",
       "                                                    min_impurity_split=None,\n",
       "                                                    min_samples_leaf=1,\n",
       "                                                    min_samples_split=2,\n",
       "                                                    min_weight_fraction_leaf=0.0,\n",
       "                                                    n_estimators=100,\n",
       "                                                    n_jobs=None,\n",
       "                                                    oob_score=False,\n",
       "                                                    random_state=None,\n",
       "                                                    verbose=0,\n",
       "                                                    warm_start=False),\n",
       "                   iid='deprecated', n_iter=10, n_jobs=-1,\n",
       "                   param_distributions={'max_depth': [30, 40, 50, 60, 70, None],\n",
       "                                        'max_features': ['auto', 'sqrt'],\n",
       "                                        'n_estimators': [50, 100, 200, 400]},\n",
       "                   pre_dispatch='2*n_jobs', random_state=42, refit=True,\n",
       "                   return_train_score=False, scoring=None, verbose=0)"
      ]
     },
     "execution_count": 21,
     "metadata": {},
     "output_type": "execute_result"
    }
   ],
   "source": [
    "rf = RandomForestClassifier()\n",
    "\n",
    "rf_values = {'max_depth': [30, 40, 50, 60, 70, None],\n",
    "               'max_features': ['auto', 'sqrt'],\n",
    "               #'min_samples_leaf': [1, 2, 4],\n",
    "               #'min_samples_split': [2, 5, 10],\n",
    "               'n_estimators': [50, 100, 200, 400]\n",
    "              }\n",
    "\n",
    "\n",
    "    \n",
    "ran_rf = RandomizedSearchCV(rf, rf_values, cv=5, n_jobs = -1, random_state=42)\n",
    "ran_rf.fit(X_train, y_train)"
   ]
  },
  {
   "cell_type": "code",
   "execution_count": 22,
   "metadata": {},
   "outputs": [
    {
     "name": "stdout",
     "output_type": "stream",
     "text": [
      "rf accuracy\n",
      "{'n_estimators': 200, 'max_features': 'auto', 'max_depth': 60}\n",
      "CV scores: 0.9522500157525655\n",
      "train score: 0.9684570050897402\n",
      "test score: 0.9582161510646846\n"
     ]
    }
   ],
   "source": [
    "print ('rf accuracy')\n",
    "print(ran_rf.best_params_)\n",
    "print(\"CV scores:\", ran_rf.best_score_)\n",
    "print(\"train score:\", ran_rf.score(X_train, y_train))\n",
    "print(\"test score:\", ran_rf.score(X_validation, y_validation))"
   ]
  },
  {
   "cell_type": "code",
   "execution_count": 23,
   "metadata": {},
   "outputs": [
    {
     "name": "stdout",
     "output_type": "stream",
     "text": [
      "True Negatives: 2324\n",
      "False Positives: 190\n",
      "False Negatives: 18\n",
      "True Positives: 2446\n",
      "-----------------------\n",
      "Sensitivity: 0.993\n",
      "Specificity: 0.924\n",
      "Precision: 0.928\n",
      "F1: 0.959\n",
      "ROC AUC Score : 0.9863683825124756\n"
     ]
    }
   ],
   "source": [
    "#Evaluation metrics\n",
    "\n",
    "predictions = ran_rf.predict(X_validation)\n",
    "\n",
    "TN, FP, FN, TP = confusion_matrix(y_validation, predictions).ravel()\n",
    "\n",
    "sensi = TP/(TP + FN)\n",
    "speci= TN/(TN + FP)\n",
    "preci = TP/(TP + FP)\n",
    "f1= 2*(preci*sensi)/(preci+sensi)\n",
    "\n",
    "\n",
    "print(\"True Negatives: %s\" % TN)\n",
    "print(\"False Positives: %s\" % FP)\n",
    "print(\"False Negatives: %s\" % FN)\n",
    "print(\"True Positives: %s\" % TP)\n",
    "print('-----------------------')\n",
    "print(f'Sensitivity: {round(sensi,3)}')\n",
    "print(f'Specificity: {round(speci,3)}')\n",
    "print(f'Precision: {round(preci,3)}')\n",
    "print(f'F1: {round(f1,3)}')\n",
    "\n",
    "pred_proba = [i[1] for i in ran_rf.predict_proba(X_validation)]\n",
    "auc_score = roc_auc_score(y_validation, pred_proba)\n",
    "print('ROC AUC Score :', auc_score)"
   ]
  },
  {
   "cell_type": "code",
   "execution_count": 24,
   "metadata": {},
   "outputs": [],
   "source": [
    "#predict kaggle set\n",
    "#kaggle_test\n",
    "\n",
    "X_test = kaggle_test.drop(columns=['nummosquitos', 'wnvpresent', 'id'])\n",
    "\n",
    "pred = ran_rf.predict(X_test)"
   ]
  },
  {
   "cell_type": "code",
   "execution_count": 25,
   "metadata": {},
   "outputs": [
    {
     "data": {
      "text/plain": [
       "Id              int32\n",
       "WnvPresent    float64\n",
       "dtype: object"
      ]
     },
     "execution_count": 25,
     "metadata": {},
     "output_type": "execute_result"
    }
   ],
   "source": [
    "pred_df= pd.DataFrame()\n",
    "pred_df['id'] = kaggle_test['id']\n",
    "pred_df['WnvPresent'] = pred\n",
    "pred_df.columns = ['Id','WnvPresent']\n",
    "pred_df['Id']=pred_df['Id'].astype(\"int32\")\n",
    "\n",
    "pred_df.dtypes"
   ]
  },
  {
   "cell_type": "code",
   "execution_count": 26,
   "metadata": {},
   "outputs": [],
   "source": [
    "pred_df.to_csv('submission.csv',index=False)"
   ]
  },
  {
   "cell_type": "markdown",
   "metadata": {},
   "source": [
    " At this point although our model did well, it did not generalize well on the kaggle set. It has a ROC AUC of 0.53259."
   ]
  },
  {
   "cell_type": "code",
   "execution_count": 31,
   "metadata": {},
   "outputs": [],
   "source": [
    "# This function is to run a polynomial regression.\n",
    "def create_polynomial_regression_model(degree):\n",
    "    # Creates a polynomial regression model for the given degree\n",
    "  \n",
    "    poly_features = PolynomialFeatures(degree=degree)\n",
    "  \n",
    "    # transforms the existing features to higher degree features.\n",
    "    X_train_poly = poly_features.fit_transform(X_train)\n",
    "  \n",
    "    # fit the transformed features to Linear Regression\n",
    "    poly_model = LinearRegression()\n",
    "    poly_model.fit(X_train_poly, y_train)\n",
    "  \n",
    "    # predicting on training data-set\n",
    "    y_train_predicted = poly_model.predict(X_train_poly)\n",
    "  \n",
    "    # predicting on test data-set\n",
    "    y_validation_predict = poly_model.predict(poly_features.fit_transform(X_validation))\n",
    "  \n",
    "    # evaluating the model on training dataset\n",
    "    rmse_train = np.sqrt(mean_squared_error(y_train, y_train_predicted))\n",
    "    r2_train = r2_score(y_train, y_train_predicted)\n",
    "  \n",
    "    # evaluating the model on test dataset\n",
    "    rmse_test = np.sqrt(mean_squared_error(y_validation, y_validation_predict))\n",
    "    r2_test = r2_score(y_validation, y_validation_predict)\n",
    "  \n",
    "    print(\"The model performance for the training set\")\n",
    "    print(\"-------------------------------------------\")\n",
    "    print(\"RMSE of training set is {}\".format(rmse_train))\n",
    "    print(\"R2 score of training set is {}\".format(r2_train))\n",
    "  \n",
    "    print(\"\\n\")\n",
    "  \n",
    "    print(\"The model performance for the test set\")\n",
    "    print(\"-------------------------------------------\")\n",
    "    print(\"RMSE of test set is {}\".format(rmse_test))\n",
    "    print(\"R2 score of test set is {}\".format(r2_test))\n"
   ]
  },
  {
   "cell_type": "code",
   "execution_count": 32,
   "metadata": {
    "scrolled": true
   },
   "outputs": [
    {
     "name": "stdout",
     "output_type": "stream",
     "text": [
      "The model performance for the training set\n",
      "-------------------------------------------\n",
      "RMSE of training set is 0.21285708120811958\n",
      "R2 score of training set is 0.8187654198180694\n",
      "\n",
      "\n",
      "The model performance for the test set\n",
      "-------------------------------------------\n",
      "RMSE of test set is 46786.60892818525\n",
      "R2 score of test set is -8756830539.22037\n"
     ]
    }
   ],
   "source": [
    "create_polynomial_regression_model(2)"
   ]
  },
  {
   "cell_type": "markdown",
   "metadata": {},
   "source": [
    "## FEATURE ENGINEERING"
   ]
  },
  {
   "cell_type": "markdown",
   "metadata": {},
   "source": [
    "**Wet bulb temperature:**\n",
    "The temperature of the atmospheric air measured with the help of the thermometer when the bulb of the thermometer is covered by the wet cloth.\n",
    "\n",
    "**Dew point temperature:**\n",
    "The temperature of air recorded by a thermometer when water vapour in the air begins to condense or dew is formed.\n",
    "Dewpoint is an absolute measure of how much moisture is in the air.\n",
    "\n",
    "|Dewpoint|How it feels|\n",
    "|-|-|\n",
    "|<55°F|Dry|\n",
    "|55-60°F|Comfortable|\n",
    "|60-64°F|Rather Humid|\n",
    "|65-69°F|Humid|\n",
    "|70-75°F|Very Humid|\n",
    "|>75°F|Oppressive|\n"
   ]
  },
  {
   "cell_type": "code",
   "execution_count": 4,
   "metadata": {
    "scrolled": false
   },
   "outputs": [
    {
     "data": {
      "image/png": "[encoded data removed]",
      "text/plain": [
       "<Figure size 1080x504 with 1 Axes>"
      ]
     },
     "metadata": {
      "needs_background": "light"
     },
     "output_type": "display_data"
    }
   ],
   "source": [
    "# plot data by amanda\n",
    "fig, ax = plt.subplots(figsize=(15,7))\n",
    "# use unstack()\n",
    "df_merge.groupby(['species','wnvpresent']).mean()['dewpoint'].unstack().plot(ax=ax);"
   ]
  },
  {
   "cell_type": "markdown",
   "metadata": {},
   "source": [
    "It is known that warmer temperatures, elevated humidity, and heavy precipitation results in an increase in the relative rate of human WNV infection. This graph the relationship between the species that carry the virus and the dewpoint. As expected, the higher the dew point temperature, we observe the presence of the WNV. "
   ]
  },
  {
   "cell_type": "code",
   "execution_count": 5,
   "metadata": {
    "scrolled": false
   },
   "outputs": [
    {
     "data": {
      "text/plain": [
       "<matplotlib.axes._subplots.AxesSubplot at 0x121ec3910>"
      ]
     },
     "execution_count": 5,
     "metadata": {},
     "output_type": "execute_result"
    },
    {
     "data": {
      "image/png": "[encoded data removed]",
      "text/plain": [
       "<Figure size 1080x504 with 1 Axes>"
      ]
     },
     "metadata": {
      "needs_background": "light"
     },
     "output_type": "display_data"
    }
   ],
   "source": [
    "# plot data by amanda\n",
    "fig, ax = plt.subplots(figsize=(15,7))\n",
    "# use unstack()\n",
    "df_merge.groupby(['species','wnvpresent']).mean()['wetbulb'].unstack().plot(ax=ax)"
   ]
  },
  {
   "cell_type": "markdown",
   "metadata": {},
   "source": [
    "From this graph, we observe the presence of WNV among the Culex species when the wet bulb temperature ranges from 60°F - 70°F.\n",
    "\n",
    "As such, to better predict the presence of WNV we will conduct feature engineering by generating additional features that we feel will be crucial in the predicition of WNV."
   ]
  },
  {
   "cell_type": "code",
   "execution_count": 6,
   "metadata": {},
   "outputs": [],
   "source": [
    "# group dewpoint by species and wnvpresent and calculate mean, max, min of temperature\n",
    "\n",
    "dewpoint_stats = df_merge.groupby(['species','wnvpresent'])['dewpoint'].agg(['mean','max','min'])\n",
    "dewpoint_stats.columns = ['species_mean_dp', 'species_max_dp', 'species_min_dp']"
   ]
  },
  {
   "cell_type": "code",
   "execution_count": 7,
   "metadata": {},
   "outputs": [
    {
     "data": {
      "text/html": [
       "<div>\n",
       "<style scoped>\n",
       "    .dataframe tbody tr th:only-of-type {\n",
       "        vertical-align: middle;\n",
       "    }\n",
       "\n",
       "    .dataframe tbody tr th {\n",
       "        vertical-align: top;\n",
       "    }\n",
       "\n",
       "    .dataframe thead th {\n",
       "        text-align: right;\n",
       "    }\n",
       "</style>\n",
       "<table border=\"1\" class=\"dataframe\">\n",
       "  <thead>\n",
       "    <tr style=\"text-align: right;\">\n",
       "      <th></th>\n",
       "      <th></th>\n",
       "      <th>species_mean_dp</th>\n",
       "      <th>species_max_dp</th>\n",
       "      <th>species_min_dp</th>\n",
       "    </tr>\n",
       "    <tr>\n",
       "      <th>species</th>\n",
       "      <th>wnvpresent</th>\n",
       "      <th></th>\n",
       "      <th></th>\n",
       "      <th></th>\n",
       "    </tr>\n",
       "  </thead>\n",
       "  <tbody>\n",
       "    <tr>\n",
       "      <th>CULEX ERRATICUS</th>\n",
       "      <th>0.0</th>\n",
       "      <td>58.000000</td>\n",
       "      <td>58</td>\n",
       "      <td>58</td>\n",
       "    </tr>\n",
       "    <tr>\n",
       "      <th rowspan=\"2\" valign=\"top\">CULEX PIPIENS</th>\n",
       "      <th>0.0</th>\n",
       "      <td>60.912973</td>\n",
       "      <td>73</td>\n",
       "      <td>38</td>\n",
       "    </tr>\n",
       "    <tr>\n",
       "      <th>1.0</th>\n",
       "      <td>63.729167</td>\n",
       "      <td>73</td>\n",
       "      <td>40</td>\n",
       "    </tr>\n",
       "    <tr>\n",
       "      <th rowspan=\"2\" valign=\"top\">CULEX PIPIENS/RESTUANS</th>\n",
       "      <th>0.0</th>\n",
       "      <td>59.326726</td>\n",
       "      <td>73</td>\n",
       "      <td>38</td>\n",
       "    </tr>\n",
       "    <tr>\n",
       "      <th>1.0</th>\n",
       "      <td>61.664122</td>\n",
       "      <td>73</td>\n",
       "      <td>38</td>\n",
       "    </tr>\n",
       "    <tr>\n",
       "      <th rowspan=\"2\" valign=\"top\">CULEX RESTUANS</th>\n",
       "      <th>0.0</th>\n",
       "      <td>58.482349</td>\n",
       "      <td>73</td>\n",
       "      <td>38</td>\n",
       "    </tr>\n",
       "    <tr>\n",
       "      <th>1.0</th>\n",
       "      <td>61.734694</td>\n",
       "      <td>73</td>\n",
       "      <td>50</td>\n",
       "    </tr>\n",
       "    <tr>\n",
       "      <th>CULEX SALINARIUS</th>\n",
       "      <th>0.0</th>\n",
       "      <td>59.651163</td>\n",
       "      <td>73</td>\n",
       "      <td>41</td>\n",
       "    </tr>\n",
       "    <tr>\n",
       "      <th>CULEX TARSALIS</th>\n",
       "      <th>0.0</th>\n",
       "      <td>45.666667</td>\n",
       "      <td>61</td>\n",
       "      <td>38</td>\n",
       "    </tr>\n",
       "    <tr>\n",
       "      <th>CULEX TERRITANS</th>\n",
       "      <th>0.0</th>\n",
       "      <td>61.148649</td>\n",
       "      <td>73</td>\n",
       "      <td>43</td>\n",
       "    </tr>\n",
       "  </tbody>\n",
       "</table>\n",
       "</div>"
      ],
      "text/plain": [
       "                                   species_mean_dp  species_max_dp  \\\n",
       "species                wnvpresent                                    \n",
       "CULEX ERRATICUS        0.0               58.000000              58   \n",
       "CULEX PIPIENS          0.0               60.912973              73   \n",
       "                       1.0               63.729167              73   \n",
       "CULEX PIPIENS/RESTUANS 0.0               59.326726              73   \n",
       "                       1.0               61.664122              73   \n",
       "CULEX RESTUANS         0.0               58.482349              73   \n",
       "                       1.0               61.734694              73   \n",
       "CULEX SALINARIUS       0.0               59.651163              73   \n",
       "CULEX TARSALIS         0.0               45.666667              61   \n",
       "CULEX TERRITANS        0.0               61.148649              73   \n",
       "\n",
       "                                   species_min_dp  \n",
       "species                wnvpresent                  \n",
       "CULEX ERRATICUS        0.0                     58  \n",
       "CULEX PIPIENS          0.0                     38  \n",
       "                       1.0                     40  \n",
       "CULEX PIPIENS/RESTUANS 0.0                     38  \n",
       "                       1.0                     38  \n",
       "CULEX RESTUANS         0.0                     38  \n",
       "                       1.0                     50  \n",
       "CULEX SALINARIUS       0.0                     41  \n",
       "CULEX TARSALIS         0.0                     38  \n",
       "CULEX TERRITANS        0.0                     43  "
      ]
     },
     "execution_count": 7,
     "metadata": {},
     "output_type": "execute_result"
    }
   ],
   "source": [
    "dewpoint_stats"
   ]
  },
  {
   "cell_type": "code",
   "execution_count": 8,
   "metadata": {},
   "outputs": [],
   "source": [
    "# group wetbulb by species and wnvpresent and calculate mean, max, min of temperature\n",
    "\n",
    "wetbulb_stats = df_merge.groupby(['species','wnvpresent'])['wetbulb'].agg(['mean','max','min'])\n",
    "wetbulb_stats.columns = ['species_mean_wp', 'species_max_wp', 'species_min_wp']"
   ]
  },
  {
   "cell_type": "code",
   "execution_count": 9,
   "metadata": {},
   "outputs": [
    {
     "data": {
      "text/html": [
       "<div>\n",
       "<style scoped>\n",
       "    .dataframe tbody tr th:only-of-type {\n",
       "        vertical-align: middle;\n",
       "    }\n",
       "\n",
       "    .dataframe tbody tr th {\n",
       "        vertical-align: top;\n",
       "    }\n",
       "\n",
       "    .dataframe thead th {\n",
       "        text-align: right;\n",
       "    }\n",
       "</style>\n",
       "<table border=\"1\" class=\"dataframe\">\n",
       "  <thead>\n",
       "    <tr style=\"text-align: right;\">\n",
       "      <th></th>\n",
       "      <th></th>\n",
       "      <th>species_mean_wp</th>\n",
       "      <th>species_max_wp</th>\n",
       "      <th>species_min_wp</th>\n",
       "    </tr>\n",
       "    <tr>\n",
       "      <th>species</th>\n",
       "      <th>wnvpresent</th>\n",
       "      <th></th>\n",
       "      <th></th>\n",
       "      <th></th>\n",
       "    </tr>\n",
       "  </thead>\n",
       "  <tbody>\n",
       "    <tr>\n",
       "      <th>CULEX ERRATICUS</th>\n",
       "      <th>0.0</th>\n",
       "      <td>64.000000</td>\n",
       "      <td>64.0</td>\n",
       "      <td>64.0</td>\n",
       "    </tr>\n",
       "    <tr>\n",
       "      <th rowspan=\"2\" valign=\"top\">CULEX PIPIENS</th>\n",
       "      <th>0.0</th>\n",
       "      <td>71.370069</td>\n",
       "      <td>3386.5</td>\n",
       "      <td>47.0</td>\n",
       "    </tr>\n",
       "    <tr>\n",
       "      <th>1.0</th>\n",
       "      <td>67.979167</td>\n",
       "      <td>76.0</td>\n",
       "      <td>47.0</td>\n",
       "    </tr>\n",
       "    <tr>\n",
       "      <th rowspan=\"2\" valign=\"top\">CULEX PIPIENS/RESTUANS</th>\n",
       "      <th>0.0</th>\n",
       "      <td>83.739644</td>\n",
       "      <td>3386.5</td>\n",
       "      <td>46.0</td>\n",
       "    </tr>\n",
       "    <tr>\n",
       "      <th>1.0</th>\n",
       "      <td>66.416031</td>\n",
       "      <td>76.0</td>\n",
       "      <td>47.0</td>\n",
       "    </tr>\n",
       "    <tr>\n",
       "      <th rowspan=\"2\" valign=\"top\">CULEX RESTUANS</th>\n",
       "      <th>0.0</th>\n",
       "      <td>87.202713</td>\n",
       "      <td>3386.5</td>\n",
       "      <td>46.0</td>\n",
       "    </tr>\n",
       "    <tr>\n",
       "      <th>1.0</th>\n",
       "      <td>66.816327</td>\n",
       "      <td>76.0</td>\n",
       "      <td>58.0</td>\n",
       "    </tr>\n",
       "    <tr>\n",
       "      <th>CULEX SALINARIUS</th>\n",
       "      <th>0.0</th>\n",
       "      <td>103.447674</td>\n",
       "      <td>3386.5</td>\n",
       "      <td>47.0</td>\n",
       "    </tr>\n",
       "    <tr>\n",
       "      <th>CULEX TARSALIS</th>\n",
       "      <th>0.0</th>\n",
       "      <td>52.166667</td>\n",
       "      <td>65.0</td>\n",
       "      <td>47.0</td>\n",
       "    </tr>\n",
       "    <tr>\n",
       "      <th>CULEX TERRITANS</th>\n",
       "      <th>0.0</th>\n",
       "      <td>81.204955</td>\n",
       "      <td>3386.5</td>\n",
       "      <td>49.0</td>\n",
       "    </tr>\n",
       "  </tbody>\n",
       "</table>\n",
       "</div>"
      ],
      "text/plain": [
       "                                   species_mean_wp  species_max_wp  \\\n",
       "species                wnvpresent                                    \n",
       "CULEX ERRATICUS        0.0               64.000000            64.0   \n",
       "CULEX PIPIENS          0.0               71.370069          3386.5   \n",
       "                       1.0               67.979167            76.0   \n",
       "CULEX PIPIENS/RESTUANS 0.0               83.739644          3386.5   \n",
       "                       1.0               66.416031            76.0   \n",
       "CULEX RESTUANS         0.0               87.202713          3386.5   \n",
       "                       1.0               66.816327            76.0   \n",
       "CULEX SALINARIUS       0.0              103.447674          3386.5   \n",
       "CULEX TARSALIS         0.0               52.166667            65.0   \n",
       "CULEX TERRITANS        0.0               81.204955          3386.5   \n",
       "\n",
       "                                   species_min_wp  \n",
       "species                wnvpresent                  \n",
       "CULEX ERRATICUS        0.0                   64.0  \n",
       "CULEX PIPIENS          0.0                   47.0  \n",
       "                       1.0                   47.0  \n",
       "CULEX PIPIENS/RESTUANS 0.0                   46.0  \n",
       "                       1.0                   47.0  \n",
       "CULEX RESTUANS         0.0                   46.0  \n",
       "                       1.0                   58.0  \n",
       "CULEX SALINARIUS       0.0                   47.0  \n",
       "CULEX TARSALIS         0.0                   47.0  \n",
       "CULEX TERRITANS        0.0                   49.0  "
      ]
     },
     "execution_count": 9,
     "metadata": {},
     "output_type": "execute_result"
    }
   ],
   "source": [
    "wetbulb_stats"
   ]
  },
  {
   "cell_type": "code",
   "execution_count": 12,
   "metadata": {},
   "outputs": [],
   "source": [
    "# create new feature for species and dewpoint\n",
    "\n",
    "species_list = ['CULEX PIPIENS/RESTUANS','CULEX PIPIENS','CULEX RESTUANS']\n",
    "\n",
    "# 1 if columns contains species in the species list\n",
    "df_merge['if_culex'] = df_merge['species'].apply(lambda x: 1 if any(w in x for w in species_list) else 0)\n",
    "\n",
    "# 1 if columns where dewpoint>mean(62)\n",
    "df_merge['dp_greater_mean'] = df_merge['dewpoint'].apply(lambda x: 1 if x>62 else 0)\n",
    "\n",
    "# 1 if columns contains both WNV present species and dewpoint>mean\n",
    "df_merge['species_greaterthanmean_dp'] = df_merge['if_culex'] + df_merge['dp_greater_mean']\n",
    "df_merge['species_greaterthanmean_dp'] = df_merge['species_greaterthanmean_dp'].apply(lambda x: 1 if x>1 else 0)\n",
    "\n",
    "# 1 if columns between range(60,64) dewpoint\n",
    "df_merge['dp_min_max'] = df_merge['dewpoint'].apply(lambda x: 1 if x in range(60,64) else 0)\n",
    "\n",
    "# 1 if columns contains both WNV present species and between range(60,64) dewpoint\n",
    "df_merge['species_minmax_dp'] = df_merge['if_culex'] + df_merge['dp_min_max']\n",
    "df_merge['species_minmax_dp'] = df_merge['species_minmax_dp'].apply(lambda x: 1 if x>1 else 0)"
   ]
  },
  {
   "cell_type": "code",
   "execution_count": 13,
   "metadata": {},
   "outputs": [],
   "source": [
    "# create new feature for species and wetbulb\n",
    "\n",
    "# 1 if columns where wetbulb>mean\n",
    "df_merge['wb_greater_mean'] = df_merge['wetbulb'].apply(lambda x: 1 if x>66 else 0)\n",
    "\n",
    "# 1 if columns contains both WNV present species and wetbulb>mean\n",
    "df_merge['species_greaterthanmean_wb'] = df_merge['if_culex'] + df_merge['wb_greater_mean']\n",
    "df_merge['species_greaterthanmean_wb'] = df_merge['species_greaterthanmean_wb'].apply(lambda x: 1 if x>1 else 0)\n",
    "\n",
    "# 1 if columns between range(60,70) wetbulb\n",
    "df_merge['wb_min_max'] = df_merge['wetbulb'].apply(lambda x: 1 if x in range(60,70) else 0)\n",
    "\n",
    "# 1 if columns contains both WNV present species and between min and max wetbulb\n",
    "df_merge['species_minmax_wb'] = df_merge['if_culex'] + df_merge['wb_min_max']\n",
    "df_merge['species_minmax_wb'] = df_merge['species_minmax_wb'].apply(lambda x: 1 if x>1 else 0)"
   ]
  },
  {
   "cell_type": "code",
   "execution_count": 14,
   "metadata": {
    "scrolled": false
   },
   "outputs": [
    {
     "data": {
      "text/html": [
       "<div>\n",
       "<style scoped>\n",
       "    .dataframe tbody tr th:only-of-type {\n",
       "        vertical-align: middle;\n",
       "    }\n",
       "\n",
       "    .dataframe tbody tr th {\n",
       "        vertical-align: top;\n",
       "    }\n",
       "\n",
       "    .dataframe thead th {\n",
       "        text-align: right;\n",
       "    }\n",
       "</style>\n",
       "<table border=\"1\" class=\"dataframe\">\n",
       "  <thead>\n",
       "    <tr style=\"text-align: right;\">\n",
       "      <th></th>\n",
       "      <th>species</th>\n",
       "      <th>block</th>\n",
       "      <th>trap</th>\n",
       "      <th>latitude</th>\n",
       "      <th>longitude</th>\n",
       "      <th>addressaccuracy</th>\n",
       "      <th>nummosquitos</th>\n",
       "      <th>wnvpresent</th>\n",
       "      <th>id</th>\n",
       "      <th>station</th>\n",
       "      <th>...</th>\n",
       "      <th>day</th>\n",
       "      <th>if_culex</th>\n",
       "      <th>wb_greater_mean</th>\n",
       "      <th>species_greaterthanmean_wb</th>\n",
       "      <th>wb_min_max</th>\n",
       "      <th>species_minmax_wb</th>\n",
       "      <th>dp_greater_mean</th>\n",
       "      <th>species_greaterthanmean_dp</th>\n",
       "      <th>dp_min_max</th>\n",
       "      <th>species_minmax_dp</th>\n",
       "    </tr>\n",
       "  </thead>\n",
       "  <tbody>\n",
       "    <tr>\n",
       "      <th>0</th>\n",
       "      <td>CULEX PIPIENS/RESTUANS</td>\n",
       "      <td>41</td>\n",
       "      <td>T002</td>\n",
       "      <td>41.954690</td>\n",
       "      <td>-87.800991</td>\n",
       "      <td>9</td>\n",
       "      <td>1.0</td>\n",
       "      <td>0.0</td>\n",
       "      <td>NaN</td>\n",
       "      <td>1</td>\n",
       "      <td>...</td>\n",
       "      <td>29</td>\n",
       "      <td>1</td>\n",
       "      <td>0</td>\n",
       "      <td>0</td>\n",
       "      <td>1</td>\n",
       "      <td>1</td>\n",
       "      <td>0</td>\n",
       "      <td>0</td>\n",
       "      <td>0</td>\n",
       "      <td>0</td>\n",
       "    </tr>\n",
       "    <tr>\n",
       "      <th>1</th>\n",
       "      <td>CULEX RESTUANS</td>\n",
       "      <td>41</td>\n",
       "      <td>T002</td>\n",
       "      <td>41.954690</td>\n",
       "      <td>-87.800991</td>\n",
       "      <td>9</td>\n",
       "      <td>1.0</td>\n",
       "      <td>0.0</td>\n",
       "      <td>NaN</td>\n",
       "      <td>1</td>\n",
       "      <td>...</td>\n",
       "      <td>29</td>\n",
       "      <td>1</td>\n",
       "      <td>0</td>\n",
       "      <td>0</td>\n",
       "      <td>1</td>\n",
       "      <td>1</td>\n",
       "      <td>0</td>\n",
       "      <td>0</td>\n",
       "      <td>0</td>\n",
       "      <td>0</td>\n",
       "    </tr>\n",
       "    <tr>\n",
       "      <th>2</th>\n",
       "      <td>CULEX RESTUANS</td>\n",
       "      <td>62</td>\n",
       "      <td>T007</td>\n",
       "      <td>41.994991</td>\n",
       "      <td>-87.769279</td>\n",
       "      <td>9</td>\n",
       "      <td>1.0</td>\n",
       "      <td>0.0</td>\n",
       "      <td>NaN</td>\n",
       "      <td>1</td>\n",
       "      <td>...</td>\n",
       "      <td>29</td>\n",
       "      <td>1</td>\n",
       "      <td>0</td>\n",
       "      <td>0</td>\n",
       "      <td>1</td>\n",
       "      <td>1</td>\n",
       "      <td>0</td>\n",
       "      <td>0</td>\n",
       "      <td>0</td>\n",
       "      <td>0</td>\n",
       "    </tr>\n",
       "    <tr>\n",
       "      <th>3</th>\n",
       "      <td>CULEX PIPIENS/RESTUANS</td>\n",
       "      <td>79</td>\n",
       "      <td>T015</td>\n",
       "      <td>41.974089</td>\n",
       "      <td>-87.824812</td>\n",
       "      <td>8</td>\n",
       "      <td>1.0</td>\n",
       "      <td>0.0</td>\n",
       "      <td>NaN</td>\n",
       "      <td>1</td>\n",
       "      <td>...</td>\n",
       "      <td>29</td>\n",
       "      <td>1</td>\n",
       "      <td>0</td>\n",
       "      <td>0</td>\n",
       "      <td>1</td>\n",
       "      <td>1</td>\n",
       "      <td>0</td>\n",
       "      <td>0</td>\n",
       "      <td>0</td>\n",
       "      <td>0</td>\n",
       "    </tr>\n",
       "    <tr>\n",
       "      <th>4</th>\n",
       "      <td>CULEX RESTUANS</td>\n",
       "      <td>79</td>\n",
       "      <td>T015</td>\n",
       "      <td>41.974089</td>\n",
       "      <td>-87.824812</td>\n",
       "      <td>8</td>\n",
       "      <td>4.0</td>\n",
       "      <td>0.0</td>\n",
       "      <td>NaN</td>\n",
       "      <td>1</td>\n",
       "      <td>...</td>\n",
       "      <td>29</td>\n",
       "      <td>1</td>\n",
       "      <td>0</td>\n",
       "      <td>0</td>\n",
       "      <td>1</td>\n",
       "      <td>1</td>\n",
       "      <td>0</td>\n",
       "      <td>0</td>\n",
       "      <td>0</td>\n",
       "      <td>0</td>\n",
       "    </tr>\n",
       "    <tr>\n",
       "      <th>...</th>\n",
       "      <td>...</td>\n",
       "      <td>...</td>\n",
       "      <td>...</td>\n",
       "      <td>...</td>\n",
       "      <td>...</td>\n",
       "      <td>...</td>\n",
       "      <td>...</td>\n",
       "      <td>...</td>\n",
       "      <td>...</td>\n",
       "      <td>...</td>\n",
       "      <td>...</td>\n",
       "      <td>...</td>\n",
       "      <td>...</td>\n",
       "      <td>...</td>\n",
       "      <td>...</td>\n",
       "      <td>...</td>\n",
       "      <td>...</td>\n",
       "      <td>...</td>\n",
       "      <td>...</td>\n",
       "      <td>...</td>\n",
       "      <td>...</td>\n",
       "    </tr>\n",
       "    <tr>\n",
       "      <th>126794</th>\n",
       "      <td>CULEX SALINARIUS</td>\n",
       "      <td>21</td>\n",
       "      <td>T054C</td>\n",
       "      <td>41.925652</td>\n",
       "      <td>-87.633590</td>\n",
       "      <td>8</td>\n",
       "      <td>NaN</td>\n",
       "      <td>NaN</td>\n",
       "      <td>116289.0</td>\n",
       "      <td>1</td>\n",
       "      <td>...</td>\n",
       "      <td>2</td>\n",
       "      <td>0</td>\n",
       "      <td>0</td>\n",
       "      <td>0</td>\n",
       "      <td>1</td>\n",
       "      <td>0</td>\n",
       "      <td>0</td>\n",
       "      <td>0</td>\n",
       "      <td>1</td>\n",
       "      <td>0</td>\n",
       "    </tr>\n",
       "    <tr>\n",
       "      <th>126795</th>\n",
       "      <td>CULEX TERRITANS</td>\n",
       "      <td>21</td>\n",
       "      <td>T054C</td>\n",
       "      <td>41.925652</td>\n",
       "      <td>-87.633590</td>\n",
       "      <td>8</td>\n",
       "      <td>NaN</td>\n",
       "      <td>NaN</td>\n",
       "      <td>116290.0</td>\n",
       "      <td>1</td>\n",
       "      <td>...</td>\n",
       "      <td>2</td>\n",
       "      <td>0</td>\n",
       "      <td>0</td>\n",
       "      <td>0</td>\n",
       "      <td>1</td>\n",
       "      <td>0</td>\n",
       "      <td>0</td>\n",
       "      <td>0</td>\n",
       "      <td>1</td>\n",
       "      <td>0</td>\n",
       "    </tr>\n",
       "    <tr>\n",
       "      <th>126796</th>\n",
       "      <td>CULEX TARSALIS</td>\n",
       "      <td>21</td>\n",
       "      <td>T054C</td>\n",
       "      <td>41.925652</td>\n",
       "      <td>-87.633590</td>\n",
       "      <td>8</td>\n",
       "      <td>NaN</td>\n",
       "      <td>NaN</td>\n",
       "      <td>116291.0</td>\n",
       "      <td>1</td>\n",
       "      <td>...</td>\n",
       "      <td>2</td>\n",
       "      <td>0</td>\n",
       "      <td>0</td>\n",
       "      <td>0</td>\n",
       "      <td>1</td>\n",
       "      <td>0</td>\n",
       "      <td>0</td>\n",
       "      <td>0</td>\n",
       "      <td>1</td>\n",
       "      <td>0</td>\n",
       "    </tr>\n",
       "    <tr>\n",
       "      <th>126797</th>\n",
       "      <td>UNSPECIFIED CULEX</td>\n",
       "      <td>21</td>\n",
       "      <td>T054C</td>\n",
       "      <td>41.925652</td>\n",
       "      <td>-87.633590</td>\n",
       "      <td>8</td>\n",
       "      <td>NaN</td>\n",
       "      <td>NaN</td>\n",
       "      <td>116292.0</td>\n",
       "      <td>1</td>\n",
       "      <td>...</td>\n",
       "      <td>2</td>\n",
       "      <td>0</td>\n",
       "      <td>0</td>\n",
       "      <td>0</td>\n",
       "      <td>1</td>\n",
       "      <td>0</td>\n",
       "      <td>0</td>\n",
       "      <td>0</td>\n",
       "      <td>1</td>\n",
       "      <td>0</td>\n",
       "    </tr>\n",
       "    <tr>\n",
       "      <th>126798</th>\n",
       "      <td>CULEX ERRATICUS</td>\n",
       "      <td>21</td>\n",
       "      <td>T054C</td>\n",
       "      <td>41.925652</td>\n",
       "      <td>-87.633590</td>\n",
       "      <td>8</td>\n",
       "      <td>NaN</td>\n",
       "      <td>NaN</td>\n",
       "      <td>116293.0</td>\n",
       "      <td>1</td>\n",
       "      <td>...</td>\n",
       "      <td>2</td>\n",
       "      <td>0</td>\n",
       "      <td>0</td>\n",
       "      <td>0</td>\n",
       "      <td>1</td>\n",
       "      <td>0</td>\n",
       "      <td>0</td>\n",
       "      <td>0</td>\n",
       "      <td>1</td>\n",
       "      <td>0</td>\n",
       "    </tr>\n",
       "  </tbody>\n",
       "</table>\n",
       "<p>126799 rows × 39 columns</p>\n",
       "</div>"
      ],
      "text/plain": [
       "                       species  block   trap   latitude  longitude  \\\n",
       "0       CULEX PIPIENS/RESTUANS     41   T002  41.954690 -87.800991   \n",
       "1               CULEX RESTUANS     41   T002  41.954690 -87.800991   \n",
       "2               CULEX RESTUANS     62   T007  41.994991 -87.769279   \n",
       "3       CULEX PIPIENS/RESTUANS     79   T015  41.974089 -87.824812   \n",
       "4               CULEX RESTUANS     79   T015  41.974089 -87.824812   \n",
       "...                        ...    ...    ...        ...        ...   \n",
       "126794        CULEX SALINARIUS     21  T054C  41.925652 -87.633590   \n",
       "126795         CULEX TERRITANS     21  T054C  41.925652 -87.633590   \n",
       "126796          CULEX TARSALIS     21  T054C  41.925652 -87.633590   \n",
       "126797       UNSPECIFIED CULEX     21  T054C  41.925652 -87.633590   \n",
       "126798         CULEX ERRATICUS     21  T054C  41.925652 -87.633590   \n",
       "\n",
       "        addressaccuracy  nummosquitos  wnvpresent        id  station  ...  \\\n",
       "0                     9           1.0         0.0       NaN        1  ...   \n",
       "1                     9           1.0         0.0       NaN        1  ...   \n",
       "2                     9           1.0         0.0       NaN        1  ...   \n",
       "3                     8           1.0         0.0       NaN        1  ...   \n",
       "4                     8           4.0         0.0       NaN        1  ...   \n",
       "...                 ...           ...         ...       ...      ...  ...   \n",
       "126794                8           NaN         NaN  116289.0        1  ...   \n",
       "126795                8           NaN         NaN  116290.0        1  ...   \n",
       "126796                8           NaN         NaN  116291.0        1  ...   \n",
       "126797                8           NaN         NaN  116292.0        1  ...   \n",
       "126798                8           NaN         NaN  116293.0        1  ...   \n",
       "\n",
       "        day  if_culex  wb_greater_mean  species_greaterthanmean_wb  \\\n",
       "0        29         1                0                           0   \n",
       "1        29         1                0                           0   \n",
       "2        29         1                0                           0   \n",
       "3        29         1                0                           0   \n",
       "4        29         1                0                           0   \n",
       "...     ...       ...              ...                         ...   \n",
       "126794    2         0                0                           0   \n",
       "126795    2         0                0                           0   \n",
       "126796    2         0                0                           0   \n",
       "126797    2         0                0                           0   \n",
       "126798    2         0                0                           0   \n",
       "\n",
       "        wb_min_max  species_minmax_wb  dp_greater_mean  \\\n",
       "0                1                  1                0   \n",
       "1                1                  1                0   \n",
       "2                1                  1                0   \n",
       "3                1                  1                0   \n",
       "4                1                  1                0   \n",
       "...            ...                ...              ...   \n",
       "126794           1                  0                0   \n",
       "126795           1                  0                0   \n",
       "126796           1                  0                0   \n",
       "126797           1                  0                0   \n",
       "126798           1                  0                0   \n",
       "\n",
       "        species_greaterthanmean_dp  dp_min_max species_minmax_dp  \n",
       "0                                0           0                 0  \n",
       "1                                0           0                 0  \n",
       "2                                0           0                 0  \n",
       "3                                0           0                 0  \n",
       "4                                0           0                 0  \n",
       "...                            ...         ...               ...  \n",
       "126794                           0           1                 0  \n",
       "126795                           0           1                 0  \n",
       "126796                           0           1                 0  \n",
       "126797                           0           1                 0  \n",
       "126798                           0           1                 0  \n",
       "\n",
       "[126799 rows x 39 columns]"
      ]
     },
     "execution_count": 14,
     "metadata": {},
     "output_type": "execute_result"
    }
   ],
   "source": [
    "df_merge"
   ]
  },
  {
   "cell_type": "code",
   "execution_count": null,
   "metadata": {},
   "outputs": [],
   "source": [
    "126799, 34"
   ]
  }
 ],
 "metadata": {
  "kernelspec": {
   "display_name": "Python 3",
   "language": "python",
   "name": "python3"
  },
  "language_info": {
   "codemirror_mode": {
    "name": "ipython",
    "version": 3
   },
   "file_extension": ".py",
   "mimetype": "text/x-python",
   "name": "python",
   "nbconvert_exporter": "python",
   "pygments_lexer": "ipython3",
   "version": "3.7.6"
  }
 },
 "nbformat": 4,
 "nbformat_minor": 2
}
